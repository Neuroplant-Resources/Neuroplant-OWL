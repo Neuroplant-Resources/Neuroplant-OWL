{
 "cells": [
  {
   "cell_type": "code",
   "execution_count": 1,
   "id": "residential-selection",
   "metadata": {},
   "outputs": [
    {
     "name": "stderr",
     "output_type": "stream",
     "text": [
      "C:\\ProgramData\\Anaconda3\\envs\\neuroplant\\lib\\site-packages\\statsmodels\\tools\\_testing.py:19: FutureWarning: pandas.util.testing is deprecated. Use the functions in the public API at pandas.testing instead.\n",
      "  import pandas.util.testing as tm\n"
     ]
    }
   ],
   "source": [
    "import pandas as pd\n",
    "import numpy as np\n",
    "import matplotlib.pyplot as plt\n",
    "import pathlib as plb\n",
    "import seaborn as sns\n",
    "from scipy import stats\n",
    "import statistics\n",
    "import dabest\n",
    "from skimage.io import imread\n",
    "from pandas.api.types import CategoricalDtype\n",
    "from statsmodels.formula.api import ols\n",
    "from scipy.stats import shapiro, normaltest, kruskal, mannwhitneyu"
   ]
  },
  {
   "cell_type": "code",
   "execution_count": 2,
   "id": "smoking-roulette",
   "metadata": {},
   "outputs": [],
   "source": [
    "all_dat = pd.read_csv('C:/Users/Emily/Desktop/current_analysis/auto_results/DS2R1_11.csv', index_col=0)"
   ]
  },
  {
   "cell_type": "code",
   "execution_count": 3,
   "id": "identical-thinking",
   "metadata": {},
   "outputs": [],
   "source": [
    "passed = all_dat.loc[all_dat['Passes QC'] == 'Y']"
   ]
  },
  {
   "cell_type": "code",
   "execution_count": 4,
   "id": "hybrid-principal",
   "metadata": {
    "scrolled": false
   },
   "outputs": [],
   "source": [
    "g = passed.groupby(['Compound', 'Strain', 'Plate ID']).count()\n",
    "g.to_csv('C:/Users/Emily/Desktop/current_analysis/group_counts.csv')"
   ]
  },
  {
   "cell_type": "code",
   "execution_count": 7,
   "id": "infrared-natural",
   "metadata": {
    "scrolled": true
   },
   "outputs": [],
   "source": [
    "passed.groupby(['Compound', 'Strain']).count()"
   ]
  },
  {
   "cell_type": "code",
   "execution_count": null,
   "id": "small-flower",
   "metadata": {},
   "outputs": [],
   "source": []
  }
 ],
 "metadata": {
  "kernelspec": {
   "display_name": "Python 3",
   "language": "python",
   "name": "python3"
  },
  "language_info": {
   "codemirror_mode": {
    "name": "ipython",
    "version": 3
   },
   "file_extension": ".py",
   "mimetype": "text/x-python",
   "name": "python",
   "nbconvert_exporter": "python",
   "pygments_lexer": "ipython3",
   "version": "3.7.4"
  }
 },
 "nbformat": 4,
 "nbformat_minor": 5
}
