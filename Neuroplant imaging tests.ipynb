{
 "cells": [
  {
   "cell_type": "code",
   "execution_count": 1,
   "metadata": {},
   "outputs": [],
   "source": [
    "import pandas as pd\n",
    "import time\n",
    "# from skimage import io\n",
    "# from skimage import filters\n",
    "import skimage\n",
    "from skimage import feature\n",
    "from skimage import morphology\n",
    "from skimage import measure\n",
    "import matplotlib as mpl\n",
    "import matplotlib.pyplot as plt\n",
    "import scipy.stats as stats\n",
    "from scipy import ndimage as ndi\n",
    "import numpy as np\n",
    "\n",
    "start = time.time()"
   ]
  },
  {
   "cell_type": "code",
   "execution_count": null,
   "metadata": {},
   "outputs": [],
   "source": [
    "pre_image = skimage.io.imread('../NPP001_Pre.tif')\n",
    "pre_image = pre_image[0:int(pre_image.shape[0]/4),:]\n",
    "fin_image = skimage.io.imread('../NPP001_fin.tif')\n",
    "fin_image = fin_image[0:int(fin_image.shape[0]/4),:]"
   ]
  },
  {
   "cell_type": "code",
   "execution_count": null,
   "metadata": {},
   "outputs": [],
   "source": [
    "# pre_x_min = 200\n",
    "# pre_x_max = 3000-2000\n",
    "# pre_y_min = 1500+1000\n",
    "# pre_y_max = 4000-1000\n",
    "\n",
    "# fin_x_min = 200\n",
    "# fin_x_max = 3000-2000\n",
    "# fin_y_min = 1500+1000\n",
    "# fin_y_max = 4000-1000\n",
    "\n",
    "pre_x_min = 0\n",
    "pre_x_max = min(pre_image.shape[1], fin_image.shape[1])\n",
    "pre_y_min = 0\n",
    "pre_y_max = min(pre_image.shape[0], fin_image.shape[0])\n",
    "\n",
    "fin_x_min = 0\n",
    "fin_x_max = min(pre_image.shape[1], fin_image.shape[1])\n",
    "fin_y_min = 0\n",
    "fin_y_max = min(pre_image.shape[0], fin_image.shape[0])\n",
    "\n",
    "bkg_subtract = np.subtract(pre_image[fin_y_min:fin_y_max, fin_x_min:fin_x_max].astype('int16'),\n",
    "                           fin_image[pre_y_min:pre_y_max, pre_x_min:pre_x_max].astype('int16'))\n",
    "bkg_subtract[bkg_subtract < 0] = 0\n",
    "bkg_subtract = bkg_subtract.astype('uint8')\n",
    "\n",
    "thresh = skimage.filters.threshold_otsu(bkg_subtract)\n",
    "# print('Binarization threshold is', str(thresh))\n",
    "binarized = bkg_subtract > thresh"
   ]
  },
  {
   "cell_type": "code",
   "execution_count": null,
   "metadata": {},
   "outputs": [],
   "source": [
    "labeled_array, num_features = ndi.label(binarized)\n",
    "region_info = measure.regionprops(labeled_array)\n",
    "print('Found', str(num_features), 'features.')"
   ]
  },
  {
   "cell_type": "code",
   "execution_count": null,
   "metadata": {},
   "outputs": [],
   "source": [
    "fig, ax = plt.subplots(figsize=(10, 10))\n",
    "ax.imshow(bkg_subtract)\n",
    "\n",
    "for region in region_info:\n",
    "    # take regions with reasonable areas\n",
    "    if (region.area >= 2000 and region.area <=10000):\n",
    "        # draw rectangle around segmented worms\n",
    "        minr, minc, maxr, maxc = region.bbox\n",
    "        rect = mpl.patches.Rectangle((minc, minr), maxc - minc, maxr - minr,\n",
    "                                  fill=False, edgecolor='red', linewidth=2)\n",
    "        ax.add_patch(rect)\n",
    "\n",
    "ax.set_ylim(1000, 4000)\n",
    "ax.set_xlim(2000, 5000)\n",
    "fig.savefig('../filtered_regions.png')"
   ]
  },
  {
   "cell_type": "code",
   "execution_count": null,
   "metadata": {},
   "outputs": [],
   "source": [
    "# regions = morphology.watershed(binarized)\n",
    "# print(str(int(time.time()-start)))"
   ]
  },
  {
   "cell_type": "code",
   "execution_count": null,
   "metadata": {},
   "outputs": [],
   "source": [
    "# edges = feature.canny(bkg_subtract)"
   ]
  },
  {
   "cell_type": "code",
   "execution_count": null,
   "metadata": {},
   "outputs": [],
   "source": [
    "fig, axes = plt.subplots(ncols=1, nrows=1, figsize=(10, 10))\n",
    "# axes[0].imshow(bkg_subtract[1000:4000, 2000:5000])\n",
    "axes.imshow(binarized[1000:4000, 2000:5000])\n",
    "fig.savefig('../binarized_section_of image.png')"
   ]
  },
  {
   "cell_type": "code",
   "execution_count": null,
   "metadata": {},
   "outputs": [],
   "source": [
    "# plt.hist(pre_image.flatten(), bins=16)\n",
    "# plt.show()"
   ]
  },
  {
   "cell_type": "code",
   "execution_count": null,
   "metadata": {},
   "outputs": [],
   "source": [
    "# plt.hist(fin_image.flatten(), bins=16)\n",
    "# plt.show()"
   ]
  },
  {
   "cell_type": "code",
   "execution_count": null,
   "metadata": {},
   "outputs": [],
   "source": [
    "# plt.hist(bkg_subtract.flatten(), bins=16)\n",
    "# plt.show()"
   ]
  },
  {
   "cell_type": "code",
   "execution_count": null,
   "metadata": {},
   "outputs": [],
   "source": [
    "print('Notebook ran in', str(int(time.time()-start)), 'seconds.')"
   ]
  }
 ],
 "metadata": {
  "kernelspec": {
   "display_name": "Python 3",
   "language": "python",
   "name": "python3"
  },
  "language_info": {
   "codemirror_mode": {
    "name": "ipython",
    "version": 3
   },
   "file_extension": ".py",
   "mimetype": "text/x-python",
   "name": "python",
   "nbconvert_exporter": "python",
   "pygments_lexer": "ipython3",
   "version": "3.7.4"
  }
 },
 "nbformat": 4,
 "nbformat_minor": 2
}
