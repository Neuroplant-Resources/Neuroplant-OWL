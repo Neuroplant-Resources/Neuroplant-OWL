{
 "cells": [
  {
   "cell_type": "markdown",
   "metadata": {},
   "source": [
    "# Scanner Focal Plane Adjustment"
   ]
  },
  {
   "cell_type": "markdown",
   "metadata": {},
   "source": [
    "## Import requred libraries"
   ]
  },
  {
   "cell_type": "code",
   "execution_count": null,
   "metadata": {},
   "outputs": [],
   "source": [
    "import matplotlib.pyplot as plt\n",
    "import matplotlib.patches as mpatches\n",
    "import numpy as np\n",
    "import pandas as pd\n",
    "from skimage.io import imread\n",
    "from skimage.util import crop\n",
    "from skimage import data\n",
    "from skimage.filters import threshold_otsu\n",
    "from skimage.segmentation import clear_border\n",
    "from skimage.measure import label, regionprops, regionprops_table\n",
    "from skimage.color import label2rgb\n",
    "from skimage import measure\n",
    "from skimage.morphology import closing, square, remove_small_objects\n",
    "from tifffile import imsave\n",
    "%matplotlib inline\n"
   ]
  },
  {
   "cell_type": "markdown",
   "metadata": {},
   "source": [
    "## Upload the image file"
   ]
  },
  {
   "cell_type": "code",
   "execution_count": null,
   "metadata": {},
   "outputs": [],
   "source": [
    "File_nam='LRH_200803_001_POST'\n",
    "image=np.invert(imread(File_nam+'.tif'))\n",
    "rows = []\n",
    "# apply threshold\n",
    "thresh = threshold_otsu(image)\n",
    "bw = closing(image > thresh, square(10))\n",
    "\n",
    "# remove artifacts connected to image border\n",
    "cleared = remove_small_objects(clear_border(bw), 1000000)\n",
    "\n",
    "# label image regions\n",
    "label_image = label(cleared)\n",
    "image_label_overlay = label2rgb(label_image, image=image, bg_label=0)"
   ]
  },
  {
   "cell_type": "markdown",
   "metadata": {},
   "source": [
    "## Working on images properties"
   ]
  },
  {
   "cell_type": "code",
   "execution_count": null,
   "metadata": {},
   "outputs": [],
   "source": [
    "props = regionprops_table(label_image, properties=('label','centroid', 'bbox', 'area'))\n",
    "dff=pd.DataFrame(props)\n",
    "df=dff.sort_values(by=['bbox-1'])\n",
    "df.reset_index(drop=True, inplace=True)\n",
    "\n",
    "# Sort the plates into the left and right\n",
    "MinCol=list(df.items())[4][1][7]\n",
    "mask = df['bbox-1'] > MinCol\n",
    "df_r = df[mask]\n",
    "df_l = df[~mask]\n",
    "\n",
    "## Split the right plates to upper (#1) and lower (#4)\n",
    "dffr=df_r.sort_values(by=['bbox-0'])\n",
    "dffr.reset_index(drop=True, inplace=True)\n",
    "MinCol1=list(dffr.items())[3][1][3]\n",
    "mask = df_r['bbox-0'] > MinCol1\n",
    "dff4 = df_r[mask]\n",
    "dff1 = df_r[~mask]\n",
    "\n",
    "### Sort the wells on each plate\n",
    "df1=dff1.sort_values(by=['bbox-0'])\n",
    "df4=dff4.sort_values(by=['bbox-0'])\n",
    "df4.reset_index(drop=True, inplace=True)\n",
    "df1.reset_index(drop=True, inplace=True)\n",
    "\n",
    "## Split the left plates to upper (#2) and lower (#3)\n",
    "dffl=df_l.sort_values(by=['bbox-0'])\n",
    "dffl.reset_index(drop=True, inplace=True)\n",
    "MinCol2=list(dffl.items())[3][1][3]\n",
    "mask = df_l['bbox-0'] > MinCol2\n",
    "dff3 = df_l[mask]\n",
    "dff2 = df_l[~mask]\n",
    "\n",
    "### Sort the wells on each plate\n",
    "df2=dff2.sort_values(by=['bbox-0'])\n",
    "df3=dff3.sort_values(by=['bbox-0'])\n",
    "df3.reset_index(drop=True, inplace=True)\n",
    "df2.reset_index(drop=True, inplace=True)\n",
    "\n",
    "## Update the label of each well\n",
    "new_label_1 = pd.Series(['1P', '1Q','1R','1S'], name='label', index=[0,1,2,3])\n",
    "df1.update(new_label_1)\n",
    "\n",
    "new_label_2 = pd.Series(['2P', '2Q','2R','2S'], name='label', index=[0,1,2,3])\n",
    "df2.update(new_label_2)\n",
    "\n",
    "new_label_3 = pd.Series(['3P', '3Q','3R','3S'], name='label', index=[0,1,2,3])\n",
    "df3.update(new_label_3)\n",
    "\n",
    "new_label_4 = pd.Series(['4P', '4Q','4R','4S'], name='label', index=[0,1,2,3])\n",
    "df4.update(new_label_4)\n",
    "\n",
    "### Append the dataframes\n",
    "df_f=df1.append(df2, ignore_index=True).append(df3, ignore_index=True).append(df4, ignore_index=True)\n",
    "#print(df_f)"
   ]
  },
  {
   "cell_type": "markdown",
   "metadata": {},
   "source": [
    "## Ploting and saving the images"
   ]
  },
  {
   "cell_type": "code",
   "execution_count": null,
   "metadata": {
    "scrolled": true
   },
   "outputs": [],
   "source": [
    "%matplotlib inline\n",
    "fig, ax = plt.subplots(figsize=(20, 12))\n",
    "ax.imshow(image_label_overlay)\n",
    "oun = 0\n",
    "for region in regionprops(label_image):\n",
    "    minr, minc, maxr, maxc = region.bbox\n",
    "\n",
    "    rect = mpatches.Rectangle((minc, minr), maxc - minc, maxr - minr,\n",
    "                         fill=False, edgecolor='red', linewidth=3)\n",
    "    cropped_image = image[df_f.values[oun][3]:df_f.values[oun][5], df_f.values[oun][4]:df_f.values[oun][6]]\n",
    "    #imsave(df_f.values[oun][0]+'.tif', cropped_image)\n",
    "    gy, gx = np.gradient(cropped_image)\n",
    "    gnorm = np.sqrt(gx**2 + gy**2)\n",
    "    sharpness = np.average(gnorm)\n",
    "    ax.add_patch(rect)\n",
    "    plt.text(df_f.values[oun][2], df_f.values[oun][1], 'label:'+df_f.values[oun][0]+'\\nSh:'+\"%.2f\"%sharpness,\n",
    "        {'color': 'black', 'fontsize': 20, 'ha': 'center', 'va': 'center',\n",
    "         'bbox': dict(boxstyle=\"round\", fc=\"white\", ec=\"black\", pad=0.2)})\n",
    "\n",
    "\n",
    "    oun += 1\n",
    "ax.set_axis_off()\n",
    "plt.tight_layout()\n",
    "plt.title(File_nam, fontsize=20, color=\"red\")\n",
    "plt.show()\n",
    "fig.savefig('ER_'+File_nam+'.tif', dpi=100)"
   ]
  },
  {
   "cell_type": "code",
   "execution_count": null,
   "metadata": {},
   "outputs": [],
   "source": []
  }
 ],
 "metadata": {
  "kernelspec": {
   "display_name": "Python 3",
   "language": "python",
   "name": "python3"
  },
  "language_info": {
   "codemirror_mode": {
    "name": "ipython",
    "version": 3
   },
   "file_extension": ".py",
   "mimetype": "text/x-python",
   "name": "python",
   "nbconvert_exporter": "python",
   "pygments_lexer": "ipython3",
   "version": "3.8.3"
  }
 },
 "nbformat": 4,
 "nbformat_minor": 4
}
