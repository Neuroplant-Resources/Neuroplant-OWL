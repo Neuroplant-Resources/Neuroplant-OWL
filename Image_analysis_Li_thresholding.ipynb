{
 "cells": [
  {
   "cell_type": "markdown",
   "metadata": {},
   "source": [
    "## To run the code, make sure that you have the correct file structure:\n",
    "\n",
    "1. Create a folder where you would like the to hold all of the data for analysis, which includes the images, metadata, and where to put the results. Keep track of this file path, you will be asked to provide it to perform the analysis.\n",
    "2. Create a sub-folder for all of you images and name it \"Images'\n",
    "3. Create another sub-folder for the results and name it \"automated_results\"\n",
    "4. If you are analyzing a batch of images, create a folder named 'metadata' and place your image and batch metadata here.\n",
    "\n",
    "\n",
    "#### Load Libraries"
   ]
  },
  {
   "cell_type": "code",
   "execution_count": 1,
   "metadata": {},
   "outputs": [],
   "source": [
    "import pandas as pd\n",
    "import time\n",
    "import skimage\n",
    "from skimage import io\n",
    "from skimage import filters\n",
    "from skimage import feature\n",
    "from skimage import morphology\n",
    "from skimage import measure\n",
    "from skimage import exposure\n",
    "import matplotlib as mpl\n",
    "import matplotlib.pyplot as plt\n",
    "import scipy.stats as stats\n",
    "from scipy import ndimage as ndi\n",
    "import numpy as np\n",
    "import pathlib as plb \n",
    "import csv"
   ]
  },
  {
   "cell_type": "markdown",
   "metadata": {},
   "source": []
  },
  {
   "cell_type": "markdown",
   "metadata": {},
   "source": [
    "### Functions for Image Analysis\n",
    "\n",
    "#### Load data\n"
   ]
  },
  {
   "cell_type": "code",
   "execution_count": null,
   "metadata": {},
   "outputs": [],
   "source": []
  },
  {
   "cell_type": "code",
   "execution_count": 2,
   "metadata": {},
   "outputs": [],
   "source": [
    "# Setting up the file path and reading in the image to be analyzed\n",
    "\n",
    "def load_image_data(data_location, prefix, image_num):\n",
    "   \n",
    "    fin_file = data_location.joinpath(prefix + '_' +  image_num + '_POST.tif' )\n",
    "    fin_image = skimage.io.imread(fin_file)\n",
    "\n",
    "    return fin_image\n",
    "\n"
   ]
  },
  {
   "cell_type": "code",
   "execution_count": 3,
   "metadata": {},
   "outputs": [],
   "source": [
    "# This function is only invoked when processing a batch of images. It collects the plate\n",
    "# id from the metadata.  Still need to incorporate the compound info into the metadata\n",
    "# sheet and collection will happen here\n",
    "\n",
    "def get_plate_id(slot, image_pointer, img_metdat):\n",
    "    file_name = image_pointer.resolve().stem[:] + '.tif'\n",
    "\n",
    "    if slot == 1:\n",
    "        data_list = img_metdat.loc[img_metdat['filename'] == file_name, ['slot1_plate', 'slot1_compound' ]].values.flatten().tolist()\n",
    "        plate = data_list[0]\n",
    "        compound = data_list[1]\n",
    "    elif slot == 2:\n",
    "        data_list = img_metdat.loc[img_metdat['filename'] == file_name, ['slot2_plate', 'slot2_compound' ]].values.flatten().tolist()\n",
    "        plate = data_list[0]\n",
    "        compound = data_list[1]\n",
    "    elif slot == 3:\n",
    "        data_list = img_metdat.loc[img_metdat['filename'] == file_name, ['slot3_plate', 'slot3_compound' ]].values.flatten().tolist()\n",
    "        plate = data_list[0]\n",
    "        compound = data_list[1]\n",
    "    elif slot == 4:\n",
    "        data_list = img_metdat.loc[img_metdat['filename'] == file_name, ['slot4_plate', 'slot4_compound' ]].values.flatten().tolist()\n",
    "        plate = data_list[0]\n",
    "        compound = data_list[1]\n",
    "        \n",
    "    return plate, compound\n"
   ]
  },
  {
   "cell_type": "code",
   "execution_count": 4,
   "metadata": {},
   "outputs": [],
   "source": [
    "# This is only invoked when processing a batch of assays\n",
    "# The strain that is placed is in each well is captured in the metadata and collected here\n",
    "# for the analysis\n",
    "def get_strain(prefix, well_id, batch_dat):\n",
    "    if well_id == 'P':\n",
    "        strain_l = batch_dat.loc[batch_dat['dates_modified'] == prefix, ['strain_wellP']].values.flatten().tolist()\n",
    "        strain = strain_l[0]\n",
    "    elif well_id == 'Q':\n",
    "        strain_l = batch_dat.loc[batch_dat['dates_modified'] == prefix, ['strain_wellQ']].values.flatten().tolist()\n",
    "        strain = strain_l[0]\n",
    "    elif well_id == 'R':\n",
    "        strain_l = batch_dat.loc[batch_dat['dates_modified'] == prefix, ['strain_wellR']].values.flatten().tolist()\n",
    "        strain = strain_l[0]\n",
    "    elif well_id == 'S':\n",
    "        strain_l = batch_dat.loc[batch_dat['dates_modified'] == prefix, ['strain_wellS']].values.flatten().tolist()\n",
    "        strain = strain_l[0]\n",
    "        \n",
    "    return strain"
   ]
  },
  {
   "cell_type": "markdown",
   "metadata": {},
   "source": [
    "## Cropping images\n",
    "1. Cropping to individual plates\n",
    "2. Cropping to individual wells.\n",
    "3. The location of the plates on the scanner has important implications to how the wells are cropped. The outer edges of the plates have more 'dead' space in the images and need to be cropped to avoid bias relative to the center of the plate."
   ]
  },
  {
   "cell_type": "code",
   "execution_count": 5,
   "metadata": {},
   "outputs": [],
   "source": [
    "# TO be replaced by Ehsan's autocropping code\n",
    "\n",
    "def crop_to_one_plate(fin_image, slot_id):\n",
    "\n",
    "    # select bounds of the slot we're working on now\n",
    "    if slot_id == 1:\n",
    "        upper_boundary = 760\n",
    "        lower_boundary = 6786\n",
    "        left_boundary = 5440\n",
    "        right_boundary = 9444\n",
    "    elif slot_id == 2:\n",
    "        upper_boundary = 760\n",
    "        lower_boundary = 6786\n",
    "        left_boundary = 784 \n",
    "        right_boundary = 4788\n",
    "    elif slot_id == 3:\n",
    "        upper_boundary = 7480\n",
    "        lower_boundary = 13506\n",
    "        left_boundary = 784\n",
    "        right_boundary = 4788\n",
    "    elif slot_id == 4:\n",
    "        upper_boundary = 7480\n",
    "        lower_boundary = 13506\n",
    "        left_boundary = 5440\n",
    "        right_boundary = 9444\n",
    "    else:\n",
    "        raise ValueError('Lane label not recognized.')\n",
    "\n",
    "    fin_image = fin_image[upper_boundary:lower_boundary, left_boundary:right_boundary]\n",
    "    \n",
    "    return fin_image\n",
    "\n"
   ]
  },
  {
   "cell_type": "code",
   "execution_count": 6,
   "metadata": {},
   "outputs": [],
   "source": [
    "# To account for the dead space and correct insure that the CI is being calculated the same\n",
    "# for the left and right side plates, we need to crop them a little differently.\n",
    "# This will be replaced by auto cropping\n",
    "\n",
    "def left_crop_to_one_well(fin_image, well_id):\n",
    "    # select bounds of the lane we're working on now\n",
    "    Left_boundary = 300\n",
    "    Right_boundary = 3724\n",
    "    if well_id == 'P':\n",
    "        Upper_boundary = 265\n",
    "        Lower_boundary = 1415\n",
    "    elif well_id == 'Q':\n",
    "        Upper_boundary = 1725\n",
    "        Lower_boundary = 2875\n",
    "    elif well_id == 'R':\n",
    "        Upper_boundary = 3165\n",
    "        Lower_boundary = 4315\n",
    "    elif well_id == 'S':\n",
    "        Upper_boundary = 4615\n",
    "        Lower_boundary = 5765\n",
    "    fin_image = fin_image[ Upper_boundary:Lower_boundary ,Left_boundary:Right_boundary ]\n",
    "\n",
    "    \n",
    "    # Crop larger image to make before and after images the same size\n",
    "    #x_min = 0\n",
    "    #x_max = fin_image.shape[1]\n",
    "    \n",
    "    #y_min = 100\n",
    "    #y_max = 3790 # min(pre_image.shape[0], fin_image.shape[0])\n",
    "    \n",
    "    #fin_image = fin_image[y_min:y_max, x_min:x_max]\n",
    "    \n",
    "    return fin_image\n",
    "\n",
    "def right_crop_to_one_well(fin_image, well_id):\n",
    "    # select bounds of the lane we're working on now\n",
    "    Left_boundary = 190\n",
    "    Right_boundary = 3614\n",
    "    if well_id == 'P':\n",
    "        Upper_boundary = 265\n",
    "        Lower_boundary = 1415\n",
    "    elif well_id == 'Q':\n",
    "        Upper_boundary = 1725\n",
    "        Lower_boundary = 2875\n",
    "    elif well_id == 'R':\n",
    "        Upper_boundary = 3165\n",
    "        Lower_boundary = 4315\n",
    "    elif well_id == 'S':\n",
    "        Upper_boundary = 4615\n",
    "        Lower_boundary = 5765\n",
    "    fin_image = fin_image[ Upper_boundary:Lower_boundary , Left_boundary:Right_boundary ]\n",
    "    \n",
    "    return fin_image\n"
   ]
  },
  {
   "cell_type": "markdown",
   "metadata": {},
   "source": [
    "### Find worms"
   ]
  },
  {
   "cell_type": "code",
   "execution_count": 7,
   "metadata": {},
   "outputs": [],
   "source": [
    "def find_worms(fin_image):\n",
    "    feature_find_start = time.time()\n",
    "    \n",
    "    ## Threshold to get binary image\n",
    "    thresh = skimage.filters.threshold_li(fin_image)\n",
    "    binarized = fin_image > thresh\n",
    "\n",
    "    ## Find features in binary image\n",
    "    labeled_array, num_features = ndi.label(binarized)\n",
    "    all_regions = measure.regionprops(label_image=labeled_array, intensity_image=fin_image,\n",
    "                                      coordinates='rc')\n",
    "\n",
    "    filtered_regions = []\n",
    "    for region in all_regions:\n",
    "        area = region.area\n",
    "\n",
    "        if area >= 90 and area <=1000 and region.major_axis_length < 150:\n",
    "            filtered_regions.append(region)\n",
    "            #print(area)\n",
    "            \n",
    "#     print('Worm finding and filtering took', str(int(time.time() - feature_find_start)), 'seconds.')\n",
    "    return filtered_regions"
   ]
  },
  {
   "cell_type": "markdown",
   "metadata": {},
   "source": [
    "### Save worm locations"
   ]
  },
  {
   "cell_type": "code",
   "execution_count": 8,
   "metadata": {},
   "outputs": [],
   "source": [
    "def save_worm_locations(filename, worms):\n",
    "    with open(filename, 'w', newline='') as csvfile:\n",
    "        worm_writer = csv.writer(csvfile, delimiter=',')\n",
    "        worm_writer.writerow([' ','X','Y']) # header row\n",
    "\n",
    "        worm_num = 1\n",
    "        for worm in worms:\n",
    "            worm_writer.writerow([worm_num, worm.centroid[1], worm.centroid[0]])\n",
    "            worm_num += 1"
   ]
  },
  {
   "cell_type": "markdown",
   "metadata": {},
   "source": [
    "### Calculate Chemotaxis Index"
   ]
  },
  {
   "cell_type": "code",
   "execution_count": 9,
   "metadata": {},
   "outputs": [],
   "source": [
    "def calc_chemotaxis_index(worm_regions):\n",
    "   \n",
    "    ## Assign features to zones of the plate\n",
    "    left_area_boundary = int(3424*4/9) #8000\n",
    "    right_area_boundary = int(3424*5/9)\n",
    "\n",
    "    left_side_worms = [worm for worm in worm_regions if worm.centroid[1] <= left_area_boundary]\n",
    "    middle_worms = [worm for worm in worm_regions \n",
    "                    if worm.centroid[1] > left_area_boundary and worm.centroid[1] < right_area_boundary]\n",
    "    right_side_worms = [worm for worm in worm_regions if worm.centroid[1] >= right_area_boundary]\n",
    "\n",
    "    ## Calculate chemotaxis index\n",
    "    worms_in_left_region = len(left_side_worms)\n",
    "    worms_in_middle_region = len(middle_worms)\n",
    "    worms_in_right_region = len(right_side_worms)\n",
    "    total_worms_found = len(worm_regions)\n",
    "    #print('Left; ' + str(worms_in_left_region) + '   Right: ' + str(worms_in_right_region))\n",
    "    \n",
    "    chemotaxis_index = ((worms_in_left_region - worms_in_right_region) \n",
    "                        / (worms_in_left_region + worms_in_right_region))\n",
    "  \n",
    "    x_coords = []\n",
    "    y_coords = []\n",
    "    for worm in worm_regions:\n",
    "#         x_sum += worm.centroid[0]\n",
    "#         y_sum += worm.centroid[1]\n",
    "        x_coords.append(worm.centroid[0])\n",
    "        y_coords.append(worm.centroid[1])\n",
    "\n",
    "    centroid = (sum(x_coords)/len(x_coords), sum(y_coords)/len(y_coords))\n",
    "\n",
    "    return chemotaxis_index, centroid"
   ]
  },
  {
   "cell_type": "code",
   "execution_count": 10,
   "metadata": {},
   "outputs": [],
   "source": [
    "# Currently not being invoked. but here in case we want to plot\n",
    "\n",
    "def plot_worms(df, fin_image):\n",
    "\n",
    "    fig, ax = plt.subplots(figsize=(5, 10))\n",
    "\n",
    "    ax.imshow(fin_image)#[y_min:y_max, x_min:x_max])\n",
    "    ax.set_title('Worm Locations' +prefix + '_' + plate_id + '_'+ well_id)\n",
    "    for index, row in df.iterrows():\n",
    "        minr, minc, maxr, maxc = row['bbox']\n",
    "\n",
    "        rect = mpl.patches.Rectangle((minc, minr), maxc - minc, maxr - minr,\n",
    "                                  fill=False, edgecolor='red', linewidth=.5)\n",
    "        ax.add_patch(rect)\n",
    "        \n",
    "    #fig.savefig('../test_figures/' + prefix + plate_id + well_id +'.jpg')\n",
    "#    cv2.imwrite('../test_figures/' + plate_id + well_id +'.jpg', fig)"
   ]
  },
  {
   "cell_type": "markdown",
   "metadata": {},
   "source": [
    "## Code for anylizing a single image"
   ]
  },
  {
   "cell_type": "code",
   "execution_count": 11,
   "metadata": {},
   "outputs": [],
   "source": [
    "# Only invoked for single image analysis. We have the option to capture compound and strain\n",
    "# info. These have been commented out to do a simple count and CI capture.\n",
    "\n",
    "class Plate_info:\n",
    "    def __init__(self, slot, pID):\n",
    "        self.slot = slot\n",
    "        self.pID = pID\n",
    "        #self.compound = compound\n",
    "        #self.wellP = strainP\n",
    "        #self.wellQ = strainQ\n",
    "        #self.wellR = strainR\n",
    "        #self.wellS = strainS\n"
   ]
  },
  {
   "cell_type": "code",
   "execution_count": 12,
   "metadata": {},
   "outputs": [],
   "source": [
    "# Only invoked for single image analysis. We have the option to capture compound and strain\n",
    "# info. These have been commented out to do a simple count and CI capture.\n",
    "def capture_data(snum):\n",
    "    data = Plate_info(snum, input('Enter plate ID: ')) \n",
    "                      #input('Enter compound applied to plate: '),\n",
    "                      #input('Enter strain in well P: '),\n",
    "                      #input('Enter strain in well Q: '),\n",
    "                      #input('Enter strain in well R: '),\n",
    "                      #input('Enter strain in well S: '))\n",
    "    data = data.__dict__\n",
    "    return data"
   ]
  },
  {
   "cell_type": "code",
   "execution_count": 13,
   "metadata": {},
   "outputs": [],
   "source": [
    "# The user is asked if there are plates present in all of the slots. If a plate is missing\n",
    "# from one of the slots, the code ignores the slot and doesn't waste computational energy trying\n",
    "# to count \"nothing\"\n",
    "\n",
    "def one_image_metdat():\n",
    "    slots = {}\n",
    "    for i in range(1,5):\n",
    "        num = i\n",
    "        check = user_input(num)\n",
    "        if check == 'n' or check == 'no':\n",
    "            break\n",
    "        else:\n",
    "            slots[i] = check\n",
    "    return slots\n",
    "\n"
   ]
  },
  {
   "cell_type": "code",
   "execution_count": 14,
   "metadata": {},
   "outputs": [],
   "source": [
    "def user_input(snum):\n",
    "    answer = input('Is there a plate in slot %d? ' %snum).lower()\n",
    "    if answer == 'y' or answer == 'yes':\n",
    "        info = capture_data(snum)\n",
    "        return info\n",
    "    elif answer == 'n' or answer == 'no':\n",
    "        return answer\n",
    "    else:\n",
    "        print('Please enter a valid response')\n",
    "        return user_input(snum)\n",
    "        \n"
   ]
  },
  {
   "cell_type": "code",
   "execution_count": 15,
   "metadata": {
    "scrolled": true
   },
   "outputs": [],
   "source": [
    "def quick_process(img, auto_loc, metdat):\n",
    "    \n",
    "    loop_start = time.time()\n",
    "    results = []\n",
    "    bins = 9\n",
    "    image_id = img.stem\n",
    "\n",
    "\n",
    "    # Load the entire image\n",
    "    fin_image = skimage.io.imread(img)\n",
    "#    print('Image load took', str(int(time.time()-plate_start)), 'seconds.')\n",
    "\n",
    "\n",
    "    for i in range(len(metdat)):\n",
    "        slot_id = i + 1\n",
    "        plate_id = metdat[slot_id]['pID']\n",
    "        fin_cropped_2plate = crop_to_one_plate(fin_image, slot_id) \n",
    "        #plate_id, compound = get_plate_id(slot_id, path, img_metdat)\n",
    "\n",
    "        results_list = []\n",
    "        for well_id in ['P', 'Q', 'R', 'S']:\n",
    "            # Process one well at a time\n",
    "            if slot_id == 1 or slot_id == 4:\n",
    "                cropped_fin_image = right_crop_to_one_well(fin_cropped_2plate, well_id)\n",
    "            elif slot_id == 2 or slot_id == 3:\n",
    "                cropped_fin_image = left_crop_to_one_well(fin_cropped_2plate, well_id)\n",
    "            \n",
    "            worms = find_worms(cropped_fin_image)\n",
    "            total_worms = len(worms)\n",
    "            # Save the results\n",
    "            filename = auto_loc.joinpath(image_id + '_' + plate_id + '_' + well_id + '_automatedCounts' + '.csv')\n",
    "            save_worm_locations(filename, worms)\n",
    "\n",
    "            # Calculate chemotaxis index and gather into a dataframe\n",
    "            if total_worms == 0:\n",
    "                chemotaxis_index = 'NA'\n",
    "                results_dict = {\n",
    "                            'Well_id': well_id,\n",
    "                            'Plate_id': plate_id,\n",
    "                            'Total_Worms' : total_worms,\n",
    "                            'Bin#' : bins,\n",
    "                            'chemotaxis_index': chemotaxis_index,\n",
    "                            'centroid_x': centroid[1],\n",
    "                            'centroid_y': centroid[0]}\n",
    "                results_list.append(results_dict)\n",
    "                results.append(results_dict)\n",
    "\n",
    "                props = ['area', 'convex_area', 'bbox', 'centroid']\n",
    "                worm_df = pd.DataFrame([{prop: getattr(reg, prop) for prop in props} for reg in worms])\n",
    "\n",
    "            else:\n",
    "\n",
    "                chemotaxis_index, centroid = calc_chemotaxis_index(worms)\n",
    "                results_dict = {\n",
    "                                'Well_id': well_id,\n",
    "                                'Plate_id': plate_id,\n",
    "                                'Total_Worms' : total_worms,\n",
    "                                'Bin#' : bins,\n",
    "                                'chemotaxis_index': chemotaxis_index,\n",
    "                                'centroid_x': centroid[1],\n",
    "                                'centroid_y': centroid[0]}\n",
    "                results_list.append(results_dict)\n",
    "                results.append(results_dict)\n",
    "\n",
    "                props = ['area', 'convex_area', 'bbox', 'centroid']\n",
    "                worm_df = pd.DataFrame([{prop: getattr(reg, prop) for prop in props} for reg in worms])\n",
    "\n",
    "                #plot_worms(worm_df, cropped_fin_image)\n",
    "\n",
    "            #print('Finished', plate_id,'in', str(int(time.time()-plate_start)), 'seconds.')\n",
    "    all_results_df = pd.DataFrame(results)\n",
    "    all_results_df.to_csv(path_or_buf=auto_loc.joinpath(image_id + '_analysis_summary.csv'))\n",
    "   #print('Finished everything in', str(int(time.time()-loop_start)), 'seconds.')\n",
    "\n"
   ]
  },
  {
   "cell_type": "code",
   "execution_count": 16,
   "metadata": {},
   "outputs": [],
   "source": [
    "def process_one_image():\n",
    "    current_dir = plb.Path(input('Enter the path to the folder containing the data to be analyzed:\\n'))\n",
    "\n",
    "    \n",
    "    automated_results_location = current_dir.joinpath('automated_results')\n",
    "\n",
    "    \n",
    "    image_location = current_dir.joinpath('Images')\n",
    "\n",
    "    \n",
    "    image = image_location.joinpath(input('Enter the name of the image file to be analyzed:\\n'))\n",
    "  \n",
    "    metadata = one_image_metdat()\n",
    "    \n",
    "    quick_process(image, automated_results_location, metadata)\n",
    "    \n"
   ]
  },
  {
   "cell_type": "code",
   "execution_count": null,
   "metadata": {},
   "outputs": [],
   "source": []
  },
  {
   "cell_type": "code",
   "execution_count": null,
   "metadata": {},
   "outputs": [],
   "source": []
  },
  {
   "cell_type": "markdown",
   "metadata": {},
   "source": [
    "## Process a batch of images\n",
    "\n",
    "\n",
    "#### Establish location of metadata and load in the data"
   ]
  },
  {
   "cell_type": "code",
   "execution_count": 17,
   "metadata": {},
   "outputs": [],
   "source": [
    "def process_all_imgs():\n",
    "  # Create directory to store results to insure that naming conventions are consistent\n",
    "    current_dir = plb.Path(input('Enter the file path to the folder containing the images and metadata to be analyzed: '))\n",
    "\n",
    "    \n",
    "    automated_results_location = current_dir.joinpath('automated_results')\n",
    "    automated_results_location.mkdir(exist_ok=True, parents=True)\n",
    "\n",
    "    \n",
    "    image_location = current_dir.joinpath('Images')\n",
    "    metadata_location = current_dir.joinpath('metadata')\n",
    "\n",
    "    image_metadata_fname = input('Please enter the filename for the image metadata: ')\n",
    "\n",
    "\n",
    "    batch_metdata_fname = input('Please enter the filename for the batch metadata: ')\n",
    "\n",
    "\n",
    "    image_metadata_path = metadata_location.joinpath(image_metadata_fname)\n",
    "    batch_metdata_path = metadata_location.joinpath(batch_metdata_fname)\n",
    "\n",
    "\n",
    "    image_metadata = pd.read_csv(image_metadata_path)\n",
    "    batch_metadata = pd.read_csv(batch_metdata_path)\n",
    "\n",
    "    image_metadata.rename(columns={'Name of individual capturing image:': 'imager',\n",
    "                       'Date:': 'date',\n",
    "                       \"Image file name:\": 'filename',\n",
    "                       'Is this the pre or post assay image?': 'pre_fin',\n",
    "                      'Plate number in slot 1:': 'slot1_plate',\n",
    "                       'Plate number in slot 2:': 'slot2_plate',\n",
    "                       'Plate number in slot 3:': 'slot3_plate',\n",
    "                       'Plate number in slot 4:': 'slot4_plate', \n",
    "                                 'Compound in slot 1:': 'slot1_compound', \n",
    "                                 'Compound in slot 2:': 'slot2_compound', \n",
    "                                 'Compound in slot 3:': 'slot3_compound', \n",
    "                                 'Compound in slot 4:': 'slot4_compound',}, inplace=True)\n",
    "\n",
    "    batch_metadata.rename(columns={'Recorder\\'s Name:': 'recorder',\n",
    "                                'Date:': 'date',\n",
    "                                 'Temperature:': 'temp',\n",
    "                                'Humidity:': 'humidity',\n",
    "                                'Date chemotaxis plates were poured:': 'plates_poured',\n",
    "                                'Worm Strain in Well P:': 'strain_wellP',\n",
    "                                'Worm Strain in Well Q:.1': 'strain_wellQ',\n",
    "                                'Worm Strain in Well R:.1': 'strain_wellR',\n",
    "                                'Worm Strain in Well S:.1': 'strain_wellS',\n",
    "                                'dates' : 'dates_modified',}, inplace = True )\n",
    "    batch_metadata['dates_modified'] = batch_metadata['dates_modified'].astype(str)\n",
    "\n",
    "\n",
    "\n",
    "\n",
    "\n",
    "    return image_location, metadata_location, image_metadata, batch_metadata, automated_results_location\n",
    "\n",
    "#if __name__ == \"__main__\":\n",
    "#        main()"
   ]
  },
  {
   "cell_type": "markdown",
   "metadata": {},
   "source": [
    "#### Loop through all of the images in the 'Images' folder."
   ]
  },
  {
   "cell_type": "code",
   "execution_count": 18,
   "metadata": {},
   "outputs": [],
   "source": [
    "def run_loop(img_loc, batch_loc, img_metdat, batch_dat, auto_loc):\n",
    "    loop_start = time.time()\n",
    "    results = []\n",
    "    for image in img_loc.glob('*fin*.tif'): #image_location.glob('scan*Fin.tif'): #\n",
    "        plate_start = time.time()\n",
    "        path = image.resolve()\n",
    "        image_id = image.stem\n",
    "\n",
    "        prefix = image.stem[0:8]\n",
    "        suffix = image.stem[12:]\n",
    "        bins = 9\n",
    "        print(path)\n",
    "    #    if image.parent.joinpath(prefix + '_' + plate_id + '_pre.tif').exists is False:\n",
    "    #        raise NameError('No matching pre-image found.')\n",
    "        \n",
    "        # Load the entire image\n",
    "        fin_image = load_image_data(img_loc, prefix, suffix)\n",
    "        print('Image load took', str(int(time.time()-plate_start)), 'seconds.')\n",
    "        \n",
    "        \n",
    "        for i in range(1,5):\n",
    "            slot_id = i\n",
    "            fin_cropped_2plate = crop_to_one_plate(fin_image, slot_id) \n",
    "            plate_id, compound = get_plate_id(slot_id, path, img_metdat)\n",
    "            if plate_id == '0':\n",
    "                break\n",
    "            else:\n",
    "                results_list = []\n",
    "                for well_id in ['P', 'Q', 'R', 'S']:\n",
    "                    # Process one well at a time\n",
    "                    if slot_id == 1 or slot_id == 4:\n",
    "                        cropped_fin_image = right_crop_to_one_well(fin_cropped_2plate, well_id)\n",
    "                    elif slot_id == 2 or slot_id == 3:\n",
    "                        cropped_fin_image = left_crop_to_one_well(fin_cropped_2plate, well_id)\n",
    "\n",
    "                    worms = find_worms(cropped_fin_image)\n",
    "                    total_worms = len(worms)\n",
    "                    strain = get_strain(prefix, well_id, batch_dat)\n",
    "                    # Save the results\n",
    "                    filename = auto_loc.joinpath(prefix + '_' + plate_id + '_' + well_id + '_automatedCounts' + '.csv')\n",
    "                    save_worm_locations(filename, worms)\n",
    "\n",
    "                    # Calculate chemotaxis index and gather into a dataframe\n",
    "                    if total_worms == 0:\n",
    "                        chemotaxis_index = 'NA'\n",
    "                        results_dict = {'Date' : prefix,\n",
    "                                    'Filename': image_id,\n",
    "                                    'Well_id': well_id,\n",
    "                                    'Plate_id': plate_id,\n",
    "                                    'Strain_id' : strain,\n",
    "                                    'Compound_id' : compound,\n",
    "                                    'Total_Worms' : total_worms,\n",
    "                                    'Bin#' : bins,\n",
    "                                    'chemotaxis_index': chemotaxis_index,\n",
    "                                    'centroid_x': centroid[1],\n",
    "                                    'centroid_y': centroid[0]}\n",
    "                        results_list.append(results_dict)\n",
    "                        results.append(results_dict)\n",
    "\n",
    "                        props = ['area', 'convex_area', 'bbox', 'centroid']\n",
    "                        worm_df = pd.DataFrame([{prop: getattr(reg, prop) for prop in props} for reg in worms])\n",
    "                    \n",
    "                    else:\n",
    "\n",
    "                        chemotaxis_index, centroid = calc_chemotaxis_index(worms)\n",
    "                        results_dict = {'Date' : prefix,\n",
    "                                        'Filename': image_id,\n",
    "                                        'Well_id': well_id,\n",
    "                                        'Plate_id': plate_id,\n",
    "                                        'Strain_id' : strain,\n",
    "                                        'Compound_id' : compound,\n",
    "                                        'Total_Worms' : total_worms,\n",
    "                                        'Bin#' : bins,\n",
    "                                        'chemotaxis_index': chemotaxis_index,\n",
    "                                        'centroid_x': centroid[1],\n",
    "                                        'centroid_y': centroid[0]}\n",
    "                        results_list.append(results_dict)\n",
    "                        results.append(results_dict)\n",
    "\n",
    "                        props = ['area', 'convex_area', 'bbox', 'centroid']\n",
    "                        worm_df = pd.DataFrame([{prop: getattr(reg, prop) for prop in props} for reg in worms])\n",
    "\n",
    "                    #plot_worms(worm_df, cropped_fin_image)\n",
    "\n",
    "                #results_df = pd.DataFrame(results_list)\n",
    "                #results_df.to_csv(path_or_buf=results_location.joinpath(prefix + '_' + plate_id + '_chemotaxis_summary.csv'))\n",
    "\n",
    "\n",
    "                print('Finished', plate_id,'in', str(int(time.time()-plate_start)), 'seconds.')\n",
    "        all_results_df = pd.DataFrame(results)\n",
    "        all_results_df.to_csv(path_or_buf=auto_loc.joinpath('analysis_summary.csv'))\n",
    "            # results_df = pd.DataFrame(results_list)\n",
    "            # results_df.to_csv(path_or_buf=base_folder.joinpath('chemotaxis_summary.csv'))\n",
    "    print('Finished everything in', str(int(time.time()-loop_start)), 'seconds.')\n",
    "\n"
   ]
  },
  {
   "cell_type": "markdown",
   "metadata": {},
   "source": []
  },
  {
   "cell_type": "markdown",
   "metadata": {},
   "source": [
    "## Ask the user whether they are processing a single image or a batch of images"
   ]
  },
  {
   "cell_type": "code",
   "execution_count": 19,
   "metadata": {},
   "outputs": [],
   "source": [
    "def check_num_images():\n",
    "    all_or_none = input('Please enter a value corresponding to your workflow: \\n 1. Analyze all images in your Images folder. \\n 2. Analyze a single image.\\n')\n",
    "    #all_or_none = all_or_none.lower()\n",
    "    if all_or_none == '1':\n",
    "        img_loc, batch_loc, img_metdat, batch_dat, auto_loc = process_all_imgs()\n",
    "        run_loop(img_loc, batch_loc, img_metdat, batch_dat, auto_loc)\n",
    "    elif all_or_none == '2':\n",
    "        process_one_image()\n",
    "    else:\n",
    "        print('Please enter a valid response')\n",
    "        check_num_images()"
   ]
  },
  {
   "cell_type": "code",
   "execution_count": 26,
   "metadata": {},
   "outputs": [
    {
     "name": "stdout",
     "output_type": "stream",
     "text": [
      "Please enter a value corresponding to your workflow: \n",
      " 1. Analyze all images in your Images folder. \n",
      " 2. Analyze a single image.\n",
      "2\n",
      "Enter the path to the folder containing the data to be analyzed:\n",
      "/Users/emilyfryer/Documents/Current_analysis\n",
      "Enter the name of the image file to be analyzed:\n",
      "SUG_200904_003_Post.tif\n",
      "Is there a plate in slot 1? y\n",
      "Enter plate ID: 01\n",
      "Is there a plate in slot 2? y\n",
      "Enter plate ID: 02\n",
      "Is there a plate in slot 3? y\n",
      "Enter plate ID: 03\n",
      "Is there a plate in slot 4? n\n"
     ]
    },
    {
     "name": "stderr",
     "output_type": "stream",
     "text": [
      "/Users/emilyfryer/anaconda3/envs/neuroplant/lib/python3.7/site-packages/ipykernel_launcher.py:11: FutureWarning: The coordinates keyword argument to skimage.measure.regionprops is deprecated. All features are now computed in rc (row-column) coordinates. Please remove `coordinates=\"rc\"` from all calls to regionprops before updating scikit-image.\n",
      "  # This is added back by InteractiveShellApp.init_path()\n"
     ]
    }
   ],
   "source": [
    "# Until we finalize the metadata sheet for individual assays, choose option 2 to anylize a\n",
    "# single image.\n",
    "\n",
    "check_num_images()"
   ]
  },
  {
   "cell_type": "markdown",
   "metadata": {
    "scrolled": true
   },
   "source": []
  },
  {
   "cell_type": "markdown",
   "metadata": {},
   "source": [
    "## The code below is not required to run the analysis. It simply allows the developer to create plot of the worms that were found for a single well."
   ]
  },
  {
   "cell_type": "code",
   "execution_count": 26,
   "metadata": {},
   "outputs": [],
   "source": [
    "# Change this to the location of your image data\n",
    "image_location = plb.Path('/Users/emilyfryer/Documents/Current_analysis/Images')"
   ]
  },
  {
   "cell_type": "code",
   "execution_count": null,
   "metadata": {},
   "outputs": [
    {
     "data": {
      "text/plain": [
       "<matplotlib.image.AxesImage at 0x7fb052cd68d0>"
      ]
     },
     "execution_count": 34,
     "metadata": {},
     "output_type": "execute_result"
    }
   ],
   "source": [
    "#Hardcode for the well that you would like to verify\n",
    "prefix = 'TAL_200806'\n",
    "suffix = '001'\n",
    "plate_id = '02'\n",
    "well_id = 'S'\n",
    "slot_id = 2\n",
    "\n",
    "## Load the images\n",
    "fin_img = load_image_data(image_location, prefix, suffix)\n",
    "#pre_aligned, h = alignImages(fin_image, pre_image)\n",
    "\n",
    "io.imshow(fin_img)"
   ]
  },
  {
   "cell_type": "code",
   "execution_count": null,
   "metadata": {},
   "outputs": [],
   "source": [
    "fin_cropped_2plate = crop_to_one_plate(fin_img, slot_id) \n",
    "\n",
    "fin_cropped_2well = left_crop_to_one_well(fin_cropped_2plate, well_id) \n",
    "\n",
    "io.imshow(fin_cropped_2well)"
   ]
  },
  {
   "cell_type": "code",
   "execution_count": null,
   "metadata": {},
   "outputs": [],
   "source": [
    "thresh = filters.threshold_li(fin_cropped_2well)\n",
    "\n",
    "mask = fin_cropped_2well > thresh\n",
    "\n",
    "io.imshow(mask)\n"
   ]
  },
  {
   "cell_type": "code",
   "execution_count": null,
   "metadata": {},
   "outputs": [],
   "source": [
    "labeled_array, num_features = ndi.label(mask)\n",
    "all_regions = measure.regionprops(label_image=labeled_array, intensity_image=fin_cropped_2well,\n",
    "                                  coordinates='rc')\n",
    "\n",
    "## Filter features\n",
    "filtered_regions = []\n",
    "for region in all_regions:\n",
    "    area = region.area\n",
    "    if area >=90 and area <=1000 and region.major_axis_length < 150:\n",
    "        filtered_regions.append(region)\n",
    "\n",
    "props = ['area', 'convex_area', 'bbox', 'centroid']\n",
    "region_df = pd.DataFrame([{prop: getattr(reg, prop) for prop in props} for reg in filtered_regions])\n",
    "\n",
    "\n",
    "            \n",
    "fig, ax = plt.subplots(figsize=(10, 5))\n",
    "ax.imshow(mask)\n",
    "\n",
    "left_area_boundary = int(4*mask.shape[1]/9)\n",
    "right_area_boundary = int(5 * (mask.shape[1] / 9))\n",
    "left_side_worms = region_df[[centroid[1] <= left_area_boundary \n",
    "                                    for centroid in region_df['centroid']]]\n",
    "middle_worms = region_df[[centroid[1] > left_area_boundary and centroid[1] <= right_area_boundary \n",
    "                                 for centroid in region_df['centroid']]]\n",
    "right_side_worms = region_df[[centroid[1] > right_area_boundary \n",
    "                                     for centroid in region_df['centroid']]]\n",
    "\n",
    "\n",
    "for index, row in left_side_worms.iterrows():\n",
    "    minr, minc, maxr, maxc = row['bbox']\n",
    "    rect = mpl.patches.Rectangle((minc, minr), maxc - minc, maxr - minr,\n",
    "                              fill=False, edgecolor='red', linewidth=2)\n",
    "    ax.add_patch(rect)\n",
    "\n",
    "for index, row in middle_worms.iterrows():\n",
    "    minr, minc, maxr, maxc = row['bbox']\n",
    "    rect = mpl.patches.Rectangle((minc, minr), maxc - minc, maxr - minr,\n",
    "                              fill=False, edgecolor='blue', linewidth=2)\n",
    "    ax.add_patch(rect)\n",
    "    \n",
    "for index, row in right_side_worms.iterrows():\n",
    "    minr, minc, maxr, maxc = row['bbox']\n",
    "    rect = mpl.patches.Rectangle((minc, minr), maxc - minc, maxr - minr,\n",
    "                              fill=False, edgecolor='purple', linewidth=2)\n",
    "    ax.add_patch(rect)\n",
    "\n",
    "\n",
    "print(len(region_df))"
   ]
  },
  {
   "cell_type": "markdown",
   "metadata": {},
   "source": [
    "#### Trying to troubleshoot Ehsan's code"
   ]
  },
  {
   "cell_type": "code",
   "execution_count": 21,
   "metadata": {},
   "outputs": [
    {
     "data": {
      "text/plain": [
       "<matplotlib.image.AxesImage at 0x7fbdb770e710>"
      ]
     },
     "execution_count": 21,
     "metadata": {},
     "output_type": "execute_result"
    },
    {
     "data": {
      "image/png": "[encoded data removed]",
      "text/plain": [
       "<Figure size 432x288 with 1 Axes>"
      ]
     },
     "metadata": {
      "needs_background": "light"
     },
     "output_type": "display_data"
    }
   ],
   "source": [
    "base_folder = plb.Path('/Users/emilyfryer/Documents/Current_analysis')\n",
    "image_location = base_folder.joinpath('Images')\n",
    "\n",
    "fin_file = image_location.joinpath('1S.tif' )\n",
    "fin_image = np.invert(skimage.io.imread(fin_file))\n",
    "io.imshow(fin_image)\n"
   ]
  },
  {
   "cell_type": "code",
   "execution_count": null,
   "metadata": {},
   "outputs": [],
   "source": []
  }
 ],
 "metadata": {
  "kernelspec": {
   "display_name": "Python 3",
   "language": "python",
   "name": "python3"
  },
  "language_info": {
   "codemirror_mode": {
    "name": "ipython",
    "version": 3
   },
   "file_extension": ".py",
   "mimetype": "text/x-python",
   "name": "python",
   "nbconvert_exporter": "python",
   "pygments_lexer": "ipython3",
   "version": "3.7.4"
  }
 },
 "nbformat": 4,
 "nbformat_minor": 2
}
