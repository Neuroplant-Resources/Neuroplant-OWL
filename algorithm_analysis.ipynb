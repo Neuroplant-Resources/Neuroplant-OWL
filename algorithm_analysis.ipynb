{
 "cells": [
  {
   "cell_type": "code",
   "execution_count": 1,
   "metadata": {},
   "outputs": [],
   "source": [
    "import time\n",
    "import pandas as pd\n",
    "import matplotlib as mpl\n",
    "import matplotlib.pyplot as plt\n",
    "from scipy import stats\n",
    "import numpy as np\n",
    "import pathlib\n",
    "import warnings\n",
    "import seaborn as sns\n",
    "from skimage import io"
   ]
  },
  {
   "cell_type": "markdown",
   "metadata": {},
   "source": [
    "### Set up file paths for data handling"
   ]
  },
  {
   "cell_type": "code",
   "execution_count": 2,
   "metadata": {},
   "outputs": [],
   "source": [
    "base_folder = pathlib.Path('/Volumes/LaCie/_2021_03_screen/')\n",
    "manual_analysis_data_folder = base_folder.joinpath('manual_counts')\n",
    "automated_analysis_data_folder = base_folder.joinpath('_2021_03_automated_results')\n",
    "image_folder = base_folder.joinpath('crops_4manual')\n",
    "figure_folder = base_folder.joinpath('Figures')"
   ]
  },
  {
   "cell_type": "markdown",
   "metadata": {},
   "source": [
    "### Read in the metadata associated with the annotated images"
   ]
  },
  {
   "cell_type": "code",
   "execution_count": 3,
   "metadata": {},
   "outputs": [],
   "source": [
    "metadata = pd.read_csv(base_folder.joinpath('2103_data_unblinded.csv'),  index_col=0)"
   ]
  },
  {
   "cell_type": "markdown",
   "metadata": {},
   "source": [
    "### Clean up and add image dimensions\n",
    "<p>Dyanmic cropping results in images of variable width. As a result we need to be sure that the dimensions being used to calculate the chemotaxis index are consistent for both automated and manual annotation methods. Images were previously cropped for manual annotation. These previously cropped images are being measured in the chunk of code below</p>"
   ]
  },
  {
   "cell_type": "code",
   "execution_count": 5,
   "metadata": {},
   "outputs": [
    {
     "name": "stderr",
     "output_type": "stream",
     "text": [
      "/Users/emilyfryer/anaconda3/envs/neuroplant/lib/python3.7/site-packages/ipykernel_launcher.py:9: SettingWithCopyWarning: \n",
      "A value is trying to be set on a copy of a slice from a DataFrame.\n",
      "Try using .loc[row_indexer,col_indexer] = value instead\n",
      "\n",
      "See the caveats in the documentation: http://pandas.pydata.org/pandas-docs/stable/indexing.html#indexing-view-versus-copy\n",
      "  if __name__ == '__main__':\n"
     ]
    }
   ],
   "source": [
    "analysis_summary = []\n",
    "for image in image_folder.glob('NPP*.tif'):\n",
    "    image_id = image.stem[:-3]\n",
    "    well_id = image.stem[-2:]\n",
    "    img = io.imread(image)\n",
    "    dims = img.shape\n",
    "\n",
    "    row = metadata.loc[(metadata['File Name'] == image_id) & \n",
    "                               (metadata['WellNo'] == well_id)]\n",
    "    row['Width']= dims[1]\n",
    "    analysis_summary.append(row)\n",
    "analysis_summary = pd.concat(analysis_summary, sort=True)"
   ]
  },
  {
   "cell_type": "code",
   "execution_count": 6,
   "metadata": {},
   "outputs": [
    {
     "data": {
      "text/html": [
       "<div>\n",
       "<style scoped>\n",
       "    .dataframe tbody tr th:only-of-type {\n",
       "        vertical-align: middle;\n",
       "    }\n",
       "\n",
       "    .dataframe tbody tr th {\n",
       "        vertical-align: top;\n",
       "    }\n",
       "\n",
       "    .dataframe thead th {\n",
       "        text-align: right;\n",
       "    }\n",
       "</style>\n",
       "<table border=\"1\" class=\"dataframe\">\n",
       "  <thead>\n",
       "    <tr style=\"text-align: right;\">\n",
       "      <th></th>\n",
       "      <th>Chemotaxis</th>\n",
       "      <th>Compound</th>\n",
       "      <th>Compound Name</th>\n",
       "      <th>File Name</th>\n",
       "      <th>Plate ID</th>\n",
       "      <th>Slot</th>\n",
       "      <th>Strain</th>\n",
       "      <th>Total Worms</th>\n",
       "      <th>Well</th>\n",
       "      <th>WellNo</th>\n",
       "      <th>Width</th>\n",
       "    </tr>\n",
       "  </thead>\n",
       "  <tbody>\n",
       "    <tr>\n",
       "      <th>192</th>\n",
       "      <td>0.032028</td>\n",
       "      <td>65</td>\n",
       "      <td>Piperitenone</td>\n",
       "      <td>NPP_210319_POST_007</td>\n",
       "      <td>NPP_210319_017</td>\n",
       "      <td>1</td>\n",
       "      <td>NaN</td>\n",
       "      <td>326</td>\n",
       "      <td>A</td>\n",
       "      <td>1A</td>\n",
       "      <td>3045</td>\n",
       "    </tr>\n",
       "    <tr>\n",
       "      <th>195</th>\n",
       "      <td>0.227586</td>\n",
       "      <td>66</td>\n",
       "      <td>Apigenin</td>\n",
       "      <td>NPP_210319_POST_007</td>\n",
       "      <td>NPP_210319_017</td>\n",
       "      <td>1</td>\n",
       "      <td>NaN</td>\n",
       "      <td>341</td>\n",
       "      <td>B</td>\n",
       "      <td>1B</td>\n",
       "      <td>3022</td>\n",
       "    </tr>\n",
       "    <tr>\n",
       "      <th>198</th>\n",
       "      <td>0.076336</td>\n",
       "      <td>67</td>\n",
       "      <td>Oleanolic Acid</td>\n",
       "      <td>NPP_210319_POST_007</td>\n",
       "      <td>NPP_210319_017</td>\n",
       "      <td>1</td>\n",
       "      <td>NaN</td>\n",
       "      <td>289</td>\n",
       "      <td>C</td>\n",
       "      <td>1C</td>\n",
       "      <td>3044</td>\n",
       "    </tr>\n",
       "    <tr>\n",
       "      <th>201</th>\n",
       "      <td>0.121662</td>\n",
       "      <td>68</td>\n",
       "      <td>Delsoline</td>\n",
       "      <td>NPP_210319_POST_007</td>\n",
       "      <td>NPP_210319_017</td>\n",
       "      <td>1</td>\n",
       "      <td>NaN</td>\n",
       "      <td>376</td>\n",
       "      <td>D</td>\n",
       "      <td>1D</td>\n",
       "      <td>3047</td>\n",
       "    </tr>\n",
       "    <tr>\n",
       "      <th>204</th>\n",
       "      <td>0.124638</td>\n",
       "      <td>69</td>\n",
       "      <td>Ajmalicine</td>\n",
       "      <td>NPP_210319_POST_007</td>\n",
       "      <td>NPP_210319_018</td>\n",
       "      <td>2</td>\n",
       "      <td>NaN</td>\n",
       "      <td>401</td>\n",
       "      <td>A</td>\n",
       "      <td>2A</td>\n",
       "      <td>3106</td>\n",
       "    </tr>\n",
       "  </tbody>\n",
       "</table>\n",
       "</div>"
      ],
      "text/plain": [
       "     Chemotaxis  Compound   Compound Name            File Name  \\\n",
       "192    0.032028        65    Piperitenone  NPP_210319_POST_007   \n",
       "195    0.227586        66        Apigenin  NPP_210319_POST_007   \n",
       "198    0.076336        67  Oleanolic Acid  NPP_210319_POST_007   \n",
       "201    0.121662        68       Delsoline  NPP_210319_POST_007   \n",
       "204    0.124638        69      Ajmalicine  NPP_210319_POST_007   \n",
       "\n",
       "           Plate ID  Slot  Strain  Total Worms Well WellNo  Width  \n",
       "192  NPP_210319_017     1     NaN          326    A     1A   3045  \n",
       "195  NPP_210319_017     1     NaN          341    B     1B   3022  \n",
       "198  NPP_210319_017     1     NaN          289    C     1C   3044  \n",
       "201  NPP_210319_017     1     NaN          376    D     1D   3047  \n",
       "204  NPP_210319_018     2     NaN          401    A     2A   3106  "
      ]
     },
     "execution_count": 6,
     "metadata": {},
     "output_type": "execute_result"
    }
   ],
   "source": [
    "analysis_summary.head()"
   ]
  },
  {
   "cell_type": "markdown",
   "metadata": {},
   "source": [
    "### Aggregate and clean all of the manual annotations"
   ]
  },
  {
   "cell_type": "code",
   "execution_count": 7,
   "metadata": {
    "scrolled": false
   },
   "outputs": [
    {
     "data": {
      "text/html": [
       "<div>\n",
       "<style scoped>\n",
       "    .dataframe tbody tr th:only-of-type {\n",
       "        vertical-align: middle;\n",
       "    }\n",
       "\n",
       "    .dataframe tbody tr th {\n",
       "        vertical-align: top;\n",
       "    }\n",
       "\n",
       "    .dataframe thead th {\n",
       "        text-align: right;\n",
       "    }\n",
       "</style>\n",
       "<table border=\"1\" class=\"dataframe\">\n",
       "  <thead>\n",
       "    <tr style=\"text-align: right;\">\n",
       "      <th></th>\n",
       "      <th>Mean</th>\n",
       "      <th>WellNo</th>\n",
       "      <th>X</th>\n",
       "      <th>Y</th>\n",
       "      <th>file_id</th>\n",
       "    </tr>\n",
       "    <tr>\n",
       "      <th></th>\n",
       "      <th></th>\n",
       "      <th></th>\n",
       "      <th></th>\n",
       "      <th></th>\n",
       "      <th></th>\n",
       "    </tr>\n",
       "  </thead>\n",
       "  <tbody>\n",
       "    <tr>\n",
       "      <th>1</th>\n",
       "      <td>NaN</td>\n",
       "      <td>1B</td>\n",
       "      <td>52.0</td>\n",
       "      <td>559.0</td>\n",
       "      <td>210319_POST_002</td>\n",
       "    </tr>\n",
       "    <tr>\n",
       "      <th>2</th>\n",
       "      <td>NaN</td>\n",
       "      <td>1B</td>\n",
       "      <td>101.0</td>\n",
       "      <td>502.0</td>\n",
       "      <td>210319_POST_002</td>\n",
       "    </tr>\n",
       "    <tr>\n",
       "      <th>3</th>\n",
       "      <td>NaN</td>\n",
       "      <td>1B</td>\n",
       "      <td>48.0</td>\n",
       "      <td>452.0</td>\n",
       "      <td>210319_POST_002</td>\n",
       "    </tr>\n",
       "    <tr>\n",
       "      <th>4</th>\n",
       "      <td>NaN</td>\n",
       "      <td>1B</td>\n",
       "      <td>59.0</td>\n",
       "      <td>446.0</td>\n",
       "      <td>210319_POST_002</td>\n",
       "    </tr>\n",
       "    <tr>\n",
       "      <th>5</th>\n",
       "      <td>NaN</td>\n",
       "      <td>1B</td>\n",
       "      <td>229.0</td>\n",
       "      <td>343.0</td>\n",
       "      <td>210319_POST_002</td>\n",
       "    </tr>\n",
       "  </tbody>\n",
       "</table>\n",
       "</div>"
      ],
      "text/plain": [
       "   Mean WellNo      X      Y          file_id\n",
       "                                             \n",
       "1   NaN     1B   52.0  559.0  210319_POST_002\n",
       "2   NaN     1B  101.0  502.0  210319_POST_002\n",
       "3   NaN     1B   48.0  452.0  210319_POST_002\n",
       "4   NaN     1B   59.0  446.0  210319_POST_002\n",
       "5   NaN     1B  229.0  343.0  210319_POST_002"
      ]
     },
     "execution_count": 7,
     "metadata": {},
     "output_type": "execute_result"
    }
   ],
   "source": [
    "results_files = manual_analysis_data_folder.glob('[!_.]*.csv')\n",
    "\n",
    "manual_analysis_results = []\n",
    "for file in results_files:\n",
    "    prefix = file.stem[:3]\n",
    "    ## Some of the data was saved in tabular format and needs to be handled \n",
    "    if prefix != 'SYR':\n",
    "        this_experiment_df = pd.read_csv(file,  index_col=0)\n",
    "        image_id = file.stem[4:-3]\n",
    "        this_experiment_df['file_id'] = image_id\n",
    "        well_id = file.stem[-2:].upper()\n",
    "\n",
    "        this_experiment_df['WellNo'] = well_id\n",
    "\n",
    "        manual_analysis_results.append(this_experiment_df)\n",
    "    else:\n",
    "        this_experiment_df = pd.read_csv(file, sep = '\\t', index_col=0)\n",
    "        image_id = file.stem[4:-3]\n",
    "        this_experiment_df['file_id'] = image_id\n",
    "        well_id = file.stem[-2:].upper()\n",
    "\n",
    "        this_experiment_df['WellNo'] = well_id\n",
    "\n",
    "        manual_analysis_results.append(this_experiment_df)\n",
    "manual_analysis_results = pd.concat(manual_analysis_results, sort=True)\n",
    "manual_analysis_results.head()"
   ]
  },
  {
   "cell_type": "code",
   "execution_count": 8,
   "metadata": {},
   "outputs": [],
   "source": [
    "manual_analysis_results.to_csv(base_folder.joinpath('All_x.csv'))"
   ]
  },
  {
   "cell_type": "markdown",
   "metadata": {},
   "source": [
    "### Calculating the chemotaxis index from the manually annotated images"
   ]
  },
  {
   "cell_type": "code",
   "execution_count": 28,
   "metadata": {
    "collapsed": true
   },
   "outputs": [
    {
     "ename": "KeyError",
     "evalue": "\"['Chemotaxis' 'Strain'] not found in axis\"",
     "output_type": "error",
     "traceback": [
      "\u001b[0;31m---------------------------------------------------------------------------\u001b[0m",
      "\u001b[0;31mKeyError\u001b[0m                                  Traceback (most recent call last)",
      "\u001b[0;32m<ipython-input-28-86c69224f0a7>\u001b[0m in \u001b[0;36m<module>\u001b[0;34m\u001b[0m\n\u001b[1;32m      1\u001b[0m \u001b[0mmanual_analysis_summary\u001b[0m \u001b[0;34m=\u001b[0m \u001b[0manalysis_summary\u001b[0m\u001b[0;34m.\u001b[0m\u001b[0mcopy\u001b[0m\u001b[0;34m(\u001b[0m\u001b[0;34m)\u001b[0m\u001b[0;34m\u001b[0m\u001b[0;34m\u001b[0m\u001b[0m\n\u001b[0;32m----> 2\u001b[0;31m \u001b[0mmanual_analysis_summary\u001b[0m \u001b[0;34m=\u001b[0m \u001b[0mmanual_analysis_summary\u001b[0m\u001b[0;34m.\u001b[0m\u001b[0mdrop\u001b[0m\u001b[0;34m(\u001b[0m\u001b[0;34m[\u001b[0m\u001b[0;34m'Chemotaxis'\u001b[0m\u001b[0;34m,\u001b[0m \u001b[0;34m'Strain'\u001b[0m\u001b[0;34m,\u001b[0m \u001b[0;34m'Total Worms'\u001b[0m\u001b[0;34m]\u001b[0m\u001b[0;34m,\u001b[0m \u001b[0maxis\u001b[0m\u001b[0;34m=\u001b[0m\u001b[0;36m1\u001b[0m\u001b[0;34m)\u001b[0m\u001b[0;34m\u001b[0m\u001b[0;34m\u001b[0m\u001b[0m\n\u001b[0m\u001b[1;32m      3\u001b[0m \u001b[0;34m\u001b[0m\u001b[0m\n\u001b[1;32m      4\u001b[0m \u001b[0;32mfor\u001b[0m \u001b[0mindex\u001b[0m\u001b[0;34m,\u001b[0m \u001b[0mwell\u001b[0m \u001b[0;32min\u001b[0m \u001b[0mmanual_analysis_summary\u001b[0m\u001b[0;34m.\u001b[0m\u001b[0miterrows\u001b[0m\u001b[0;34m(\u001b[0m\u001b[0;34m)\u001b[0m\u001b[0;34m:\u001b[0m\u001b[0;34m\u001b[0m\u001b[0;34m\u001b[0m\u001b[0m\n\u001b[1;32m      5\u001b[0m     \u001b[0mwidth\u001b[0m \u001b[0;34m=\u001b[0m \u001b[0mwell\u001b[0m\u001b[0;34m[\u001b[0m\u001b[0;34m'Width'\u001b[0m\u001b[0;34m]\u001b[0m\u001b[0;34m\u001b[0m\u001b[0;34m\u001b[0m\u001b[0m\n",
      "\u001b[0;32m~/anaconda3/envs/neuroplant/lib/python3.7/site-packages/pandas/core/frame.py\u001b[0m in \u001b[0;36mdrop\u001b[0;34m(self, labels, axis, index, columns, level, inplace, errors)\u001b[0m\n\u001b[1;32m   3938\u001b[0m                                            \u001b[0mindex\u001b[0m\u001b[0;34m=\u001b[0m\u001b[0mindex\u001b[0m\u001b[0;34m,\u001b[0m \u001b[0mcolumns\u001b[0m\u001b[0;34m=\u001b[0m\u001b[0mcolumns\u001b[0m\u001b[0;34m,\u001b[0m\u001b[0;34m\u001b[0m\u001b[0;34m\u001b[0m\u001b[0m\n\u001b[1;32m   3939\u001b[0m                                            \u001b[0mlevel\u001b[0m\u001b[0;34m=\u001b[0m\u001b[0mlevel\u001b[0m\u001b[0;34m,\u001b[0m \u001b[0minplace\u001b[0m\u001b[0;34m=\u001b[0m\u001b[0minplace\u001b[0m\u001b[0;34m,\u001b[0m\u001b[0;34m\u001b[0m\u001b[0;34m\u001b[0m\u001b[0m\n\u001b[0;32m-> 3940\u001b[0;31m                                            errors=errors)\n\u001b[0m\u001b[1;32m   3941\u001b[0m \u001b[0;34m\u001b[0m\u001b[0m\n\u001b[1;32m   3942\u001b[0m     @rewrite_axis_style_signature('mapper', [('copy', True),\n",
      "\u001b[0;32m~/anaconda3/envs/neuroplant/lib/python3.7/site-packages/pandas/core/generic.py\u001b[0m in \u001b[0;36mdrop\u001b[0;34m(self, labels, axis, index, columns, level, inplace, errors)\u001b[0m\n\u001b[1;32m   3778\u001b[0m         \u001b[0;32mfor\u001b[0m \u001b[0maxis\u001b[0m\u001b[0;34m,\u001b[0m \u001b[0mlabels\u001b[0m \u001b[0;32min\u001b[0m \u001b[0maxes\u001b[0m\u001b[0;34m.\u001b[0m\u001b[0mitems\u001b[0m\u001b[0;34m(\u001b[0m\u001b[0;34m)\u001b[0m\u001b[0;34m:\u001b[0m\u001b[0;34m\u001b[0m\u001b[0;34m\u001b[0m\u001b[0m\n\u001b[1;32m   3779\u001b[0m             \u001b[0;32mif\u001b[0m \u001b[0mlabels\u001b[0m \u001b[0;32mis\u001b[0m \u001b[0;32mnot\u001b[0m \u001b[0;32mNone\u001b[0m\u001b[0;34m:\u001b[0m\u001b[0;34m\u001b[0m\u001b[0;34m\u001b[0m\u001b[0m\n\u001b[0;32m-> 3780\u001b[0;31m                 \u001b[0mobj\u001b[0m \u001b[0;34m=\u001b[0m \u001b[0mobj\u001b[0m\u001b[0;34m.\u001b[0m\u001b[0m_drop_axis\u001b[0m\u001b[0;34m(\u001b[0m\u001b[0mlabels\u001b[0m\u001b[0;34m,\u001b[0m \u001b[0maxis\u001b[0m\u001b[0;34m,\u001b[0m \u001b[0mlevel\u001b[0m\u001b[0;34m=\u001b[0m\u001b[0mlevel\u001b[0m\u001b[0;34m,\u001b[0m \u001b[0merrors\u001b[0m\u001b[0;34m=\u001b[0m\u001b[0merrors\u001b[0m\u001b[0;34m)\u001b[0m\u001b[0;34m\u001b[0m\u001b[0;34m\u001b[0m\u001b[0m\n\u001b[0m\u001b[1;32m   3781\u001b[0m \u001b[0;34m\u001b[0m\u001b[0m\n\u001b[1;32m   3782\u001b[0m         \u001b[0;32mif\u001b[0m \u001b[0minplace\u001b[0m\u001b[0;34m:\u001b[0m\u001b[0;34m\u001b[0m\u001b[0;34m\u001b[0m\u001b[0m\n",
      "\u001b[0;32m~/anaconda3/envs/neuroplant/lib/python3.7/site-packages/pandas/core/generic.py\u001b[0m in \u001b[0;36m_drop_axis\u001b[0;34m(self, labels, axis, level, errors)\u001b[0m\n\u001b[1;32m   3810\u001b[0m                 \u001b[0mnew_axis\u001b[0m \u001b[0;34m=\u001b[0m \u001b[0maxis\u001b[0m\u001b[0;34m.\u001b[0m\u001b[0mdrop\u001b[0m\u001b[0;34m(\u001b[0m\u001b[0mlabels\u001b[0m\u001b[0;34m,\u001b[0m \u001b[0mlevel\u001b[0m\u001b[0;34m=\u001b[0m\u001b[0mlevel\u001b[0m\u001b[0;34m,\u001b[0m \u001b[0merrors\u001b[0m\u001b[0;34m=\u001b[0m\u001b[0merrors\u001b[0m\u001b[0;34m)\u001b[0m\u001b[0;34m\u001b[0m\u001b[0;34m\u001b[0m\u001b[0m\n\u001b[1;32m   3811\u001b[0m             \u001b[0;32melse\u001b[0m\u001b[0;34m:\u001b[0m\u001b[0;34m\u001b[0m\u001b[0;34m\u001b[0m\u001b[0m\n\u001b[0;32m-> 3812\u001b[0;31m                 \u001b[0mnew_axis\u001b[0m \u001b[0;34m=\u001b[0m \u001b[0maxis\u001b[0m\u001b[0;34m.\u001b[0m\u001b[0mdrop\u001b[0m\u001b[0;34m(\u001b[0m\u001b[0mlabels\u001b[0m\u001b[0;34m,\u001b[0m \u001b[0merrors\u001b[0m\u001b[0;34m=\u001b[0m\u001b[0merrors\u001b[0m\u001b[0;34m)\u001b[0m\u001b[0;34m\u001b[0m\u001b[0;34m\u001b[0m\u001b[0m\n\u001b[0m\u001b[1;32m   3813\u001b[0m             \u001b[0mresult\u001b[0m \u001b[0;34m=\u001b[0m \u001b[0mself\u001b[0m\u001b[0;34m.\u001b[0m\u001b[0mreindex\u001b[0m\u001b[0;34m(\u001b[0m\u001b[0;34m**\u001b[0m\u001b[0;34m{\u001b[0m\u001b[0maxis_name\u001b[0m\u001b[0;34m:\u001b[0m \u001b[0mnew_axis\u001b[0m\u001b[0;34m}\u001b[0m\u001b[0;34m)\u001b[0m\u001b[0;34m\u001b[0m\u001b[0;34m\u001b[0m\u001b[0m\n\u001b[1;32m   3814\u001b[0m \u001b[0;34m\u001b[0m\u001b[0m\n",
      "\u001b[0;32m~/anaconda3/envs/neuroplant/lib/python3.7/site-packages/pandas/core/indexes/base.py\u001b[0m in \u001b[0;36mdrop\u001b[0;34m(self, labels, errors)\u001b[0m\n\u001b[1;32m   4963\u001b[0m             \u001b[0;32mif\u001b[0m \u001b[0merrors\u001b[0m \u001b[0;34m!=\u001b[0m \u001b[0;34m'ignore'\u001b[0m\u001b[0;34m:\u001b[0m\u001b[0;34m\u001b[0m\u001b[0;34m\u001b[0m\u001b[0m\n\u001b[1;32m   4964\u001b[0m                 raise KeyError(\n\u001b[0;32m-> 4965\u001b[0;31m                     '{} not found in axis'.format(labels[mask]))\n\u001b[0m\u001b[1;32m   4966\u001b[0m             \u001b[0mindexer\u001b[0m \u001b[0;34m=\u001b[0m \u001b[0mindexer\u001b[0m\u001b[0;34m[\u001b[0m\u001b[0;34m~\u001b[0m\u001b[0mmask\u001b[0m\u001b[0;34m]\u001b[0m\u001b[0;34m\u001b[0m\u001b[0;34m\u001b[0m\u001b[0m\n\u001b[1;32m   4967\u001b[0m         \u001b[0;32mreturn\u001b[0m \u001b[0mself\u001b[0m\u001b[0;34m.\u001b[0m\u001b[0mdelete\u001b[0m\u001b[0;34m(\u001b[0m\u001b[0mindexer\u001b[0m\u001b[0;34m)\u001b[0m\u001b[0;34m\u001b[0m\u001b[0;34m\u001b[0m\u001b[0m\n",
      "\u001b[0;31mKeyError\u001b[0m: \"['Chemotaxis' 'Strain'] not found in axis\""
     ]
    }
   ],
   "source": [
    "\n",
    "manual_analysis_summary = analysis_summary.copy()\n",
    "manual_analysis_summary = manual_analysis_summary.drop(['Chemotaxis', 'Strain', 'Total Worms'], axis=1)\n",
    "\n",
    "for index, well in manual_analysis_summary.iterrows():\n",
    "    width = well['Width']\n",
    "    solvent_limit = int(width*5/9)\n",
    "    compount_limit = int(width*4/9)\n",
    "    image_id = well['File Name']\n",
    "    file_id = image_id[4:]\n",
    "    well_id = well['WellNo']\n",
    "    \n",
    "    # Find number of worms in each region\n",
    "    compound_side_worms = manual_analysis_results.loc[\n",
    "            (manual_analysis_results['file_id'] == file_id) &\n",
    "            (manual_analysis_results['WellNo'] == well_id) &\n",
    "            (manual_analysis_results['X'] <= compount_limit)].shape[0]\n",
    "    manual_analysis_summary.loc[index, 'worms_on_compound_side'] = compound_side_worms\n",
    "    \n",
    "    solvent_side_worms = manual_analysis_results.loc[\n",
    "            (manual_analysis_results['file_id'] == file_id) &\n",
    "            (manual_analysis_results['WellNo'] == well_id) &\n",
    "            (manual_analysis_results['X'] >= solvent_limit)].shape[0]\n",
    "    manual_analysis_summary.loc[index, 'worms_on_solvent_side'] = solvent_side_worms\n",
    "    \n",
    "    neutral_worms = manual_analysis_results.loc[\n",
    "            (manual_analysis_results['file_id'] == file_id) &\n",
    "            (manual_analysis_results['WellNo'] == well_id) &\n",
    "            (manual_analysis_results['X'] <= solvent_limit) &\n",
    "            (manual_analysis_results['X'] >= compount_limit)].shape[0]\n",
    "    manual_analysis_summary.loc[index, 'worms_on_neutral_side'] = neutral_worms\n",
    "    \n",
    "    manual_analysis_summary.loc[index, 'Total Worms'] = (compound_side_worms + solvent_side_worms + neutral_worms)\n",
    "\n",
    "    # Calculate chemotaxis index (and centroid for good measure)\n",
    "    if compound_side_worms != 0 and solvent_side_worms != 0:\n",
    "        manual_analysis_summary.loc[index, 'Chemotaxis Index'] = ((compound_side_worms - solvent_side_worms) / \n",
    "                                                   (compound_side_worms + solvent_side_worms))\n",
    "    \n",
    "\n",
    "manual_analysis_summary['analysis_method'] = 'manual'\n",
    "manual_analysis_summary.head()"
   ]
  },
  {
   "cell_type": "code",
   "execution_count": null,
   "metadata": {},
   "outputs": [],
   "source": []
  },
  {
   "cell_type": "markdown",
   "metadata": {},
   "source": [
    "### A plot of summary statistics for both manual and automated annotations"
   ]
  },
  {
   "cell_type": "code",
   "execution_count": 12,
   "metadata": {},
   "outputs": [
    {
     "name": "stderr",
     "output_type": "stream",
     "text": [
      "/Users/emilyfryer/anaconda3/envs/neuroplant/lib/python3.7/site-packages/seaborn/distributions.py:2557: FutureWarning: `distplot` is a deprecated function and will be removed in a future version. Please adapt your code to use either `displot` (a figure-level function with similar flexibility) or `histplot` (an axes-level function for histograms).\n",
      "  warnings.warn(msg, FutureWarning)\n"
     ]
    },
    {
     "name": "stdout",
     "output_type": "stream",
     "text": [
      "Manual counts:\n",
      " count     96.000000\n",
      "mean     293.458333\n",
      "std      104.906366\n",
      "min       95.000000\n",
      "25%      199.500000\n",
      "50%      300.500000\n",
      "75%      372.000000\n",
      "max      549.000000\n",
      "Name: mean, dtype: float64\n",
      "Automated counts:\n",
      " count     96.000000\n",
      "mean     241.281250\n",
      "std       78.214106\n",
      "min      104.000000\n",
      "25%      174.000000\n",
      "50%      247.500000\n",
      "75%      300.500000\n",
      "max      405.000000\n",
      "Name: Total Worms, dtype: float64\n"
     ]
    },
    {
     "data": {
      "image/png": "[encoded data removed]",
      "text/plain": [
       "<Figure size 720x288 with 2 Axes>"
      ]
     },
     "metadata": {
      "needs_background": "light"
     },
     "output_type": "display_data"
    }
   ],
   "source": [
    "fig, axes = plt.subplots(nrows=1, ncols=2, figsize=(10, 4), constrained_layout=True)\n",
    "\n",
    "axes[0] = sns.distplot(analysis_summary['Total Worms'], kde=False,\n",
    "                      ax=axes[0])\n",
    "axes[0].set_title('Worm count for automated analysis')\n",
    "\n",
    "\n",
    "axes[1] =  sns.distplot(\n",
    "    manual_analysis_summary.groupby(\n",
    "        ['Plate ID', 'WellNo']).describe()['Total Worms']['mean'],\n",
    "    kde=False, ax=axes[1])\n",
    "axes[1].set_title('Worm count for manual analysis')\n",
    "\n",
    "print('Manual counts:\\n',\n",
    "      manual_analysis_summary.groupby(['Plate ID', 'WellNo']).describe()['Total Worms']['mean'].describe())\n",
    "print('Automated counts:\\n',\n",
    "      analysis_summary['Total Worms'].describe())\n"
   ]
  },
  {
   "cell_type": "markdown",
   "metadata": {},
   "source": [
    "### Cleaning up automated annotation data and combing it with manually annotated data for plotting"
   ]
  },
  {
   "cell_type": "code",
   "execution_count": 13,
   "metadata": {},
   "outputs": [
    {
     "data": {
      "text/html": [
       "<div>\n",
       "<style scoped>\n",
       "    .dataframe tbody tr th:only-of-type {\n",
       "        vertical-align: middle;\n",
       "    }\n",
       "\n",
       "    .dataframe tbody tr th {\n",
       "        vertical-align: top;\n",
       "    }\n",
       "\n",
       "    .dataframe thead th {\n",
       "        text-align: right;\n",
       "    }\n",
       "</style>\n",
       "<table border=\"1\" class=\"dataframe\">\n",
       "  <thead>\n",
       "    <tr style=\"text-align: right;\">\n",
       "      <th></th>\n",
       "      <th>Chemotaxis Index</th>\n",
       "      <th>Compound</th>\n",
       "      <th>Compound Name</th>\n",
       "      <th>File Name</th>\n",
       "      <th>Plate ID</th>\n",
       "      <th>Slot</th>\n",
       "      <th>Total Worms</th>\n",
       "      <th>Well</th>\n",
       "      <th>WellNo</th>\n",
       "      <th>Width</th>\n",
       "      <th>analysis_method</th>\n",
       "    </tr>\n",
       "  </thead>\n",
       "  <tbody>\n",
       "    <tr>\n",
       "      <th>192</th>\n",
       "      <td>0.032028</td>\n",
       "      <td>65</td>\n",
       "      <td>Piperitenone</td>\n",
       "      <td>NPP_210319_POST_007</td>\n",
       "      <td>NPP_210319_017</td>\n",
       "      <td>1</td>\n",
       "      <td>326</td>\n",
       "      <td>A</td>\n",
       "      <td>1A</td>\n",
       "      <td>3045</td>\n",
       "      <td>auto</td>\n",
       "    </tr>\n",
       "    <tr>\n",
       "      <th>195</th>\n",
       "      <td>0.227586</td>\n",
       "      <td>66</td>\n",
       "      <td>Apigenin</td>\n",
       "      <td>NPP_210319_POST_007</td>\n",
       "      <td>NPP_210319_017</td>\n",
       "      <td>1</td>\n",
       "      <td>341</td>\n",
       "      <td>B</td>\n",
       "      <td>1B</td>\n",
       "      <td>3022</td>\n",
       "      <td>auto</td>\n",
       "    </tr>\n",
       "    <tr>\n",
       "      <th>198</th>\n",
       "      <td>0.076336</td>\n",
       "      <td>67</td>\n",
       "      <td>Oleanolic Acid</td>\n",
       "      <td>NPP_210319_POST_007</td>\n",
       "      <td>NPP_210319_017</td>\n",
       "      <td>1</td>\n",
       "      <td>289</td>\n",
       "      <td>C</td>\n",
       "      <td>1C</td>\n",
       "      <td>3044</td>\n",
       "      <td>auto</td>\n",
       "    </tr>\n",
       "    <tr>\n",
       "      <th>201</th>\n",
       "      <td>0.121662</td>\n",
       "      <td>68</td>\n",
       "      <td>Delsoline</td>\n",
       "      <td>NPP_210319_POST_007</td>\n",
       "      <td>NPP_210319_017</td>\n",
       "      <td>1</td>\n",
       "      <td>376</td>\n",
       "      <td>D</td>\n",
       "      <td>1D</td>\n",
       "      <td>3047</td>\n",
       "      <td>auto</td>\n",
       "    </tr>\n",
       "    <tr>\n",
       "      <th>204</th>\n",
       "      <td>0.124638</td>\n",
       "      <td>69</td>\n",
       "      <td>Ajmalicine</td>\n",
       "      <td>NPP_210319_POST_007</td>\n",
       "      <td>NPP_210319_018</td>\n",
       "      <td>2</td>\n",
       "      <td>401</td>\n",
       "      <td>A</td>\n",
       "      <td>2A</td>\n",
       "      <td>3106</td>\n",
       "      <td>auto</td>\n",
       "    </tr>\n",
       "  </tbody>\n",
       "</table>\n",
       "</div>"
      ],
      "text/plain": [
       "     Chemotaxis Index  Compound   Compound Name            File Name  \\\n",
       "192          0.032028        65    Piperitenone  NPP_210319_POST_007   \n",
       "195          0.227586        66        Apigenin  NPP_210319_POST_007   \n",
       "198          0.076336        67  Oleanolic Acid  NPP_210319_POST_007   \n",
       "201          0.121662        68       Delsoline  NPP_210319_POST_007   \n",
       "204          0.124638        69      Ajmalicine  NPP_210319_POST_007   \n",
       "\n",
       "           Plate ID  Slot  Total Worms Well WellNo  Width analysis_method  \n",
       "192  NPP_210319_017     1          326    A     1A   3045            auto  \n",
       "195  NPP_210319_017     1          341    B     1B   3022            auto  \n",
       "198  NPP_210319_017     1          289    C     1C   3044            auto  \n",
       "201  NPP_210319_017     1          376    D     1D   3047            auto  \n",
       "204  NPP_210319_018     2          401    A     2A   3106            auto  "
      ]
     },
     "execution_count": 13,
     "metadata": {},
     "output_type": "execute_result"
    }
   ],
   "source": [
    "analysis_summary = analysis_summary.drop(['Strain'], axis=1)\n",
    "analysis_summary = analysis_summary.rename(columns={'Chemotaxis': 'Chemotaxis Index'})\n",
    "analysis_summary['analysis_method'] = 'auto'\n",
    "analysis_summary.head()"
   ]
  },
  {
   "cell_type": "code",
   "execution_count": 14,
   "metadata": {},
   "outputs": [
    {
     "data": {
      "text/html": [
       "<div>\n",
       "<style scoped>\n",
       "    .dataframe tbody tr th:only-of-type {\n",
       "        vertical-align: middle;\n",
       "    }\n",
       "\n",
       "    .dataframe tbody tr th {\n",
       "        vertical-align: top;\n",
       "    }\n",
       "\n",
       "    .dataframe thead th {\n",
       "        text-align: right;\n",
       "    }\n",
       "</style>\n",
       "<table border=\"1\" class=\"dataframe\">\n",
       "  <thead>\n",
       "    <tr style=\"text-align: right;\">\n",
       "      <th></th>\n",
       "      <th>File Name</th>\n",
       "      <th>Plate ID</th>\n",
       "      <th>WellNo</th>\n",
       "      <th>Compound</th>\n",
       "      <th>Compound Name</th>\n",
       "      <th>Total Worms</th>\n",
       "      <th>Chemotaxis Index</th>\n",
       "      <th>analysis_method</th>\n",
       "      <th>Width</th>\n",
       "    </tr>\n",
       "  </thead>\n",
       "  <tbody>\n",
       "    <tr>\n",
       "      <th>192</th>\n",
       "      <td>NPP_210319_POST_007</td>\n",
       "      <td>NPP_210319_017</td>\n",
       "      <td>1A</td>\n",
       "      <td>65</td>\n",
       "      <td>Piperitenone</td>\n",
       "      <td>383.0</td>\n",
       "      <td>0.045977</td>\n",
       "      <td>manual</td>\n",
       "      <td>3045</td>\n",
       "    </tr>\n",
       "    <tr>\n",
       "      <th>195</th>\n",
       "      <td>NPP_210319_POST_007</td>\n",
       "      <td>NPP_210319_017</td>\n",
       "      <td>1B</td>\n",
       "      <td>66</td>\n",
       "      <td>Apigenin</td>\n",
       "      <td>443.0</td>\n",
       "      <td>0.432161</td>\n",
       "      <td>manual</td>\n",
       "      <td>3022</td>\n",
       "    </tr>\n",
       "    <tr>\n",
       "      <th>198</th>\n",
       "      <td>NPP_210319_POST_007</td>\n",
       "      <td>NPP_210319_017</td>\n",
       "      <td>1C</td>\n",
       "      <td>67</td>\n",
       "      <td>Oleanolic Acid</td>\n",
       "      <td>320.0</td>\n",
       "      <td>0.105263</td>\n",
       "      <td>manual</td>\n",
       "      <td>3044</td>\n",
       "    </tr>\n",
       "    <tr>\n",
       "      <th>201</th>\n",
       "      <td>NPP_210319_POST_007</td>\n",
       "      <td>NPP_210319_017</td>\n",
       "      <td>1D</td>\n",
       "      <td>68</td>\n",
       "      <td>Delsoline</td>\n",
       "      <td>487.0</td>\n",
       "      <td>0.280702</td>\n",
       "      <td>manual</td>\n",
       "      <td>3047</td>\n",
       "    </tr>\n",
       "    <tr>\n",
       "      <th>204</th>\n",
       "      <td>NPP_210319_POST_007</td>\n",
       "      <td>NPP_210319_018</td>\n",
       "      <td>2A</td>\n",
       "      <td>69</td>\n",
       "      <td>Ajmalicine</td>\n",
       "      <td>459.0</td>\n",
       "      <td>0.181818</td>\n",
       "      <td>manual</td>\n",
       "      <td>3106</td>\n",
       "    </tr>\n",
       "  </tbody>\n",
       "</table>\n",
       "</div>"
      ],
      "text/plain": [
       "               File Name        Plate ID WellNo  Compound   Compound Name  \\\n",
       "192  NPP_210319_POST_007  NPP_210319_017     1A        65    Piperitenone   \n",
       "195  NPP_210319_POST_007  NPP_210319_017     1B        66        Apigenin   \n",
       "198  NPP_210319_POST_007  NPP_210319_017     1C        67  Oleanolic Acid   \n",
       "201  NPP_210319_POST_007  NPP_210319_017     1D        68       Delsoline   \n",
       "204  NPP_210319_POST_007  NPP_210319_018     2A        69      Ajmalicine   \n",
       "\n",
       "     Total Worms  Chemotaxis Index analysis_method  Width  \n",
       "192        383.0          0.045977          manual   3045  \n",
       "195        443.0          0.432161          manual   3022  \n",
       "198        320.0          0.105263          manual   3044  \n",
       "201        487.0          0.280702          manual   3047  \n",
       "204        459.0          0.181818          manual   3106  "
      ]
     },
     "execution_count": 14,
     "metadata": {},
     "output_type": "execute_result"
    }
   ],
   "source": [
    "combined_results = pd.concat([manual_analysis_summary[['File Name', 'Plate ID',\n",
    "                                       'WellNo',\n",
    "                                       'Compound',\n",
    "                                       'Compound Name',\n",
    "                                       'Total Worms',\n",
    "                                       'Chemotaxis Index',\n",
    "                                       'analysis_method',\n",
    "                                        'Width']].copy(),\n",
    "                              analysis_summary[['File Name', 'Plate ID',\n",
    "                                       'WellNo',\n",
    "                                       'Compound',\n",
    "                                       'Compound Name',\n",
    "                                       'Total Worms',\n",
    "                                       'Chemotaxis Index',\n",
    "                                       'analysis_method',\n",
    "                                        'Width']].copy()])\n",
    "combined_results.head()"
   ]
  },
  {
   "cell_type": "markdown",
   "metadata": {},
   "source": [
    "### Generating plots to visualize the performance of the worm counting algorithm"
   ]
  },
  {
   "cell_type": "code",
   "execution_count": 21,
   "metadata": {},
   "outputs": [],
   "source": [
    "worms_by_manual_count = []\n",
    "for index, manual_count in manual_analysis_summary.iterrows():\n",
    "    this_manual_analysis = {\n",
    "        'file_name': manual_count['File Name'],\n",
    "        'well_id': manual_count['WellNo'],\n",
    "        'compound': manual_count['Compound Name'],\n",
    "        'total_worms_manual': manual_count['Total Worms'],\n",
    "        'manual_ci': manual_count['Chemotaxis Index'],\n",
    "        'total_worms_auto': analysis_summary.loc[\n",
    "            (analysis_summary['File Name']==manual_count['File Name']) &\n",
    "            (analysis_summary['WellNo']==manual_count['WellNo'])]['Total Worms'].values[0],\n",
    "        'auto_ci': analysis_summary.loc[\n",
    "            (analysis_summary['File Name']==manual_count['File Name']) &\n",
    "            (analysis_summary['WellNo']==manual_count['WellNo'])]['Chemotaxis Index'].values[0]}\n",
    "    worms_by_manual_count.append(this_manual_analysis)\n",
    "worm_count_df = pd.DataFrame(worms_by_manual_count)"
   ]
  },
  {
   "cell_type": "code",
   "execution_count": 23,
   "metadata": {},
   "outputs": [
    {
     "data": {
      "text/html": [
       "<div>\n",
       "<style scoped>\n",
       "    .dataframe tbody tr th:only-of-type {\n",
       "        vertical-align: middle;\n",
       "    }\n",
       "\n",
       "    .dataframe tbody tr th {\n",
       "        vertical-align: top;\n",
       "    }\n",
       "\n",
       "    .dataframe thead th {\n",
       "        text-align: right;\n",
       "    }\n",
       "</style>\n",
       "<table border=\"1\" class=\"dataframe\">\n",
       "  <thead>\n",
       "    <tr style=\"text-align: right;\">\n",
       "      <th></th>\n",
       "      <th>auto_ci</th>\n",
       "      <th>compound</th>\n",
       "      <th>file_name</th>\n",
       "      <th>manual_ci</th>\n",
       "      <th>total_worms_auto</th>\n",
       "      <th>total_worms_manual</th>\n",
       "      <th>well_id</th>\n",
       "    </tr>\n",
       "  </thead>\n",
       "  <tbody>\n",
       "    <tr>\n",
       "      <th>0</th>\n",
       "      <td>0.032028</td>\n",
       "      <td>Piperitenone</td>\n",
       "      <td>NPP_210319_POST_007</td>\n",
       "      <td>0.045977</td>\n",
       "      <td>326</td>\n",
       "      <td>383.0</td>\n",
       "      <td>1A</td>\n",
       "    </tr>\n",
       "    <tr>\n",
       "      <th>1</th>\n",
       "      <td>0.227586</td>\n",
       "      <td>Apigenin</td>\n",
       "      <td>NPP_210319_POST_007</td>\n",
       "      <td>0.432161</td>\n",
       "      <td>341</td>\n",
       "      <td>443.0</td>\n",
       "      <td>1B</td>\n",
       "    </tr>\n",
       "    <tr>\n",
       "      <th>2</th>\n",
       "      <td>0.076336</td>\n",
       "      <td>Oleanolic Acid</td>\n",
       "      <td>NPP_210319_POST_007</td>\n",
       "      <td>0.105263</td>\n",
       "      <td>289</td>\n",
       "      <td>320.0</td>\n",
       "      <td>1C</td>\n",
       "    </tr>\n",
       "    <tr>\n",
       "      <th>3</th>\n",
       "      <td>0.121662</td>\n",
       "      <td>Delsoline</td>\n",
       "      <td>NPP_210319_POST_007</td>\n",
       "      <td>0.280702</td>\n",
       "      <td>376</td>\n",
       "      <td>487.0</td>\n",
       "      <td>1D</td>\n",
       "    </tr>\n",
       "    <tr>\n",
       "      <th>4</th>\n",
       "      <td>0.124638</td>\n",
       "      <td>Ajmalicine</td>\n",
       "      <td>NPP_210319_POST_007</td>\n",
       "      <td>0.181818</td>\n",
       "      <td>401</td>\n",
       "      <td>459.0</td>\n",
       "      <td>2A</td>\n",
       "    </tr>\n",
       "  </tbody>\n",
       "</table>\n",
       "</div>"
      ],
      "text/plain": [
       "    auto_ci        compound            file_name  manual_ci  total_worms_auto  \\\n",
       "0  0.032028    Piperitenone  NPP_210319_POST_007   0.045977               326   \n",
       "1  0.227586        Apigenin  NPP_210319_POST_007   0.432161               341   \n",
       "2  0.076336  Oleanolic Acid  NPP_210319_POST_007   0.105263               289   \n",
       "3  0.121662       Delsoline  NPP_210319_POST_007   0.280702               376   \n",
       "4  0.124638      Ajmalicine  NPP_210319_POST_007   0.181818               401   \n",
       "\n",
       "   total_worms_manual well_id  \n",
       "0               383.0      1A  \n",
       "1               443.0      1B  \n",
       "2               320.0      1C  \n",
       "3               487.0      1D  \n",
       "4               459.0      2A  "
      ]
     },
     "execution_count": 23,
     "metadata": {},
     "output_type": "execute_result"
    }
   ],
   "source": [
    "worm_count_df.head()"
   ]
  },
  {
   "cell_type": "markdown",
   "metadata": {},
   "source": [
    "##### Total Worms: Manual vs Automated"
   ]
  },
  {
   "cell_type": "code",
   "execution_count": 24,
   "metadata": {},
   "outputs": [
    {
     "name": "stdout",
     "output_type": "stream",
     "text": [
      "LinregressResult(slope=0.717643236213597, intercept=30.682861972818188, rvalue=0.9625545540895885, pvalue=4.393520454251374e-55, stderr=0.02084633383610998)\n"
     ]
    },
    {
     "data": {
      "image/png": "[encoded data removed]",
      "text/plain": [
       "<Figure size 432x288 with 1 Axes>"
      ]
     },
     "metadata": {
      "needs_background": "light"
     },
     "output_type": "display_data"
    }
   ],
   "source": [
    "fig, ax = plt.subplots(constrained_layout=True)\n",
    "sns.regplot(x='total_worms_manual', y='total_worms_auto', ax=ax,\n",
    "                     data=worm_count_df)\n",
    "ax.set_ylabel('# worms (machine)')\n",
    "ax.set_xlabel('# worms (manual)')\n",
    "sns.despine(offset=10)\n",
    "fig.savefig(base_folder.joinpath('total_worms_man_vs_machine.pdf'))\n",
    "\n",
    "fit_results = stats.linregress(\n",
    "    worm_count_df['total_worms_manual'], worm_count_df['total_worms_auto'])\n",
    "print(fit_results)\n"
   ]
  },
  {
   "cell_type": "markdown",
   "metadata": {},
   "source": [
    "##### Chemotaxis Index: Manual vs Automated"
   ]
  },
  {
   "cell_type": "code",
   "execution_count": 25,
   "metadata": {},
   "outputs": [
    {
     "name": "stdout",
     "output_type": "stream",
     "text": [
      "LinregressResult(slope=0.8871484052980022, intercept=-0.0064106776786123365, rvalue=0.9791277531167379, pvalue=7.537191415777796e-67, stderr=0.018993915636667143)\n"
     ]
    },
    {
     "data": {
      "image/png": "[encoded data removed]",
      "text/plain": [
       "<Figure size 432x288 with 1 Axes>"
      ]
     },
     "metadata": {
      "needs_background": "light"
     },
     "output_type": "display_data"
    }
   ],
   "source": [
    "fig, ax = plt.subplots(constrained_layout=True)\n",
    "ax = sns.regplot(x='manual_ci', y='auto_ci', ax=ax,\n",
    "                     data=worm_count_df)\n",
    "ax.set_ylabel('Chemotaxis index (machine)')\n",
    "ax.set_xlabel('Chemotaxis index (manual)')\n",
    "ax.set_ylim((-1, 1))\n",
    "ax.set_xlim((-1, 1.1))\n",
    "sns.despine(offset=10)\n",
    "\n",
    "fig.savefig(base_folder.joinpath('ci_man_vs_machine.pdf'))\n",
    "\n",
    "fit_results = stats.linregress(\n",
    "    worm_count_df['manual_ci'], worm_count_df['auto_ci'])\n",
    "print(fit_results)"
   ]
  },
  {
   "cell_type": "markdown",
   "metadata": {},
   "source": [
    "##### Worm Count vs Chemotaxis Index Difference (Automated - Manual) "
   ]
  },
  {
   "cell_type": "code",
   "execution_count": 27,
   "metadata": {},
   "outputs": [
    {
     "name": "stdout",
     "output_type": "stream",
     "text": [
      "LinregressResult(slope=-9.789239067229535e-05, intercept=0.011661353656183256, rvalue=-0.14617116749231182, pvalue=0.155298360188205, stderr=6.833346449681215e-05)\n"
     ]
    },
    {
     "data": {
      "image/png": "[encoded data removed]",
      "text/plain": [
       "<Figure size 432x288 with 1 Axes>"
      ]
     },
     "metadata": {
      "needs_background": "light"
     },
     "output_type": "display_data"
    }
   ],
   "source": [
    "worm_count_df['ci_difference'] = worm_count_df['auto_ci'] - worm_count_df['manual_ci']\n",
    "fig, ax = plt.subplots(constrained_layout=True)\n",
    "ax.set_ylim((-1, 1))\n",
    "ax = sns.regplot(x='total_worms_manual', y='ci_difference', ax=ax,\n",
    "                     data=worm_count_df)\n",
    "ax.set_ylabel('CI difference between (man-machine)')\n",
    "ax.set_xlabel('Worm count (manual)')\n",
    "sns.despine(offset=10)\n",
    "\n",
    "fig.savefig(base_folder.joinpath('ci_diff_vs_machine_total.pdf'))\n",
    "\n",
    "fit_results = stats.linregress(\n",
    "    worm_count_df['total_worms_manual'], worm_count_df['ci_difference'])\n",
    "print(fit_results)"
   ]
  },
  {
   "cell_type": "code",
   "execution_count": null,
   "metadata": {},
   "outputs": [],
   "source": []
  },
  {
   "cell_type": "code",
   "execution_count": 15,
   "metadata": {},
   "outputs": [
    {
     "data": {
      "text/plain": [
       "Text(0.5, 1.0, 'N2 chemotaxis by image analysis method')"
      ]
     },
     "execution_count": 15,
     "metadata": {},
     "output_type": "execute_result"
    },
    {
     "data": {
      "image/png": "[encoded data removed]",
      "text/plain": [
       "<Figure size 1440x360 with 1 Axes>"
      ]
     },
     "metadata": {
      "needs_background": "light"
     },
     "output_type": "display_data"
    }
   ],
   "source": [
    "fig, ax = plt.subplots(figsize=(20, 5), constrained_layout=True)\n",
    "sns.stripplot(x='Compound Name', y='Chemotaxis Index', ax=ax, dodge=True, #style='analysis_method',\n",
    "              hue='analysis_method', marker='o', palette='Oranges',\n",
    "              data=combined_results)\n",
    "\n",
    "ax.set_xlabel('')\n",
    "ax.set_ylabel('Chemotaxis Index')\n",
    "ax.legend(bbox_to_anchor=(1.1, 1.05))\n",
    "ax.set_ylim((-1, 1))\n",
    "sns.despine(offset=10)\n",
    "plt.xticks(rotation=90)\n",
    "ax.set_title('N2 chemotaxis by image analysis method')\n",
    "\n",
    "#fig.savefig('../N2_chemotaxis_results_auto_vs_manual.pdf')"
   ]
  }
 ],
 "metadata": {
  "kernelspec": {
   "display_name": "Python 3",
   "language": "python",
   "name": "python3"
  },
  "language_info": {
   "codemirror_mode": {
    "name": "ipython",
    "version": 3
   },
   "file_extension": ".py",
   "mimetype": "text/x-python",
   "name": "python",
   "nbconvert_exporter": "python",
   "pygments_lexer": "ipython3",
   "version": "3.7.4"
  }
 },
 "nbformat": 4,
 "nbformat_minor": 2
}
