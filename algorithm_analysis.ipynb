{
 "cells": [
  {
   "cell_type": "code",
   "execution_count": 1,
   "metadata": {},
   "outputs": [],
   "source": [
    "import time\n",
    "import pandas as pd\n",
    "import matplotlib as mpl\n",
    "import matplotlib.pyplot as plt\n",
    "from scipy import stats\n",
    "import numpy as np\n",
    "import pathlib\n",
    "import warnings\n",
    "import seaborn as sns\n",
    "from skimage import io"
   ]
  },
  {
   "cell_type": "markdown",
   "metadata": {},
   "source": [
    "### Set up file paths for data handling"
   ]
  },
  {
   "cell_type": "code",
   "execution_count": 2,
   "metadata": {},
   "outputs": [],
   "source": [
    "base_folder = pathlib.Path('D:/_2021_03_screen/')\n",
    "manual_analysis_data_folder = base_folder.joinpath('manual_counts')\n",
    "automated_analysis_data_folder = base_folder.joinpath('_2021_03_automated_results')\n",
    "image_folder = base_folder.joinpath('crops_4manual')\n",
    "figure_folder = base_folder.joinpath('Figures')"
   ]
  },
  {
   "cell_type": "markdown",
   "metadata": {},
   "source": [
    "### Read in the metadata associated with the annotated images"
   ]
  },
  {
   "cell_type": "code",
   "execution_count": 3,
   "metadata": {},
   "outputs": [],
   "source": [
    "metadata = pd.read_csv(base_folder.joinpath('2103_data_unblinded.csv'),  index_col=0)"
   ]
  },
  {
   "cell_type": "markdown",
   "metadata": {},
   "source": [
    "### Clean up and add image dimensions\n",
    "<p>Dyanmic cropping results in images of variable width. As a result we need to be sure that the dimensions being used to calculate the chemotaxis index are consistent for both automated and manual annotation methods. Images were previously cropped for manual annotation. These previously cropped images are being measured in the chunk of code below</p>"
   ]
  },
  {
   "cell_type": "code",
   "execution_count": 4,
   "metadata": {},
   "outputs": [
    {
     "name": "stderr",
     "output_type": "stream",
     "text": [
      "C:\\ProgramData\\Anaconda3\\envs\\neuroplant\\lib\\site-packages\\ipykernel_launcher.py:10: SettingWithCopyWarning: \n",
      "A value is trying to be set on a copy of a slice from a DataFrame.\n",
      "Try using .loc[row_indexer,col_indexer] = value instead\n",
      "\n",
      "See the caveats in the documentation: https://pandas.pydata.org/pandas-docs/stable/user_guide/indexing.html#returning-a-view-versus-a-copy\n",
      "  # Remove the CWD from sys.path while we load stuff.\n"
     ]
    }
   ],
   "source": [
    "analysis_summary = []\n",
    "for image in image_folder.glob('NPP*.tif'):\n",
    "    image_id = image.stem[:-3]\n",
    "    well_id = image.stem[-2:]\n",
    "    img = io.imread(image)\n",
    "    dims = img.shape\n",
    "\n",
    "    row = metadata.loc[(metadata['File Name'] == image_id) & \n",
    "                               (metadata['WellNo'] == well_id)]\n",
    "    row['Width']= dims[1]\n",
    "    analysis_summary.append(row)\n",
    "analysis_summary = pd.concat(analysis_summary, sort=True)"
   ]
  },
  {
   "cell_type": "code",
   "execution_count": 5,
   "metadata": {},
   "outputs": [
    {
     "data": {
      "text/html": [
       "<div>\n",
       "<style scoped>\n",
       "    .dataframe tbody tr th:only-of-type {\n",
       "        vertical-align: middle;\n",
       "    }\n",
       "\n",
       "    .dataframe tbody tr th {\n",
       "        vertical-align: top;\n",
       "    }\n",
       "\n",
       "    .dataframe thead th {\n",
       "        text-align: right;\n",
       "    }\n",
       "</style>\n",
       "<table border=\"1\" class=\"dataframe\">\n",
       "  <thead>\n",
       "    <tr style=\"text-align: right;\">\n",
       "      <th></th>\n",
       "      <th>Chemotaxis</th>\n",
       "      <th>Compound</th>\n",
       "      <th>Compound Name</th>\n",
       "      <th>File Name</th>\n",
       "      <th>Plate ID</th>\n",
       "      <th>Slot</th>\n",
       "      <th>Strain</th>\n",
       "      <th>Total Worms</th>\n",
       "      <th>Well</th>\n",
       "      <th>WellNo</th>\n",
       "      <th>Width</th>\n",
       "    </tr>\n",
       "  </thead>\n",
       "  <tbody>\n",
       "    <tr>\n",
       "      <th>120</th>\n",
       "      <td>0.375887</td>\n",
       "      <td>41</td>\n",
       "      <td>α-Phellandrene</td>\n",
       "      <td>NPP_210319_POST_002</td>\n",
       "      <td>NPP_210319_005</td>\n",
       "      <td>1</td>\n",
       "      <td>NaN</td>\n",
       "      <td>182</td>\n",
       "      <td>A</td>\n",
       "      <td>1A</td>\n",
       "      <td>3060</td>\n",
       "    </tr>\n",
       "    <tr>\n",
       "      <th>123</th>\n",
       "      <td>0.135135</td>\n",
       "      <td>42</td>\n",
       "      <td>Salicylic Acid</td>\n",
       "      <td>NPP_210319_POST_002</td>\n",
       "      <td>NPP_210319_005</td>\n",
       "      <td>1</td>\n",
       "      <td>NaN</td>\n",
       "      <td>174</td>\n",
       "      <td>B</td>\n",
       "      <td>1B</td>\n",
       "      <td>3069</td>\n",
       "    </tr>\n",
       "    <tr>\n",
       "      <th>126</th>\n",
       "      <td>-0.193182</td>\n",
       "      <td>43</td>\n",
       "      <td>Ethyl p-Methoxycinnamate</td>\n",
       "      <td>NPP_210319_POST_002</td>\n",
       "      <td>NPP_210319_005</td>\n",
       "      <td>1</td>\n",
       "      <td>NaN</td>\n",
       "      <td>229</td>\n",
       "      <td>C</td>\n",
       "      <td>1C</td>\n",
       "      <td>3065</td>\n",
       "    </tr>\n",
       "    <tr>\n",
       "      <th>129</th>\n",
       "      <td>-0.145631</td>\n",
       "      <td>44</td>\n",
       "      <td>(+)-Rose Oxide</td>\n",
       "      <td>NPP_210319_POST_002</td>\n",
       "      <td>NPP_210319_005</td>\n",
       "      <td>1</td>\n",
       "      <td>NaN</td>\n",
       "      <td>130</td>\n",
       "      <td>D</td>\n",
       "      <td>1D</td>\n",
       "      <td>3042</td>\n",
       "    </tr>\n",
       "    <tr>\n",
       "      <th>132</th>\n",
       "      <td>0.080214</td>\n",
       "      <td>45</td>\n",
       "      <td>Sabinene</td>\n",
       "      <td>NPP_210319_POST_002</td>\n",
       "      <td>NPP_210319_006</td>\n",
       "      <td>2</td>\n",
       "      <td>NaN</td>\n",
       "      <td>232</td>\n",
       "      <td>A</td>\n",
       "      <td>2A</td>\n",
       "      <td>3083</td>\n",
       "    </tr>\n",
       "  </tbody>\n",
       "</table>\n",
       "</div>"
      ],
      "text/plain": [
       "     Chemotaxis  Compound             Compound Name            File Name  \\\n",
       "120    0.375887        41            α-Phellandrene  NPP_210319_POST_002   \n",
       "123    0.135135        42            Salicylic Acid  NPP_210319_POST_002   \n",
       "126   -0.193182        43  Ethyl p-Methoxycinnamate  NPP_210319_POST_002   \n",
       "129   -0.145631        44            (+)-Rose Oxide  NPP_210319_POST_002   \n",
       "132    0.080214        45                  Sabinene  NPP_210319_POST_002   \n",
       "\n",
       "           Plate ID  Slot  Strain  Total Worms Well WellNo  Width  \n",
       "120  NPP_210319_005     1     NaN          182    A     1A   3060  \n",
       "123  NPP_210319_005     1     NaN          174    B     1B   3069  \n",
       "126  NPP_210319_005     1     NaN          229    C     1C   3065  \n",
       "129  NPP_210319_005     1     NaN          130    D     1D   3042  \n",
       "132  NPP_210319_006     2     NaN          232    A     2A   3083  "
      ]
     },
     "execution_count": 5,
     "metadata": {},
     "output_type": "execute_result"
    }
   ],
   "source": [
    "analysis_summary.head()"
   ]
  },
  {
   "cell_type": "markdown",
   "metadata": {},
   "source": [
    "### Aggregate and clean all of the manual annotations"
   ]
  },
  {
   "cell_type": "code",
   "execution_count": 6,
   "metadata": {
    "scrolled": false
   },
   "outputs": [
    {
     "data": {
      "text/html": [
       "<div>\n",
       "<style scoped>\n",
       "    .dataframe tbody tr th:only-of-type {\n",
       "        vertical-align: middle;\n",
       "    }\n",
       "\n",
       "    .dataframe tbody tr th {\n",
       "        vertical-align: top;\n",
       "    }\n",
       "\n",
       "    .dataframe thead th {\n",
       "        text-align: right;\n",
       "    }\n",
       "</style>\n",
       "<table border=\"1\" class=\"dataframe\">\n",
       "  <thead>\n",
       "    <tr style=\"text-align: right;\">\n",
       "      <th></th>\n",
       "      <th>Mean</th>\n",
       "      <th>WellNo</th>\n",
       "      <th>X</th>\n",
       "      <th>Y</th>\n",
       "      <th>file_id</th>\n",
       "    </tr>\n",
       "    <tr>\n",
       "      <th></th>\n",
       "      <th></th>\n",
       "      <th></th>\n",
       "      <th></th>\n",
       "      <th></th>\n",
       "      <th></th>\n",
       "    </tr>\n",
       "  </thead>\n",
       "  <tbody>\n",
       "    <tr>\n",
       "      <th>1</th>\n",
       "      <td>NaN</td>\n",
       "      <td>1A</td>\n",
       "      <td>390.0</td>\n",
       "      <td>56.0</td>\n",
       "      <td>210319_POST_002</td>\n",
       "    </tr>\n",
       "    <tr>\n",
       "      <th>2</th>\n",
       "      <td>NaN</td>\n",
       "      <td>1A</td>\n",
       "      <td>392.0</td>\n",
       "      <td>30.0</td>\n",
       "      <td>210319_POST_002</td>\n",
       "    </tr>\n",
       "    <tr>\n",
       "      <th>3</th>\n",
       "      <td>NaN</td>\n",
       "      <td>1A</td>\n",
       "      <td>300.0</td>\n",
       "      <td>122.0</td>\n",
       "      <td>210319_POST_002</td>\n",
       "    </tr>\n",
       "    <tr>\n",
       "      <th>4</th>\n",
       "      <td>NaN</td>\n",
       "      <td>1A</td>\n",
       "      <td>320.0</td>\n",
       "      <td>154.0</td>\n",
       "      <td>210319_POST_002</td>\n",
       "    </tr>\n",
       "    <tr>\n",
       "      <th>5</th>\n",
       "      <td>NaN</td>\n",
       "      <td>1A</td>\n",
       "      <td>290.0</td>\n",
       "      <td>176.0</td>\n",
       "      <td>210319_POST_002</td>\n",
       "    </tr>\n",
       "  </tbody>\n",
       "</table>\n",
       "</div>"
      ],
      "text/plain": [
       "   Mean WellNo      X      Y          file_id\n",
       "                                             \n",
       "1   NaN     1A  390.0   56.0  210319_POST_002\n",
       "2   NaN     1A  392.0   30.0  210319_POST_002\n",
       "3   NaN     1A  300.0  122.0  210319_POST_002\n",
       "4   NaN     1A  320.0  154.0  210319_POST_002\n",
       "5   NaN     1A  290.0  176.0  210319_POST_002"
      ]
     },
     "execution_count": 6,
     "metadata": {},
     "output_type": "execute_result"
    }
   ],
   "source": [
    "results_files = manual_analysis_data_folder.glob('[!_.]*.csv')\n",
    "\n",
    "manual_analysis_results = []\n",
    "for file in results_files:\n",
    "    prefix = file.stem[:3]\n",
    "    ## Some of the data was saved in tabular format and needs to be handled \n",
    "    if prefix != 'SYR':\n",
    "        this_experiment_df = pd.read_csv(file,  index_col=0)\n",
    "        image_id = file.stem[4:-3]\n",
    "        this_experiment_df['file_id'] = image_id\n",
    "        well_id = file.stem[-2:].upper()\n",
    "\n",
    "        this_experiment_df['WellNo'] = well_id\n",
    "\n",
    "        manual_analysis_results.append(this_experiment_df)\n",
    "    else:\n",
    "        this_experiment_df = pd.read_csv(file, sep = '\\t', index_col=0)\n",
    "        image_id = file.stem[4:-3]\n",
    "        this_experiment_df['file_id'] = image_id\n",
    "        well_id = file.stem[-2:].upper()\n",
    "\n",
    "        this_experiment_df['WellNo'] = well_id\n",
    "\n",
    "        manual_analysis_results.append(this_experiment_df)\n",
    "manual_analysis_results = pd.concat(manual_analysis_results, sort=True)\n",
    "manual_analysis_results.head()"
   ]
  },
  {
   "cell_type": "code",
   "execution_count": 7,
   "metadata": {},
   "outputs": [],
   "source": [
    "#manual_analysis_results.to_csv(base_folder.joinpath('All_x.csv'))\n",
    "manual_analysis_results = pd.read_csv(base_folder.joinpath('All_x.csv'))"
   ]
  },
  {
   "cell_type": "markdown",
   "metadata": {},
   "source": [
    "### Calculating the chemotaxis index from the manually annotated images"
   ]
  },
  {
   "cell_type": "code",
   "execution_count": 8,
   "metadata": {},
   "outputs": [
    {
     "data": {
      "text/html": [
       "<div>\n",
       "<style scoped>\n",
       "    .dataframe tbody tr th:only-of-type {\n",
       "        vertical-align: middle;\n",
       "    }\n",
       "\n",
       "    .dataframe tbody tr th {\n",
       "        vertical-align: top;\n",
       "    }\n",
       "\n",
       "    .dataframe thead th {\n",
       "        text-align: right;\n",
       "    }\n",
       "</style>\n",
       "<table border=\"1\" class=\"dataframe\">\n",
       "  <thead>\n",
       "    <tr style=\"text-align: right;\">\n",
       "      <th></th>\n",
       "      <th>Compound</th>\n",
       "      <th>Compound Name</th>\n",
       "      <th>File Name</th>\n",
       "      <th>Plate ID</th>\n",
       "      <th>Slot</th>\n",
       "      <th>Well</th>\n",
       "      <th>WellNo</th>\n",
       "      <th>Width</th>\n",
       "      <th>worms_on_compound_side</th>\n",
       "      <th>worms_on_solvent_side</th>\n",
       "      <th>worms_on_neutral_side</th>\n",
       "      <th>Total Worms</th>\n",
       "      <th>Chemotaxis Index</th>\n",
       "      <th>analysis_method</th>\n",
       "    </tr>\n",
       "  </thead>\n",
       "  <tbody>\n",
       "    <tr>\n",
       "      <th>120</th>\n",
       "      <td>41</td>\n",
       "      <td>α-Phellandrene</td>\n",
       "      <td>NPP_210319_POST_002</td>\n",
       "      <td>NPP_210319_005</td>\n",
       "      <td>1</td>\n",
       "      <td>A</td>\n",
       "      <td>1A</td>\n",
       "      <td>3060</td>\n",
       "      <td>99.0</td>\n",
       "      <td>48.0</td>\n",
       "      <td>23.0</td>\n",
       "      <td>170.0</td>\n",
       "      <td>0.346939</td>\n",
       "      <td>manual</td>\n",
       "    </tr>\n",
       "    <tr>\n",
       "      <th>123</th>\n",
       "      <td>42</td>\n",
       "      <td>Salicylic Acid</td>\n",
       "      <td>NPP_210319_POST_002</td>\n",
       "      <td>NPP_210319_005</td>\n",
       "      <td>1</td>\n",
       "      <td>B</td>\n",
       "      <td>1B</td>\n",
       "      <td>3069</td>\n",
       "      <td>90.0</td>\n",
       "      <td>65.0</td>\n",
       "      <td>24.0</td>\n",
       "      <td>179.0</td>\n",
       "      <td>0.161290</td>\n",
       "      <td>manual</td>\n",
       "    </tr>\n",
       "    <tr>\n",
       "      <th>126</th>\n",
       "      <td>43</td>\n",
       "      <td>Ethyl p-Methoxycinnamate</td>\n",
       "      <td>NPP_210319_POST_002</td>\n",
       "      <td>NPP_210319_005</td>\n",
       "      <td>1</td>\n",
       "      <td>C</td>\n",
       "      <td>1C</td>\n",
       "      <td>3065</td>\n",
       "      <td>84.0</td>\n",
       "      <td>109.0</td>\n",
       "      <td>47.0</td>\n",
       "      <td>240.0</td>\n",
       "      <td>-0.129534</td>\n",
       "      <td>manual</td>\n",
       "    </tr>\n",
       "    <tr>\n",
       "      <th>129</th>\n",
       "      <td>44</td>\n",
       "      <td>(+)-Rose Oxide</td>\n",
       "      <td>NPP_210319_POST_002</td>\n",
       "      <td>NPP_210319_005</td>\n",
       "      <td>1</td>\n",
       "      <td>D</td>\n",
       "      <td>1D</td>\n",
       "      <td>3042</td>\n",
       "      <td>46.0</td>\n",
       "      <td>64.0</td>\n",
       "      <td>27.0</td>\n",
       "      <td>137.0</td>\n",
       "      <td>-0.163636</td>\n",
       "      <td>manual</td>\n",
       "    </tr>\n",
       "    <tr>\n",
       "      <th>132</th>\n",
       "      <td>45</td>\n",
       "      <td>Sabinene</td>\n",
       "      <td>NPP_210319_POST_002</td>\n",
       "      <td>NPP_210319_006</td>\n",
       "      <td>2</td>\n",
       "      <td>A</td>\n",
       "      <td>2A</td>\n",
       "      <td>3083</td>\n",
       "      <td>121.0</td>\n",
       "      <td>95.0</td>\n",
       "      <td>36.0</td>\n",
       "      <td>252.0</td>\n",
       "      <td>0.120370</td>\n",
       "      <td>manual</td>\n",
       "    </tr>\n",
       "  </tbody>\n",
       "</table>\n",
       "</div>"
      ],
      "text/plain": [
       "     Compound             Compound Name            File Name        Plate ID  \\\n",
       "120        41            α-Phellandrene  NPP_210319_POST_002  NPP_210319_005   \n",
       "123        42            Salicylic Acid  NPP_210319_POST_002  NPP_210319_005   \n",
       "126        43  Ethyl p-Methoxycinnamate  NPP_210319_POST_002  NPP_210319_005   \n",
       "129        44            (+)-Rose Oxide  NPP_210319_POST_002  NPP_210319_005   \n",
       "132        45                  Sabinene  NPP_210319_POST_002  NPP_210319_006   \n",
       "\n",
       "     Slot Well WellNo  Width  worms_on_compound_side  worms_on_solvent_side  \\\n",
       "120     1    A     1A   3060                    99.0                   48.0   \n",
       "123     1    B     1B   3069                    90.0                   65.0   \n",
       "126     1    C     1C   3065                    84.0                  109.0   \n",
       "129     1    D     1D   3042                    46.0                   64.0   \n",
       "132     2    A     2A   3083                   121.0                   95.0   \n",
       "\n",
       "     worms_on_neutral_side  Total Worms  Chemotaxis Index analysis_method  \n",
       "120                   23.0        170.0          0.346939          manual  \n",
       "123                   24.0        179.0          0.161290          manual  \n",
       "126                   47.0        240.0         -0.129534          manual  \n",
       "129                   27.0        137.0         -0.163636          manual  \n",
       "132                   36.0        252.0          0.120370          manual  "
      ]
     },
     "execution_count": 8,
     "metadata": {},
     "output_type": "execute_result"
    }
   ],
   "source": [
    "\n",
    "manual_analysis_summary = analysis_summary.copy()\n",
    "manual_analysis_summary = manual_analysis_summary.drop(['Chemotaxis', 'Strain', 'Total Worms'], axis=1)\n",
    "\n",
    "for index, well in manual_analysis_summary.iterrows():\n",
    "    width = well['Width']\n",
    "    solvent_limit = int(width*5/9)\n",
    "    compount_limit = int(width*4/9)\n",
    "    image_id = well['File Name']\n",
    "    file_id = image_id[4:]\n",
    "    well_id = well['WellNo']\n",
    "    \n",
    "    # Find number of worms in each region\n",
    "    compound_side_worms = manual_analysis_results.loc[\n",
    "            (manual_analysis_results['file_id'] == file_id) &\n",
    "            (manual_analysis_results['WellNo'] == well_id) &\n",
    "            (manual_analysis_results['X'] <= compount_limit)].shape[0]\n",
    "    manual_analysis_summary.loc[index, 'worms_on_compound_side'] = compound_side_worms\n",
    "    \n",
    "    solvent_side_worms = manual_analysis_results.loc[\n",
    "            (manual_analysis_results['file_id'] == file_id) &\n",
    "            (manual_analysis_results['WellNo'] == well_id) &\n",
    "            (manual_analysis_results['X'] >= solvent_limit)].shape[0]\n",
    "    manual_analysis_summary.loc[index, 'worms_on_solvent_side'] = solvent_side_worms\n",
    "    \n",
    "    neutral_worms = manual_analysis_results.loc[\n",
    "            (manual_analysis_results['file_id'] == file_id) &\n",
    "            (manual_analysis_results['WellNo'] == well_id) &\n",
    "            (manual_analysis_results['X'] <= solvent_limit) &\n",
    "            (manual_analysis_results['X'] >= compount_limit)].shape[0]\n",
    "    manual_analysis_summary.loc[index, 'worms_on_neutral_side'] = neutral_worms\n",
    "    \n",
    "    manual_analysis_summary.loc[index, 'Total Worms'] = (compound_side_worms + solvent_side_worms + neutral_worms)\n",
    "\n",
    "    # Calculate chemotaxis index (and centroid for good measure)\n",
    "    if compound_side_worms != 0 and solvent_side_worms != 0:\n",
    "        manual_analysis_summary.loc[index, 'Chemotaxis Index'] = ((compound_side_worms - solvent_side_worms) / \n",
    "                                                   (compound_side_worms + solvent_side_worms))\n",
    "    \n",
    "\n",
    "manual_analysis_summary['analysis_method'] = 'manual'\n",
    "manual_analysis_summary.head()"
   ]
  },
  {
   "cell_type": "code",
   "execution_count": null,
   "metadata": {},
   "outputs": [],
   "source": []
  },
  {
   "cell_type": "markdown",
   "metadata": {},
   "source": [
    "### A plot of summary statistics for both manual and automated annotations"
   ]
  },
  {
   "cell_type": "code",
   "execution_count": 9,
   "metadata": {},
   "outputs": [
    {
     "name": "stderr",
     "output_type": "stream",
     "text": [
      "C:\\ProgramData\\Anaconda3\\envs\\neuroplant\\lib\\site-packages\\seaborn\\distributions.py:2557: FutureWarning: `distplot` is a deprecated function and will be removed in a future version. Please adapt your code to use either `displot` (a figure-level function with similar flexibility) or `histplot` (an axes-level function for histograms).\n",
      "  warnings.warn(msg, FutureWarning)\n"
     ]
    },
    {
     "name": "stdout",
     "output_type": "stream",
     "text": [
      "Manual counts:\n",
      " count     96.000000\n",
      "mean     293.458333\n",
      "std      104.906366\n",
      "min       95.000000\n",
      "25%      199.500000\n",
      "50%      300.500000\n",
      "75%      372.000000\n",
      "max      549.000000\n",
      "Name: mean, dtype: float64\n",
      "Automated counts:\n",
      " count     96.000000\n",
      "mean     241.281250\n",
      "std       78.214106\n",
      "min      104.000000\n",
      "25%      174.000000\n",
      "50%      247.500000\n",
      "75%      300.500000\n",
      "max      405.000000\n",
      "Name: Total Worms, dtype: float64\n"
     ]
    },
    {
     "data": {
      "image/png": "[encoded data removed]",
      "text/plain": [
       "<Figure size 720x288 with 2 Axes>"
      ]
     },
     "metadata": {
      "needs_background": "light"
     },
     "output_type": "display_data"
    }
   ],
   "source": [
    "fig, axes = plt.subplots(nrows=1, ncols=2, figsize=(10, 4), constrained_layout=True)\n",
    "\n",
    "axes[0] = sns.distplot(analysis_summary['Total Worms'], kde=False,\n",
    "                      ax=axes[0])\n",
    "axes[0].set_title('Worm count for automated analysis')\n",
    "\n",
    "\n",
    "axes[1] =  sns.distplot(\n",
    "    manual_analysis_summary.groupby(\n",
    "        ['Plate ID', 'WellNo']).describe()['Total Worms']['mean'],\n",
    "    kde=False, ax=axes[1])\n",
    "axes[1].set_title('Worm count for manual analysis')\n",
    "\n",
    "print('Manual counts:\\n',\n",
    "      manual_analysis_summary.groupby(['Plate ID', 'WellNo']).describe()['Total Worms']['mean'].describe())\n",
    "print('Automated counts:\\n',\n",
    "      analysis_summary['Total Worms'].describe())\n"
   ]
  },
  {
   "cell_type": "markdown",
   "metadata": {},
   "source": [
    "### Cleaning up automated annotation data and combing it with manually annotated data for plotting"
   ]
  },
  {
   "cell_type": "code",
   "execution_count": 10,
   "metadata": {},
   "outputs": [
    {
     "data": {
      "text/html": [
       "<div>\n",
       "<style scoped>\n",
       "    .dataframe tbody tr th:only-of-type {\n",
       "        vertical-align: middle;\n",
       "    }\n",
       "\n",
       "    .dataframe tbody tr th {\n",
       "        vertical-align: top;\n",
       "    }\n",
       "\n",
       "    .dataframe thead th {\n",
       "        text-align: right;\n",
       "    }\n",
       "</style>\n",
       "<table border=\"1\" class=\"dataframe\">\n",
       "  <thead>\n",
       "    <tr style=\"text-align: right;\">\n",
       "      <th></th>\n",
       "      <th>Chemotaxis Index</th>\n",
       "      <th>Compound</th>\n",
       "      <th>Compound Name</th>\n",
       "      <th>File Name</th>\n",
       "      <th>Plate ID</th>\n",
       "      <th>Slot</th>\n",
       "      <th>Total Worms</th>\n",
       "      <th>Well</th>\n",
       "      <th>WellNo</th>\n",
       "      <th>Width</th>\n",
       "      <th>analysis_method</th>\n",
       "    </tr>\n",
       "  </thead>\n",
       "  <tbody>\n",
       "    <tr>\n",
       "      <th>120</th>\n",
       "      <td>0.375887</td>\n",
       "      <td>41</td>\n",
       "      <td>α-Phellandrene</td>\n",
       "      <td>NPP_210319_POST_002</td>\n",
       "      <td>NPP_210319_005</td>\n",
       "      <td>1</td>\n",
       "      <td>182</td>\n",
       "      <td>A</td>\n",
       "      <td>1A</td>\n",
       "      <td>3060</td>\n",
       "      <td>auto</td>\n",
       "    </tr>\n",
       "    <tr>\n",
       "      <th>123</th>\n",
       "      <td>0.135135</td>\n",
       "      <td>42</td>\n",
       "      <td>Salicylic Acid</td>\n",
       "      <td>NPP_210319_POST_002</td>\n",
       "      <td>NPP_210319_005</td>\n",
       "      <td>1</td>\n",
       "      <td>174</td>\n",
       "      <td>B</td>\n",
       "      <td>1B</td>\n",
       "      <td>3069</td>\n",
       "      <td>auto</td>\n",
       "    </tr>\n",
       "    <tr>\n",
       "      <th>126</th>\n",
       "      <td>-0.193182</td>\n",
       "      <td>43</td>\n",
       "      <td>Ethyl p-Methoxycinnamate</td>\n",
       "      <td>NPP_210319_POST_002</td>\n",
       "      <td>NPP_210319_005</td>\n",
       "      <td>1</td>\n",
       "      <td>229</td>\n",
       "      <td>C</td>\n",
       "      <td>1C</td>\n",
       "      <td>3065</td>\n",
       "      <td>auto</td>\n",
       "    </tr>\n",
       "    <tr>\n",
       "      <th>129</th>\n",
       "      <td>-0.145631</td>\n",
       "      <td>44</td>\n",
       "      <td>(+)-Rose Oxide</td>\n",
       "      <td>NPP_210319_POST_002</td>\n",
       "      <td>NPP_210319_005</td>\n",
       "      <td>1</td>\n",
       "      <td>130</td>\n",
       "      <td>D</td>\n",
       "      <td>1D</td>\n",
       "      <td>3042</td>\n",
       "      <td>auto</td>\n",
       "    </tr>\n",
       "    <tr>\n",
       "      <th>132</th>\n",
       "      <td>0.080214</td>\n",
       "      <td>45</td>\n",
       "      <td>Sabinene</td>\n",
       "      <td>NPP_210319_POST_002</td>\n",
       "      <td>NPP_210319_006</td>\n",
       "      <td>2</td>\n",
       "      <td>232</td>\n",
       "      <td>A</td>\n",
       "      <td>2A</td>\n",
       "      <td>3083</td>\n",
       "      <td>auto</td>\n",
       "    </tr>\n",
       "  </tbody>\n",
       "</table>\n",
       "</div>"
      ],
      "text/plain": [
       "     Chemotaxis Index  Compound             Compound Name  \\\n",
       "120          0.375887        41            α-Phellandrene   \n",
       "123          0.135135        42            Salicylic Acid   \n",
       "126         -0.193182        43  Ethyl p-Methoxycinnamate   \n",
       "129         -0.145631        44            (+)-Rose Oxide   \n",
       "132          0.080214        45                  Sabinene   \n",
       "\n",
       "               File Name        Plate ID  Slot  Total Worms Well WellNo  \\\n",
       "120  NPP_210319_POST_002  NPP_210319_005     1          182    A     1A   \n",
       "123  NPP_210319_POST_002  NPP_210319_005     1          174    B     1B   \n",
       "126  NPP_210319_POST_002  NPP_210319_005     1          229    C     1C   \n",
       "129  NPP_210319_POST_002  NPP_210319_005     1          130    D     1D   \n",
       "132  NPP_210319_POST_002  NPP_210319_006     2          232    A     2A   \n",
       "\n",
       "     Width analysis_method  \n",
       "120   3060            auto  \n",
       "123   3069            auto  \n",
       "126   3065            auto  \n",
       "129   3042            auto  \n",
       "132   3083            auto  "
      ]
     },
     "execution_count": 10,
     "metadata": {},
     "output_type": "execute_result"
    }
   ],
   "source": [
    "analysis_summary = analysis_summary.drop(['Strain'], axis=1)\n",
    "analysis_summary = analysis_summary.rename(columns={'Chemotaxis': 'Chemotaxis Index'})\n",
    "analysis_summary['analysis_method'] = 'auto'\n",
    "analysis_summary.head()"
   ]
  },
  {
   "cell_type": "code",
   "execution_count": 11,
   "metadata": {},
   "outputs": [
    {
     "data": {
      "text/html": [
       "<div>\n",
       "<style scoped>\n",
       "    .dataframe tbody tr th:only-of-type {\n",
       "        vertical-align: middle;\n",
       "    }\n",
       "\n",
       "    .dataframe tbody tr th {\n",
       "        vertical-align: top;\n",
       "    }\n",
       "\n",
       "    .dataframe thead th {\n",
       "        text-align: right;\n",
       "    }\n",
       "</style>\n",
       "<table border=\"1\" class=\"dataframe\">\n",
       "  <thead>\n",
       "    <tr style=\"text-align: right;\">\n",
       "      <th></th>\n",
       "      <th>File Name</th>\n",
       "      <th>Plate ID</th>\n",
       "      <th>WellNo</th>\n",
       "      <th>Compound</th>\n",
       "      <th>Compound Name</th>\n",
       "      <th>Total Worms</th>\n",
       "      <th>Chemotaxis Index</th>\n",
       "      <th>analysis_method</th>\n",
       "      <th>Width</th>\n",
       "    </tr>\n",
       "  </thead>\n",
       "  <tbody>\n",
       "    <tr>\n",
       "      <th>120</th>\n",
       "      <td>NPP_210319_POST_002</td>\n",
       "      <td>NPP_210319_005</td>\n",
       "      <td>1A</td>\n",
       "      <td>41</td>\n",
       "      <td>α-Phellandrene</td>\n",
       "      <td>170.0</td>\n",
       "      <td>0.346939</td>\n",
       "      <td>manual</td>\n",
       "      <td>3060</td>\n",
       "    </tr>\n",
       "    <tr>\n",
       "      <th>123</th>\n",
       "      <td>NPP_210319_POST_002</td>\n",
       "      <td>NPP_210319_005</td>\n",
       "      <td>1B</td>\n",
       "      <td>42</td>\n",
       "      <td>Salicylic Acid</td>\n",
       "      <td>179.0</td>\n",
       "      <td>0.161290</td>\n",
       "      <td>manual</td>\n",
       "      <td>3069</td>\n",
       "    </tr>\n",
       "    <tr>\n",
       "      <th>126</th>\n",
       "      <td>NPP_210319_POST_002</td>\n",
       "      <td>NPP_210319_005</td>\n",
       "      <td>1C</td>\n",
       "      <td>43</td>\n",
       "      <td>Ethyl p-Methoxycinnamate</td>\n",
       "      <td>240.0</td>\n",
       "      <td>-0.129534</td>\n",
       "      <td>manual</td>\n",
       "      <td>3065</td>\n",
       "    </tr>\n",
       "    <tr>\n",
       "      <th>129</th>\n",
       "      <td>NPP_210319_POST_002</td>\n",
       "      <td>NPP_210319_005</td>\n",
       "      <td>1D</td>\n",
       "      <td>44</td>\n",
       "      <td>(+)-Rose Oxide</td>\n",
       "      <td>137.0</td>\n",
       "      <td>-0.163636</td>\n",
       "      <td>manual</td>\n",
       "      <td>3042</td>\n",
       "    </tr>\n",
       "    <tr>\n",
       "      <th>132</th>\n",
       "      <td>NPP_210319_POST_002</td>\n",
       "      <td>NPP_210319_006</td>\n",
       "      <td>2A</td>\n",
       "      <td>45</td>\n",
       "      <td>Sabinene</td>\n",
       "      <td>252.0</td>\n",
       "      <td>0.120370</td>\n",
       "      <td>manual</td>\n",
       "      <td>3083</td>\n",
       "    </tr>\n",
       "  </tbody>\n",
       "</table>\n",
       "</div>"
      ],
      "text/plain": [
       "               File Name        Plate ID WellNo  Compound  \\\n",
       "120  NPP_210319_POST_002  NPP_210319_005     1A        41   \n",
       "123  NPP_210319_POST_002  NPP_210319_005     1B        42   \n",
       "126  NPP_210319_POST_002  NPP_210319_005     1C        43   \n",
       "129  NPP_210319_POST_002  NPP_210319_005     1D        44   \n",
       "132  NPP_210319_POST_002  NPP_210319_006     2A        45   \n",
       "\n",
       "                Compound Name  Total Worms  Chemotaxis Index analysis_method  \\\n",
       "120            α-Phellandrene        170.0          0.346939          manual   \n",
       "123            Salicylic Acid        179.0          0.161290          manual   \n",
       "126  Ethyl p-Methoxycinnamate        240.0         -0.129534          manual   \n",
       "129            (+)-Rose Oxide        137.0         -0.163636          manual   \n",
       "132                  Sabinene        252.0          0.120370          manual   \n",
       "\n",
       "     Width  \n",
       "120   3060  \n",
       "123   3069  \n",
       "126   3065  \n",
       "129   3042  \n",
       "132   3083  "
      ]
     },
     "execution_count": 11,
     "metadata": {},
     "output_type": "execute_result"
    }
   ],
   "source": [
    "combined_results = pd.concat([manual_analysis_summary[['File Name', 'Plate ID',\n",
    "                                       'WellNo',\n",
    "                                       'Compound',\n",
    "                                       'Compound Name',\n",
    "                                       'Total Worms',\n",
    "                                       'Chemotaxis Index',\n",
    "                                       'analysis_method',\n",
    "                                        'Width']].copy(),\n",
    "                              analysis_summary[['File Name', 'Plate ID',\n",
    "                                       'WellNo',\n",
    "                                       'Compound',\n",
    "                                       'Compound Name',\n",
    "                                       'Total Worms',\n",
    "                                       'Chemotaxis Index',\n",
    "                                       'analysis_method',\n",
    "                                        'Width']].copy()])\n",
    "combined_results.head()"
   ]
  },
  {
   "cell_type": "markdown",
   "metadata": {},
   "source": [
    "### Generating plots to visualize the performance of the worm counting algorithm"
   ]
  },
  {
   "cell_type": "code",
   "execution_count": 12,
   "metadata": {},
   "outputs": [],
   "source": [
    "worms_by_manual_count = []\n",
    "for index, manual_count in manual_analysis_summary.iterrows():\n",
    "    this_manual_analysis = {\n",
    "        'file_name': manual_count['File Name'],\n",
    "        'well_id': manual_count['WellNo'],\n",
    "        'compound': manual_count['Compound Name'],\n",
    "        'total_worms_manual': manual_count['Total Worms'],\n",
    "        'manual_ci': manual_count['Chemotaxis Index'],\n",
    "        'total_worms_auto': analysis_summary.loc[\n",
    "            (analysis_summary['File Name']==manual_count['File Name']) &\n",
    "            (analysis_summary['WellNo']==manual_count['WellNo'])]['Total Worms'].values[0],\n",
    "        'auto_ci': analysis_summary.loc[\n",
    "            (analysis_summary['File Name']==manual_count['File Name']) &\n",
    "            (analysis_summary['WellNo']==manual_count['WellNo'])]['Chemotaxis Index'].values[0]}\n",
    "    worms_by_manual_count.append(this_manual_analysis)\n",
    "worm_count_df = pd.DataFrame(worms_by_manual_count)"
   ]
  },
  {
   "cell_type": "code",
   "execution_count": 13,
   "metadata": {},
   "outputs": [
    {
     "data": {
      "text/html": [
       "<div>\n",
       "<style scoped>\n",
       "    .dataframe tbody tr th:only-of-type {\n",
       "        vertical-align: middle;\n",
       "    }\n",
       "\n",
       "    .dataframe tbody tr th {\n",
       "        vertical-align: top;\n",
       "    }\n",
       "\n",
       "    .dataframe thead th {\n",
       "        text-align: right;\n",
       "    }\n",
       "</style>\n",
       "<table border=\"1\" class=\"dataframe\">\n",
       "  <thead>\n",
       "    <tr style=\"text-align: right;\">\n",
       "      <th></th>\n",
       "      <th>file_name</th>\n",
       "      <th>well_id</th>\n",
       "      <th>compound</th>\n",
       "      <th>total_worms_manual</th>\n",
       "      <th>manual_ci</th>\n",
       "      <th>total_worms_auto</th>\n",
       "      <th>auto_ci</th>\n",
       "    </tr>\n",
       "  </thead>\n",
       "  <tbody>\n",
       "    <tr>\n",
       "      <th>0</th>\n",
       "      <td>NPP_210319_POST_002</td>\n",
       "      <td>1A</td>\n",
       "      <td>α-Phellandrene</td>\n",
       "      <td>170.0</td>\n",
       "      <td>0.346939</td>\n",
       "      <td>182</td>\n",
       "      <td>0.375887</td>\n",
       "    </tr>\n",
       "    <tr>\n",
       "      <th>1</th>\n",
       "      <td>NPP_210319_POST_002</td>\n",
       "      <td>1B</td>\n",
       "      <td>Salicylic Acid</td>\n",
       "      <td>179.0</td>\n",
       "      <td>0.161290</td>\n",
       "      <td>174</td>\n",
       "      <td>0.135135</td>\n",
       "    </tr>\n",
       "    <tr>\n",
       "      <th>2</th>\n",
       "      <td>NPP_210319_POST_002</td>\n",
       "      <td>1C</td>\n",
       "      <td>Ethyl p-Methoxycinnamate</td>\n",
       "      <td>240.0</td>\n",
       "      <td>-0.129534</td>\n",
       "      <td>229</td>\n",
       "      <td>-0.193182</td>\n",
       "    </tr>\n",
       "    <tr>\n",
       "      <th>3</th>\n",
       "      <td>NPP_210319_POST_002</td>\n",
       "      <td>1D</td>\n",
       "      <td>(+)-Rose Oxide</td>\n",
       "      <td>137.0</td>\n",
       "      <td>-0.163636</td>\n",
       "      <td>130</td>\n",
       "      <td>-0.145631</td>\n",
       "    </tr>\n",
       "    <tr>\n",
       "      <th>4</th>\n",
       "      <td>NPP_210319_POST_002</td>\n",
       "      <td>2A</td>\n",
       "      <td>Sabinene</td>\n",
       "      <td>252.0</td>\n",
       "      <td>0.120370</td>\n",
       "      <td>232</td>\n",
       "      <td>0.080214</td>\n",
       "    </tr>\n",
       "  </tbody>\n",
       "</table>\n",
       "</div>"
      ],
      "text/plain": [
       "             file_name well_id                  compound  total_worms_manual  \\\n",
       "0  NPP_210319_POST_002      1A            α-Phellandrene               170.0   \n",
       "1  NPP_210319_POST_002      1B            Salicylic Acid               179.0   \n",
       "2  NPP_210319_POST_002      1C  Ethyl p-Methoxycinnamate               240.0   \n",
       "3  NPP_210319_POST_002      1D            (+)-Rose Oxide               137.0   \n",
       "4  NPP_210319_POST_002      2A                  Sabinene               252.0   \n",
       "\n",
       "   manual_ci  total_worms_auto   auto_ci  \n",
       "0   0.346939               182  0.375887  \n",
       "1   0.161290               174  0.135135  \n",
       "2  -0.129534               229 -0.193182  \n",
       "3  -0.163636               130 -0.145631  \n",
       "4   0.120370               232  0.080214  "
      ]
     },
     "execution_count": 13,
     "metadata": {},
     "output_type": "execute_result"
    }
   ],
   "source": [
    "worm_count_df.head()"
   ]
  },
  {
   "cell_type": "markdown",
   "metadata": {},
   "source": [
    "##### Total Worms: Manual vs Automated"
   ]
  },
  {
   "cell_type": "code",
   "execution_count": 14,
   "metadata": {},
   "outputs": [
    {
     "name": "stdout",
     "output_type": "stream",
     "text": [
      "LinregressResult(slope=0.7176432362135973, intercept=30.682861972818102, rvalue=0.9625545540895887, pvalue=4.39352045425025e-55, stderr=0.020846333836109922)\n"
     ]
    },
    {
     "data": {
      "image/png": "[encoded data removed]",
      "text/plain": [
       "<Figure size 432x288 with 1 Axes>"
      ]
     },
     "metadata": {
      "needs_background": "light"
     },
     "output_type": "display_data"
    }
   ],
   "source": [
    "fig, ax = plt.subplots(constrained_layout=True)\n",
    "sns.regplot(x='total_worms_manual', y='total_worms_auto', ax=ax, scatter_kws={'s':4},\n",
    "                     data=worm_count_df)\n",
    "ax.set_ylabel('# worms (machine)')\n",
    "ax.set_xlabel('# worms (manual)')\n",
    "ax.yaxis.set_tick_params(tickdir='in')\n",
    "ax.xaxis.set_tick_params(tickdir='in')\n",
    "sns.despine(offset=10)\n",
    "plt.rcParams['svg.fonttype'] = 'none'\n",
    "\n",
    "fig.savefig(base_folder.joinpath('total_worms_man_vs_machine.svg'))\n",
    "\n",
    "fit_results = stats.linregress(\n",
    "    worm_count_df['total_worms_manual'], worm_count_df['total_worms_auto'])\n",
    "print(fit_results)\n"
   ]
  },
  {
   "cell_type": "markdown",
   "metadata": {},
   "source": [
    "##### Chemotaxis Index: Manual vs Automated"
   ]
  },
  {
   "cell_type": "code",
   "execution_count": 15,
   "metadata": {},
   "outputs": [
    {
     "name": "stdout",
     "output_type": "stream",
     "text": [
      "LinregressResult(slope=0.8871484052980019, intercept=-0.006410677678612309, rvalue=0.9791277531167375, pvalue=7.537191415785297e-67, stderr=0.018993915636667347)\n"
     ]
    },
    {
     "data": {
      "image/png": "[encoded data removed]",
      "text/plain": [
       "<Figure size 432x288 with 1 Axes>"
      ]
     },
     "metadata": {
      "needs_background": "light"
     },
     "output_type": "display_data"
    }
   ],
   "source": [
    "fig, ax = plt.subplots(constrained_layout=True)\n",
    "ax = sns.regplot(x='manual_ci', y='auto_ci', ax=ax, scatter_kws={'s':4},\n",
    "                     data=worm_count_df)\n",
    "ax.set_ylabel('Chemotaxis index (machine)')\n",
    "ax.set_xlabel('Chemotaxis index (manual)')\n",
    "ax.yaxis.set_tick_params(tickdir='in')\n",
    "ax.xaxis.set_tick_params(tickdir='in')\n",
    "ax.set_ylim((-1, 1))\n",
    "ax.set_xlim((-1, 1.1))\n",
    "sns.despine(offset=10)\n",
    "plt.rcParams['svg.fonttype'] = 'none'\n",
    "fig.savefig(base_folder.joinpath('ci_man_vs_machine.svg'))\n",
    "\n",
    "fit_results = stats.linregress(\n",
    "    worm_count_df['manual_ci'], worm_count_df['auto_ci'])\n",
    "print(fit_results)"
   ]
  },
  {
   "cell_type": "markdown",
   "metadata": {},
   "source": [
    "##### Worm Count vs Chemotaxis Index Difference (Automated - Manual) "
   ]
  },
  {
   "cell_type": "code",
   "execution_count": 16,
   "metadata": {},
   "outputs": [
    {
     "name": "stdout",
     "output_type": "stream",
     "text": [
      "LinregressResult(slope=-9.789239067229533e-05, intercept=0.01166135365618325, rvalue=-0.14617116749231177, pvalue=0.15529836018820523, stderr=6.833346449681216e-05)\n"
     ]
    },
    {
     "data": {
      "image/png": "[encoded data removed]",
      "text/plain": [
       "<Figure size 432x288 with 1 Axes>"
      ]
     },
     "metadata": {
      "needs_background": "light"
     },
     "output_type": "display_data"
    }
   ],
   "source": [
    "worm_count_df['ci_difference'] = worm_count_df['auto_ci'] - worm_count_df['manual_ci']\n",
    "fig, ax = plt.subplots(constrained_layout=True)\n",
    "ax.set_ylim((-1, 1))\n",
    "ax = sns.regplot(x='total_worms_manual', y='ci_difference', ax=ax, scatter_kws={'s':4},\n",
    "                     data=worm_count_df)\n",
    "ax.yaxis.set_tick_params(tickdir='in')\n",
    "ax.xaxis.set_tick_params(tickdir='in')\n",
    "ax.set_ylabel('CI difference between (man-machine)')\n",
    "ax.set_xlabel('Worm count (manual)')\n",
    "sns.despine(offset=10)\n",
    "plt.rcParams['svg.fonttype'] = 'none'\n",
    "\n",
    "fig.savefig(base_folder.joinpath('ci_diff_vs_machine_total.svg'))\n",
    "\n",
    "fit_results = stats.linregress(\n",
    "    worm_count_df['total_worms_manual'], worm_count_df['ci_difference'])\n",
    "print(fit_results)"
   ]
  },
  {
   "cell_type": "code",
   "execution_count": null,
   "metadata": {},
   "outputs": [],
   "source": []
  },
  {
   "cell_type": "code",
   "execution_count": 17,
   "metadata": {},
   "outputs": [
    {
     "data": {
      "text/plain": [
       "Text(0.5, 1.0, 'N2 chemotaxis by image analysis method')"
      ]
     },
     "execution_count": 17,
     "metadata": {},
     "output_type": "execute_result"
    },
    {
     "data": {
      "image/png": "[encoded data removed]",
      "text/plain": [
       "<Figure size 1440x360 with 1 Axes>"
      ]
     },
     "metadata": {
      "needs_background": "light"
     },
     "output_type": "display_data"
    }
   ],
   "source": [
    "fig, ax = plt.subplots(figsize=(20, 5), constrained_layout=True)\n",
    "sns.stripplot(x='Compound Name', y='Chemotaxis Index', ax=ax, dodge=True, #style='analysis_method',\n",
    "              hue='analysis_method', marker='o', palette='Oranges',\n",
    "              data=combined_results)\n",
    "\n",
    "ax.set_xlabel('')\n",
    "ax.set_ylabel('Chemotaxis Index')\n",
    "ax.legend(bbox_to_anchor=(1.1, 1.05))\n",
    "ax.set_ylim((-1, 1))\n",
    "sns.despine(offset=10)\n",
    "plt.xticks(rotation=90)\n",
    "ax.set_title('N2 chemotaxis by image analysis method')\n",
    "\n",
    "#fig.savefig('../N2_chemotaxis_results_auto_vs_manual.pdf')"
   ]
  },
  {
   "cell_type": "code",
   "execution_count": null,
   "metadata": {},
   "outputs": [],
   "source": []
  },
  {
   "cell_type": "code",
   "execution_count": 38,
   "metadata": {},
   "outputs": [
    {
     "name": "stderr",
     "output_type": "stream",
     "text": [
      "C:\\ProgramData\\Anaconda3\\envs\\neuroplant\\lib\\site-packages\\seaborn\\_decorators.py:43: FutureWarning: Pass the following variables as keyword args: x, y. From version 0.12, the only valid positional argument will be `data`, and passing other arguments without an explicit keyword will result in an error or misinterpretation.\n",
      "  FutureWarning\n"
     ]
    },
    {
     "data": {
      "image/png": "[encoded data removed]",
      "text/plain": [
       "<Figure size 432x432 with 3 Axes>"
      ]
     },
     "metadata": {
      "needs_background": "light"
     },
     "output_type": "display_data"
    }
   ],
   "source": [
    "from scipy import stats\n",
    "def r2(x, y):\n",
    "    return stats.pearsonr(x, y)[0] ** 2\n",
    "ax = sns.jointplot(worm_count_df['manual_ci'], worm_count_df['auto_ci'], kind=\"reg\", scatter_kws={'s':4})\n",
    "ax.set_axis_labels('Chemotaxis index (manual)', 'Chemotaxis index (machine)')\n",
    "ax.plot_marginals(sns.histplot, kde=False)\n",
    "\n",
    "#ax.set_tick_params(tickdir='in')\n",
    "#ax.set_ylim((-1, 1))\n",
    "#ax.set_xlim((-1, 1.1))\n",
    "sns.despine(offset=10)\n"
   ]
  }
 ],
 "metadata": {
  "kernelspec": {
   "display_name": "Python 3",
   "language": "python",
   "name": "python3"
  },
  "language_info": {
   "codemirror_mode": {
    "name": "ipython",
    "version": 3
   },
   "file_extension": ".py",
   "mimetype": "text/x-python",
   "name": "python",
   "nbconvert_exporter": "python",
   "pygments_lexer": "ipython3",
   "version": "3.7.4"
  }
 },
 "nbformat": 4,
 "nbformat_minor": 2
}
