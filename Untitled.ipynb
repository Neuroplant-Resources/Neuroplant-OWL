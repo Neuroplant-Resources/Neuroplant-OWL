{
 "cells": [
  {
   "cell_type": "code",
   "execution_count": 1,
   "id": "earlier-absence",
   "metadata": {},
   "outputs": [],
   "source": [
    "import pandas as pd\n",
    "import pathlib as plb"
   ]
  },
  {
   "cell_type": "code",
   "execution_count": 7,
   "id": "liberal-glance",
   "metadata": {},
   "outputs": [
    {
     "data": {
      "text/plain": [
       "{'ia': 'blue'}"
      ]
     },
     "execution_count": 7,
     "metadata": {},
     "output_type": "execute_result"
    }
   ],
   "source": [
    "ckey = {'ia':'blue'}\n",
    "ckey = {k: v for k, v in ckey.items() if v}\n",
    "ckey"
   ]
  },
  {
   "cell_type": "code",
   "execution_count": 5,
   "id": "unusual-presentation",
   "metadata": {},
   "outputs": [
    {
     "data": {
      "text/plain": [
       "{'ia': 'blue', 'di': 'blue'}"
      ]
     },
     "execution_count": 5,
     "metadata": {},
     "output_type": "execute_result"
    }
   ],
   "source": [
    "d = {'ia':'blue', 'di':''}\n",
    "d1 = {k: v or 'blue' for (k, v) in d.items()}\n",
    "d1"
   ]
  },
  {
   "cell_type": "code",
   "execution_count": 2,
   "id": "different-piece",
   "metadata": {},
   "outputs": [],
   "source": [
    "cfpath = '/Users/Emily/Desktop/DS/test/ckey.csv'\n",
    "dfpath = '/Users/Emily/Desktop/DS/test/Batch_results.csv'\n",
    "con = 'Compound'"
   ]
  },
  {
   "cell_type": "code",
   "execution_count": 11,
   "id": "confirmed-street",
   "metadata": {},
   "outputs": [
    {
     "data": {
      "text/plain": [
       "True"
      ]
     },
     "execution_count": 11,
     "metadata": {},
     "output_type": "execute_result"
    }
   ],
   "source": [
    "cf = plb.Path(dfpath)\n",
    "cfile = pd.read_csv(cf)\n",
    "heds = cfile.columns.to_list()\n",
    "expected = ['WellNo', 'Total Worms', 'Compound', 'Strain',\n",
    "   'File Name', 'Well width', 'Plate ID', 'Passes QC']\n",
    "all(x in heds for x in expected)"
   ]
  },
  {
   "cell_type": "code",
   "execution_count": 11,
   "id": "filled-hawaiian",
   "metadata": {},
   "outputs": [
    {
     "data": {
      "text/html": [
       "<div>\n",
       "<style scoped>\n",
       "    .dataframe tbody tr th:only-of-type {\n",
       "        vertical-align: middle;\n",
       "    }\n",
       "\n",
       "    .dataframe tbody tr th {\n",
       "        vertical-align: top;\n",
       "    }\n",
       "\n",
       "    .dataframe thead th {\n",
       "        text-align: right;\n",
       "    }\n",
       "</style>\n",
       "<table border=\"1\" class=\"dataframe\">\n",
       "  <thead>\n",
       "    <tr style=\"text-align: right;\">\n",
       "      <th></th>\n",
       "      <th>Unnamed: 0</th>\n",
       "      <th>WellNo</th>\n",
       "      <th>area</th>\n",
       "      <th>Total Worms</th>\n",
       "      <th>Chemotaxis</th>\n",
       "      <th>Compound</th>\n",
       "      <th>Strain</th>\n",
       "      <th>File Name</th>\n",
       "      <th>Well width</th>\n",
       "      <th>Plate ID</th>\n",
       "      <th>Passes QC</th>\n",
       "    </tr>\n",
       "  </thead>\n",
       "  <tbody>\n",
       "    <tr>\n",
       "      <th>0</th>\n",
       "      <td>0</td>\n",
       "      <td>1A</td>\n",
       "      <td>2292683</td>\n",
       "      <td>33.0</td>\n",
       "      <td>0.111111</td>\n",
       "      <td>2no</td>\n",
       "      <td>DOG</td>\n",
       "      <td>S1_002</td>\n",
       "      <td>3037.0</td>\n",
       "      <td>DS2_R1_5</td>\n",
       "      <td>N</td>\n",
       "    </tr>\n",
       "    <tr>\n",
       "      <th>1</th>\n",
       "      <td>1</td>\n",
       "      <td>1B</td>\n",
       "      <td>2390131</td>\n",
       "      <td>93.0</td>\n",
       "      <td>-0.358025</td>\n",
       "      <td>2no</td>\n",
       "      <td>DOG</td>\n",
       "      <td>S1_002</td>\n",
       "      <td>3030.0</td>\n",
       "      <td>DS2_R1_5</td>\n",
       "      <td>N</td>\n",
       "    </tr>\n",
       "    <tr>\n",
       "      <th>2</th>\n",
       "      <td>2</td>\n",
       "      <td>1C</td>\n",
       "      <td>2374775</td>\n",
       "      <td>130.0</td>\n",
       "      <td>-0.070175</td>\n",
       "      <td>2no</td>\n",
       "      <td>ELK</td>\n",
       "      <td>S1_002</td>\n",
       "      <td>3064.0</td>\n",
       "      <td>DS2_R1_5</td>\n",
       "      <td>N</td>\n",
       "    </tr>\n",
       "    <tr>\n",
       "      <th>3</th>\n",
       "      <td>3</td>\n",
       "      <td>1D</td>\n",
       "      <td>2379108</td>\n",
       "      <td>56.0</td>\n",
       "      <td>0.478261</td>\n",
       "      <td>2no</td>\n",
       "      <td>ELK</td>\n",
       "      <td>S1_002</td>\n",
       "      <td>3069.0</td>\n",
       "      <td>DS2_R1_5</td>\n",
       "      <td>N</td>\n",
       "    </tr>\n",
       "    <tr>\n",
       "      <th>8</th>\n",
       "      <td>8</td>\n",
       "      <td>3A</td>\n",
       "      <td>2390506</td>\n",
       "      <td>25.0</td>\n",
       "      <td>-0.052632</td>\n",
       "      <td>ia</td>\n",
       "      <td>FOX</td>\n",
       "      <td>S1_002</td>\n",
       "      <td>3073.0</td>\n",
       "      <td>DS2_R1_7</td>\n",
       "      <td>N</td>\n",
       "    </tr>\n",
       "    <tr>\n",
       "      <th>9</th>\n",
       "      <td>9</td>\n",
       "      <td>3B</td>\n",
       "      <td>2416466</td>\n",
       "      <td>96.0</td>\n",
       "      <td>-0.263158</td>\n",
       "      <td>ia</td>\n",
       "      <td>FOX</td>\n",
       "      <td>S1_002</td>\n",
       "      <td>3065.0</td>\n",
       "      <td>DS2_R1_7</td>\n",
       "      <td>N</td>\n",
       "    </tr>\n",
       "    <tr>\n",
       "      <th>10</th>\n",
       "      <td>10</td>\n",
       "      <td>3C</td>\n",
       "      <td>2369458</td>\n",
       "      <td>60.0</td>\n",
       "      <td>-0.576923</td>\n",
       "      <td>2no</td>\n",
       "      <td>FOX</td>\n",
       "      <td>S1_002</td>\n",
       "      <td>3053.0</td>\n",
       "      <td>DS2_R1_7</td>\n",
       "      <td>N</td>\n",
       "    </tr>\n",
       "    <tr>\n",
       "      <th>11</th>\n",
       "      <td>11</td>\n",
       "      <td>3D</td>\n",
       "      <td>2386979</td>\n",
       "      <td>47.0</td>\n",
       "      <td>-0.032258</td>\n",
       "      <td>2no</td>\n",
       "      <td>FOX</td>\n",
       "      <td>S1_002</td>\n",
       "      <td>3077.0</td>\n",
       "      <td>DS2_R1_7</td>\n",
       "      <td>N</td>\n",
       "    </tr>\n",
       "  </tbody>\n",
       "</table>\n",
       "</div>"
      ],
      "text/plain": [
       "    Unnamed: 0 WellNo     area  Total Worms  Chemotaxis Compound Strain  \\\n",
       "0            0     1A  2292683         33.0    0.111111      2no    DOG   \n",
       "1            1     1B  2390131         93.0   -0.358025      2no    DOG   \n",
       "2            2     1C  2374775        130.0   -0.070175      2no    ELK   \n",
       "3            3     1D  2379108         56.0    0.478261      2no    ELK   \n",
       "8            8     3A  2390506         25.0   -0.052632       ia    FOX   \n",
       "9            9     3B  2416466         96.0   -0.263158       ia    FOX   \n",
       "10          10     3C  2369458         60.0   -0.576923      2no    FOX   \n",
       "11          11     3D  2386979         47.0   -0.032258      2no    FOX   \n",
       "\n",
       "   File Name  Well width  Plate ID Passes QC  \n",
       "0     S1_002      3037.0  DS2_R1_5         N  \n",
       "1     S1_002      3030.0  DS2_R1_5         N  \n",
       "2     S1_002      3064.0  DS2_R1_5         N  \n",
       "3     S1_002      3069.0  DS2_R1_5         N  \n",
       "8     S1_002      3073.0  DS2_R1_7         N  \n",
       "9     S1_002      3065.0  DS2_R1_7         N  \n",
       "10    S1_002      3053.0  DS2_R1_7         N  \n",
       "11    S1_002      3077.0  DS2_R1_7         N  "
      ]
     },
     "execution_count": 11,
     "metadata": {},
     "output_type": "execute_result"
    }
   ],
   "source": [
    "cond = 'Compound'\n",
    "control = \"2no\"\n",
    "test = \"ia\"\n",
    "cf = plb.Path(dfpath)\n",
    "batch_res= pd.read_csv(cf)\n",
    "batch_res[cond] = batch_res[cond].apply(str.lower)\n",
    "filtered = batch_res[(batch_res[cond] == control) | (batch_res[cond] == test)]\n",
    "filtered"
   ]
  },
  {
   "cell_type": "code",
   "execution_count": 8,
   "id": "ruled-behalf",
   "metadata": {},
   "outputs": [
    {
     "data": {
      "text/plain": [
       "Index(['WellNo', 'area', 'Total Worms', 'Chemotaxis', 'Compound', 'Strain',\n",
       "       'File Name', 'Well width', 'Plate ID', 'Passes QC'],\n",
       "      dtype='object')"
      ]
     },
     "execution_count": 8,
     "metadata": {},
     "output_type": "execute_result"
    }
   ],
   "source": [
    "dat.columns"
   ]
  },
  {
   "cell_type": "code",
   "execution_count": null,
   "id": "exterior-president",
   "metadata": {},
   "outputs": [],
   "source": []
  }
 ],
 "metadata": {
  "kernelspec": {
   "display_name": "Python 3",
   "language": "python",
   "name": "python3"
  },
  "language_info": {
   "codemirror_mode": {
    "name": "ipython",
    "version": 3
   },
   "file_extension": ".py",
   "mimetype": "text/x-python",
   "name": "python",
   "nbconvert_exporter": "python",
   "pygments_lexer": "ipython3",
   "version": "3.7.4"
  }
 },
 "nbformat": 4,
 "nbformat_minor": 5
}
