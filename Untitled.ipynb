{
 "cells": [
  {
   "cell_type": "code",
   "execution_count": 1,
   "id": "earlier-absence",
   "metadata": {},
   "outputs": [],
   "source": [
    "import pandas as pd\n",
    "import pathlib as plb"
   ]
  },
  {
   "cell_type": "code",
   "execution_count": 2,
   "id": "different-piece",
   "metadata": {},
   "outputs": [],
   "source": [
    "cfpath = '/Users/Emily/Desktop/DS/test/ckey.csv'\n",
    "dfpath = '/Users/Emily/Desktop/DS/test/Batch_results.csv'\n",
    "con = 'Compound'"
   ]
  },
  {
   "cell_type": "code",
   "execution_count": 11,
   "id": "confirmed-street",
   "metadata": {},
   "outputs": [
    {
     "data": {
      "text/plain": [
       "True"
      ]
     },
     "execution_count": 11,
     "metadata": {},
     "output_type": "execute_result"
    }
   ],
   "source": [
    "cf = plb.Path(dfpath)\n",
    "cfile = pd.read_csv(cf)\n",
    "heds = cfile.columns.to_list()\n",
    "expected = ['WellNo', 'Total Worms', 'Compound', 'Strain',\n",
    "   'File Name', 'Well width', 'Plate ID', 'Passes QC']\n",
    "all(x in heds for x in expected)"
   ]
  },
  {
   "cell_type": "code",
   "execution_count": 6,
   "id": "filled-hawaiian",
   "metadata": {},
   "outputs": [
    {
     "data": {
      "text/plain": [
       "True"
      ]
     },
     "execution_count": 6,
     "metadata": {},
     "output_type": "execute_result"
    }
   ],
   "source": [
    "\n"
   ]
  },
  {
   "cell_type": "code",
   "execution_count": 8,
   "id": "ruled-behalf",
   "metadata": {},
   "outputs": [
    {
     "data": {
      "text/plain": [
       "Index(['WellNo', 'area', 'Total Worms', 'Chemotaxis', 'Compound', 'Strain',\n",
       "       'File Name', 'Well width', 'Plate ID', 'Passes QC'],\n",
       "      dtype='object')"
      ]
     },
     "execution_count": 8,
     "metadata": {},
     "output_type": "execute_result"
    }
   ],
   "source": [
    "dat.columns"
   ]
  },
  {
   "cell_type": "code",
   "execution_count": null,
   "id": "exterior-president",
   "metadata": {},
   "outputs": [],
   "source": []
  }
 ],
 "metadata": {
  "kernelspec": {
   "display_name": "Python 3",
   "language": "python",
   "name": "python3"
  },
  "language_info": {
   "codemirror_mode": {
    "name": "ipython",
    "version": 3
   },
   "file_extension": ".py",
   "mimetype": "text/x-python",
   "name": "python",
   "nbconvert_exporter": "python",
   "pygments_lexer": "ipython3",
   "version": "3.7.4"
  }
 },
 "nbformat": 4,
 "nbformat_minor": 5
}
