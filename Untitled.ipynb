{
 "cells": [
  {
   "cell_type": "code",
   "execution_count": 1,
   "id": "earlier-absence",
   "metadata": {},
   "outputs": [],
   "source": [
    "import pandas as pd\n",
    "import pathlib as plb"
   ]
  },
  {
   "cell_type": "code",
   "execution_count": 7,
   "id": "liberal-glance",
   "metadata": {},
   "outputs": [
    {
     "data": {
      "text/plain": [
       "{'ia': 'blue'}"
      ]
     },
     "execution_count": 7,
     "metadata": {},
     "output_type": "execute_result"
    }
   ],
   "source": [
    "ckey = {'ia':'blue'}\n",
    "ckey = {k: v for k, v in ckey.items() if v}\n",
    "ckey"
   ]
  },
  {
   "cell_type": "code",
   "execution_count": 5,
   "id": "unusual-presentation",
   "metadata": {},
   "outputs": [
    {
     "data": {
      "text/plain": [
       "{'ia': 'blue', 'di': 'blue'}"
      ]
     },
     "execution_count": 5,
     "metadata": {},
     "output_type": "execute_result"
    }
   ],
   "source": [
    "d = {'ia':'blue', 'di':''}\n",
    "d1 = {k: v or 'blue' for (k, v) in d.items()}\n",
    "d1"
   ]
  },
  {
   "cell_type": "code",
   "execution_count": 2,
   "id": "different-piece",
   "metadata": {},
   "outputs": [],
   "source": [
    "cfpath = '/Users/Emily/Desktop/DS/test/ckey.csv'\n",
    "dfpath = '/Users/Emily/Desktop/DS/test/Batch_results.csv'\n",
    "con = 'Compound'"
   ]
  },
  {
   "cell_type": "code",
   "execution_count": 11,
   "id": "confirmed-street",
   "metadata": {},
   "outputs": [
    {
     "data": {
      "text/plain": [
       "True"
      ]
     },
     "execution_count": 11,
     "metadata": {},
     "output_type": "execute_result"
    }
   ],
   "source": [
    "cf = plb.Path(dfpath)\n",
    "cfile = pd.read_csv(cf)\n",
    "heds = cfile.columns.to_list()\n",
    "expected = ['WellNo', 'Total Worms', 'Compound', 'Strain',\n",
    "   'File Name', 'Well width', 'Plate ID', 'Passes QC']\n",
    "all(x in heds for x in expected)"
   ]
  },
  {
   "cell_type": "code",
   "execution_count": 6,
   "id": "filled-hawaiian",
   "metadata": {},
   "outputs": [
    {
     "data": {
      "text/plain": [
       "True"
      ]
     },
     "execution_count": 6,
     "metadata": {},
     "output_type": "execute_result"
    }
   ],
   "source": [
    "\n"
   ]
  },
  {
   "cell_type": "code",
   "execution_count": 8,
   "id": "ruled-behalf",
   "metadata": {},
   "outputs": [
    {
     "data": {
      "text/plain": [
       "Index(['WellNo', 'area', 'Total Worms', 'Chemotaxis', 'Compound', 'Strain',\n",
       "       'File Name', 'Well width', 'Plate ID', 'Passes QC'],\n",
       "      dtype='object')"
      ]
     },
     "execution_count": 8,
     "metadata": {},
     "output_type": "execute_result"
    }
   ],
   "source": [
    "dat.columns"
   ]
  },
  {
   "cell_type": "code",
   "execution_count": null,
   "id": "exterior-president",
   "metadata": {},
   "outputs": [],
   "source": []
  }
 ],
 "metadata": {
  "kernelspec": {
   "display_name": "Python 3",
   "language": "python",
   "name": "python3"
  },
  "language_info": {
   "codemirror_mode": {
    "name": "ipython",
    "version": 3
   },
   "file_extension": ".py",
   "mimetype": "text/x-python",
   "name": "python",
   "nbconvert_exporter": "python",
   "pygments_lexer": "ipython3",
   "version": "3.7.4"
  }
 },
 "nbformat": 4,
 "nbformat_minor": 5
}
