{
 "cells": [
  {
   "cell_type": "markdown",
   "metadata": {},
   "source": [
    "## Cropping images to individual wells for publication"
   ]
  },
  {
   "cell_type": "code",
   "execution_count": 10,
   "metadata": {},
   "outputs": [],
   "source": [
    "# Importing the necessary libraries to run scripts\n",
    "\n",
    "import pandas as pd\n",
    "import time\n",
    "import scipy.stats as stats\n",
    "import numpy as np\n",
    "import pathlib as plb \n",
    "import numpy as np\n",
    "from skimage.io import imread, imsave, imshow\n",
    "from skimage.filters import threshold_otsu\n",
    "from skimage.segmentation import clear_border\n",
    "from skimage.measure import label, regionprops, regionprops_table\n",
    "from skimage.morphology import closing, square, remove_small_objects\n",
    "from skimage import exposure\n",
    "from skimage.exposure import match_histograms\n",
    "import matplotlib.pyplot as plt"
   ]
  },
  {
   "cell_type": "markdown",
   "metadata": {},
   "source": [
    "#### 1. The batch_process() function will iterate and load all of the image files in a folder. \n",
    "<p> It also calls the following function get_dims() to identify and capture the dimensions of each well for cropping. </p>"
   ]
  },
  {
   "cell_type": "code",
   "execution_count": 19,
   "metadata": {},
   "outputs": [],
   "source": [
    "def batch_process(image_fpath, rslt_path):\n",
    "    image_folder = plb.Path(image_fpath)\n",
    "    results_folder = plb.Path(rslt_path)\n",
    "    results_df = pd.DataFrame()\n",
    "    for i in image_folder.glob('[!._]*.tif*'):\n",
    "        pattern = \"^[a-zA-Z]\"\n",
    "        fname = i.stem\n",
    "        print(fname)\n",
    "        image_data = get_dims(i, rslt_path, fname)\n",
    "\n",
    "        #image_data.to_csv(path_or_buf= results_folder.joinpath(fname + '.csv'))\n",
    "        results_df = results_df.append(image_data)\n",
    "\n",
    "    return results_df"
   ]
  },
  {
   "cell_type": "markdown",
   "metadata": {},
   "source": [
    "#### 2. get_dims() identifies all of the wells and their locations in a single image and  organizes them into a dataframe."
   ]
  },
  {
   "cell_type": "code",
   "execution_count": 12,
   "metadata": {},
   "outputs": [],
   "source": [
    "#Capturing the slot and well IDs from the metadata\n",
    "def slots_wells(row):\n",
    "    row['Slot'] = row['WellNo'][0]\n",
    "    row['Well'] = row['WellNo'][1]\n",
    "    return row\n",
    "\n",
    "def get_dims(flpath, rslt_path, fname):\n",
    "    label_begin = time.time()\n",
    "    image = imread(flpath)\n",
    "    image_nvrt = np.invert(image)\n",
    "    \n",
    "    # apply threshold\n",
    "    print('At threshold')\n",
    "    thresh = threshold_otsu(image_nvrt)\n",
    "    print('Threshold: ' + str(thresh))\n",
    "    bw = closing(image_nvrt > thresh, square(3))\n",
    "\n",
    "    # remove artifacts connected to image border\n",
    "    cleared = clear_border(bw)\n",
    "    #cleared = remove_small_objects(clear_border(bw))\n",
    "    print('Clearing small objects took ', str(int(time.time() - label_begin)), 'seconds.')\n",
    "\n",
    "    # label image regions\n",
    "    label_image = label(bw)\n",
    "    print('Feature finding and labeling took ', str(int(time.time() - label_begin)), 'seconds.')\n",
    "    #image_label_overlay = label2rgb(label_image, image=image, bg_label=0)\n",
    "\n",
    "    props = regionprops_table(label_image, properties=('label','centroid', 'bbox', 'area'))\n",
    "    dff=pd.DataFrame(props)\n",
    "\n",
    "    df_area = dff.sort_values(by=['area'], ascending=False)\n",
    "    image_center = (int(label_image.shape[1]/2),int(label_image.shape[0]/2))\n",
    "\n",
    "\n",
    "    wells = df_area[(df_area.area>= 2000000) & (df_area.area<=2500000)]\n",
    "    wells=wells.sort_values(by=['bbox-1'])\n",
    "    print('Number of wells: ' + str(len(wells)))\n",
    "\n",
    "    wells.reset_index(drop=True, inplace=True)\n",
    "\n",
    "    # Sort the plates into the left and right\n",
    "    mask1 = wells['bbox-1'] > image_center[0]\n",
    "    df_r = wells[mask1]\n",
    "    df_l = wells[~mask1]\n",
    "\n",
    "    ## Split the right plates to upper (#1) and lower (#4)\n",
    "    dffr=df_r.sort_values(by=['bbox-0'])\n",
    "    dffr.reset_index(drop=True, inplace=True)\n",
    "\n",
    "\n",
    "    mask2 = df_r['bbox-0'] > image_center[1]\n",
    "    dff4 = df_r[mask2]\n",
    "    dff1 = df_r[~mask2]\n",
    "\n",
    "    ### Sort the wells on each plate\n",
    "    df1=dff1.sort_values(by=['bbox-0'])\n",
    "    df4=dff4.sort_values(by=['bbox-0'])\n",
    "    df4.reset_index(drop=True, inplace=True)\n",
    "    df1.reset_index(drop=True, inplace=True)\n",
    "\n",
    "    ## Split the left plates to upper (#2) and lower (#3)\n",
    "    dffl=df_l.sort_values(by=['bbox-0'])\n",
    "    dffl.reset_index(drop=True, inplace=True)\n",
    "\n",
    "    #MinCol2=1.05*list(dffl.items())[3][1][3]\n",
    "    mask = df_l['bbox-0'] > image_center[1]\n",
    "    dff3 = df_l[mask]\n",
    "    dff2 = df_l[~mask]\n",
    "\n",
    "    ### Sort the wells on each plate\n",
    "    df2=dff2.sort_values(by=['bbox-0'])\n",
    "    df3=dff3.sort_values(by=['bbox-0'])\n",
    "    df3.reset_index(drop=True, inplace=True)\n",
    "    df2.reset_index(drop=True, inplace=True)\n",
    "\n",
    "    ## Update the label of each well\n",
    "    new_label_1 = pd.Series(['1A', '1B','1C','1D'], name='label', index=[0,1,2,3])\n",
    "    df1.update(new_label_1)\n",
    "\n",
    "    new_label_2 = pd.Series(['2A', '2B','2C','2D'], name='label', index=[0,1,2,3])\n",
    "    df2.update(new_label_2)\n",
    "\n",
    "    new_label_3 = pd.Series(['3A', '3B','3C','3D'], name='label', index=[0,1,2,3])\n",
    "    df3.update(new_label_3)\n",
    "\n",
    "    new_label_4 = pd.Series(['4A', '4B','4C','4D'], name='label', index=[0,1,2,3])\n",
    "    df4.update(new_label_4)\n",
    "\n",
    "\n",
    "    ### Append the dataframes\n",
    "    df_f=df1.append(df2, ignore_index=True).append(df3, ignore_index=True).append(df4, ignore_index=True)\n",
    "\n",
    "    df_f = df_f.rename(columns={'label': 'WellNo'})\n",
    "    df_f.apply(lambda row: slots_wells(row), axis=1)\n",
    "\n",
    "    ### Calling the cropWell() function to crop the wells id'd in the dataframe\n",
    "    results_df = cropWell(df_f, image, flpath, rslt_path, fname)\n",
    "    return results_df\n",
    "    \n",
    "        #save_worm_locations(df_f,filtered_worm,path_rslt,label)"
   ]
  },
  {
   "cell_type": "code",
   "execution_count": 13,
   "metadata": {},
   "outputs": [],
   "source": [
    "def find_comp(ub, fname):\n",
    "    comp = metadata.loc[\n",
    "        (metadata['File Name']==row['File Name']) & \n",
    "        (metadata['WellNo']==row['WellNo'])]['Compound']\n",
    "    #print(pid)\n",
    "    return comp.values[0]"
   ]
  },
  {
   "cell_type": "markdown",
   "metadata": {},
   "source": [
    "#### 3. Generating a function to crop each well and save it as an individual image"
   ]
  },
  {
   "cell_type": "code",
   "execution_count": 38,
   "metadata": {},
   "outputs": [],
   "source": [
    "def cropWell(df_f,image, im_path, path_rslt, fname):\n",
    "    #ub_dat = pd.read_csv('D:/_2021_08_screen/practice_run/data/MS1_analysis.csv')\n",
    "    ub_dat = pd.read_csv('C:/Users/Emily/Documents/_2021_08_screen/MS2/MS2.csv')\n",
    "    #Parsing through the dataframe generated in getDims() \n",
    "    for index, row in df_f.iterrows():\n",
    "        \n",
    "        #Using the mask dimensions to crop down to individual wells\n",
    "        fin_image = image[ df_f['bbox-0'][index]:df_f['bbox-2'][index], df_f['bbox-1'][index]:df_f['bbox-3'][index]]\n",
    "        \n",
    "        #Assigning the correct well label to the image and saving the file\n",
    "        wellno = df_f['WellNo'][index]\n",
    "        image_dims = fin_image.shape\n",
    "        \n",
    "        compound = ub_dat.loc[(ub_dat['WellNo'] == wellno) & (ub_dat['File Name'] == fname)]['Compound']\n",
    "        print(compound.values[0])\n",
    "        imsave((path_rslt + compound.values[0] + '_' + fname + '_' + wellno + '.tiff'), fin_image)\n",
    "\n",
    "    return df_f\n"
   ]
  },
  {
   "cell_type": "markdown",
   "metadata": {},
   "source": [
    "#### 4. Calling the function to initiate cropping images\n",
    "1. To run the program you only need a single function call: **batch_process(input_folder, output_folder)**\n",
    "2. Batch process requires 2 arguments: \n",
    "    1. A file path to the folder containg the images to be cropped and\n",
    "    2. A file path to the folder where you would like to store the cropped images.\n",
    "3. batch_process() also returns a dataframe with the bounding box dimensions for each well that can be saved if the user wants to capture that data"
   ]
  },
  {
   "cell_type": "code",
   "execution_count": 39,
   "metadata": {
    "scrolled": true
   },
   "outputs": [
    {
     "name": "stdout",
     "output_type": "stream",
     "text": [
      "MS2_001\n",
      "At threshold\n",
      "Threshold: 107\n",
      "Clearing small objects took  7 seconds.\n",
      "Feature finding and labeling took  9 seconds.\n",
      "Number of wells: 16\n",
      "MT\n",
      "MT\n",
      "MT\n",
      "MT\n",
      "MT\n",
      "MT\n",
      "MT\n",
      "MT\n",
      "MT\n",
      "MT\n",
      "MT\n",
      "MT\n",
      "MT\n",
      "MT\n",
      "MT\n",
      "DMSO_H2O\n",
      "MS2_002\n",
      "At threshold\n",
      "Threshold: 109\n",
      "Clearing small objects took  8 seconds.\n",
      "Feature finding and labeling took  10 seconds.\n",
      "Number of wells: 16\n",
      "DMSO_H2O\n",
      "DMSO_H2O\n",
      "DMSO_H2O\n",
      "DMSO_H2O\n",
      "DMSO_H2O\n",
      "DMSO_H2O\n",
      "DMSO_H2O\n",
      "DMSO_H2O\n",
      "DMSO_H2O\n",
      "DMSO_H2O\n",
      "DMSO_H2O\n",
      "DMSO_H2O\n",
      "DMSO_H2O\n",
      "DMSO_H2O\n",
      "DMSO_H2O\n",
      "DMSO_H2O\n"
     ]
    }
   ],
   "source": [
    "#Input folder file path\n",
    "img_p = 'C:/Users/Emily/Desktop/AssayImages/MS2/'\n",
    "#Output folder file path\n",
    "r_p = 'C:/Users/Emily/Desktop/AssayImages/MS2/crops/'\n",
    "#Function call\n",
    "dims_df = batch_process(img_p, r_p)\n"
   ]
  },
  {
   "cell_type": "markdown",
   "metadata": {},
   "source": [
    "#### 5. Capturing and calculating the average width of each well to use for plotting\n",
    "All values are represented in pixels. Images are captured in 1200 dpi which will be utilized to translate image data into milimeters."
   ]
  },
  {
   "cell_type": "code",
   "execution_count": null,
   "metadata": {},
   "outputs": [],
   "source": []
  },
  {
   "cell_type": "code",
   "execution_count": 16,
   "metadata": {},
   "outputs": [
    {
     "ename": "ValueError",
     "evalue": "Wrong number of items passed 0, placement implies 1",
     "output_type": "error",
     "traceback": [
      "\u001b[1;31m---------------------------------------------------------------------------\u001b[0m",
      "\u001b[1;31mKeyError\u001b[0m                                  Traceback (most recent call last)",
      "\u001b[1;32mC:\\ProgramData\\Anaconda3\\envs\\neuroplant\\lib\\site-packages\\pandas\\core\\indexes\\base.py\u001b[0m in \u001b[0;36mget_loc\u001b[1;34m(self, key, method, tolerance)\u001b[0m\n\u001b[0;32m   3079\u001b[0m             \u001b[1;32mtry\u001b[0m\u001b[1;33m:\u001b[0m\u001b[1;33m\u001b[0m\u001b[1;33m\u001b[0m\u001b[0m\n\u001b[1;32m-> 3080\u001b[1;33m                 \u001b[1;32mreturn\u001b[0m \u001b[0mself\u001b[0m\u001b[1;33m.\u001b[0m\u001b[0m_engine\u001b[0m\u001b[1;33m.\u001b[0m\u001b[0mget_loc\u001b[0m\u001b[1;33m(\u001b[0m\u001b[0mcasted_key\u001b[0m\u001b[1;33m)\u001b[0m\u001b[1;33m\u001b[0m\u001b[1;33m\u001b[0m\u001b[0m\n\u001b[0m\u001b[0;32m   3081\u001b[0m             \u001b[1;32mexcept\u001b[0m \u001b[0mKeyError\u001b[0m \u001b[1;32mas\u001b[0m \u001b[0merr\u001b[0m\u001b[1;33m:\u001b[0m\u001b[1;33m\u001b[0m\u001b[1;33m\u001b[0m\u001b[0m\n",
      "\u001b[1;32mpandas\\_libs\\index.pyx\u001b[0m in \u001b[0;36mpandas._libs.index.IndexEngine.get_loc\u001b[1;34m()\u001b[0m\n",
      "\u001b[1;32mpandas\\_libs\\index.pyx\u001b[0m in \u001b[0;36mpandas._libs.index.IndexEngine.get_loc\u001b[1;34m()\u001b[0m\n",
      "\u001b[1;32mpandas\\_libs\\hashtable_class_helper.pxi\u001b[0m in \u001b[0;36mpandas._libs.hashtable.PyObjectHashTable.get_item\u001b[1;34m()\u001b[0m\n",
      "\u001b[1;32mpandas\\_libs\\hashtable_class_helper.pxi\u001b[0m in \u001b[0;36mpandas._libs.hashtable.PyObjectHashTable.get_item\u001b[1;34m()\u001b[0m\n",
      "\u001b[1;31mKeyError\u001b[0m: 'Width'",
      "\nThe above exception was the direct cause of the following exception:\n",
      "\u001b[1;31mKeyError\u001b[0m                                  Traceback (most recent call last)",
      "\u001b[1;32mC:\\ProgramData\\Anaconda3\\envs\\neuroplant\\lib\\site-packages\\pandas\\core\\generic.py\u001b[0m in \u001b[0;36m_set_item\u001b[1;34m(self, key, value)\u001b[0m\n\u001b[0;32m   3824\u001b[0m         \u001b[1;32mtry\u001b[0m\u001b[1;33m:\u001b[0m\u001b[1;33m\u001b[0m\u001b[1;33m\u001b[0m\u001b[0m\n\u001b[1;32m-> 3825\u001b[1;33m             \u001b[0mloc\u001b[0m \u001b[1;33m=\u001b[0m \u001b[0mself\u001b[0m\u001b[1;33m.\u001b[0m\u001b[0m_info_axis\u001b[0m\u001b[1;33m.\u001b[0m\u001b[0mget_loc\u001b[0m\u001b[1;33m(\u001b[0m\u001b[0mkey\u001b[0m\u001b[1;33m)\u001b[0m\u001b[1;33m\u001b[0m\u001b[1;33m\u001b[0m\u001b[0m\n\u001b[0m\u001b[0;32m   3826\u001b[0m         \u001b[1;32mexcept\u001b[0m \u001b[0mKeyError\u001b[0m\u001b[1;33m:\u001b[0m\u001b[1;33m\u001b[0m\u001b[1;33m\u001b[0m\u001b[0m\n",
      "\u001b[1;32mC:\\ProgramData\\Anaconda3\\envs\\neuroplant\\lib\\site-packages\\pandas\\core\\indexes\\base.py\u001b[0m in \u001b[0;36mget_loc\u001b[1;34m(self, key, method, tolerance)\u001b[0m\n\u001b[0;32m   3081\u001b[0m             \u001b[1;32mexcept\u001b[0m \u001b[0mKeyError\u001b[0m \u001b[1;32mas\u001b[0m \u001b[0merr\u001b[0m\u001b[1;33m:\u001b[0m\u001b[1;33m\u001b[0m\u001b[1;33m\u001b[0m\u001b[0m\n\u001b[1;32m-> 3082\u001b[1;33m                 \u001b[1;32mraise\u001b[0m \u001b[0mKeyError\u001b[0m\u001b[1;33m(\u001b[0m\u001b[0mkey\u001b[0m\u001b[1;33m)\u001b[0m \u001b[1;32mfrom\u001b[0m \u001b[0merr\u001b[0m\u001b[1;33m\u001b[0m\u001b[1;33m\u001b[0m\u001b[0m\n\u001b[0m\u001b[0;32m   3083\u001b[0m \u001b[1;33m\u001b[0m\u001b[0m\n",
      "\u001b[1;31mKeyError\u001b[0m: 'Width'",
      "\nDuring handling of the above exception, another exception occurred:\n",
      "\u001b[1;31mValueError\u001b[0m                                Traceback (most recent call last)",
      "\u001b[1;32m<ipython-input-16-e6d8b0489bf9>\u001b[0m in \u001b[0;36m<module>\u001b[1;34m\u001b[0m\n\u001b[0;32m      1\u001b[0m dims_df['Width']=dims_df.apply(\n\u001b[1;32m----> 2\u001b[1;33m     lambda row: row['bbox-3'] - row['bbox-1'], axis=1)\n\u001b[0m",
      "\u001b[1;32mC:\\ProgramData\\Anaconda3\\envs\\neuroplant\\lib\\site-packages\\pandas\\core\\frame.py\u001b[0m in \u001b[0;36m__setitem__\u001b[1;34m(self, key, value)\u001b[0m\n\u001b[0;32m   3161\u001b[0m         \u001b[1;32melse\u001b[0m\u001b[1;33m:\u001b[0m\u001b[1;33m\u001b[0m\u001b[1;33m\u001b[0m\u001b[0m\n\u001b[0;32m   3162\u001b[0m             \u001b[1;31m# set column\u001b[0m\u001b[1;33m\u001b[0m\u001b[1;33m\u001b[0m\u001b[1;33m\u001b[0m\u001b[0m\n\u001b[1;32m-> 3163\u001b[1;33m             \u001b[0mself\u001b[0m\u001b[1;33m.\u001b[0m\u001b[0m_set_item\u001b[0m\u001b[1;33m(\u001b[0m\u001b[0mkey\u001b[0m\u001b[1;33m,\u001b[0m \u001b[0mvalue\u001b[0m\u001b[1;33m)\u001b[0m\u001b[1;33m\u001b[0m\u001b[1;33m\u001b[0m\u001b[0m\n\u001b[0m\u001b[0;32m   3164\u001b[0m \u001b[1;33m\u001b[0m\u001b[0m\n\u001b[0;32m   3165\u001b[0m     \u001b[1;32mdef\u001b[0m \u001b[0m_setitem_slice\u001b[0m\u001b[1;33m(\u001b[0m\u001b[0mself\u001b[0m\u001b[1;33m,\u001b[0m \u001b[0mkey\u001b[0m\u001b[1;33m:\u001b[0m \u001b[0mslice\u001b[0m\u001b[1;33m,\u001b[0m \u001b[0mvalue\u001b[0m\u001b[1;33m)\u001b[0m\u001b[1;33m:\u001b[0m\u001b[1;33m\u001b[0m\u001b[1;33m\u001b[0m\u001b[0m\n",
      "\u001b[1;32mC:\\ProgramData\\Anaconda3\\envs\\neuroplant\\lib\\site-packages\\pandas\\core\\frame.py\u001b[0m in \u001b[0;36m_set_item\u001b[1;34m(self, key, value)\u001b[0m\n\u001b[0;32m   3238\u001b[0m         \u001b[0mself\u001b[0m\u001b[1;33m.\u001b[0m\u001b[0m_ensure_valid_index\u001b[0m\u001b[1;33m(\u001b[0m\u001b[0mvalue\u001b[0m\u001b[1;33m)\u001b[0m\u001b[1;33m\u001b[0m\u001b[1;33m\u001b[0m\u001b[0m\n\u001b[0;32m   3239\u001b[0m         \u001b[0mvalue\u001b[0m \u001b[1;33m=\u001b[0m \u001b[0mself\u001b[0m\u001b[1;33m.\u001b[0m\u001b[0m_sanitize_column\u001b[0m\u001b[1;33m(\u001b[0m\u001b[0mkey\u001b[0m\u001b[1;33m,\u001b[0m \u001b[0mvalue\u001b[0m\u001b[1;33m)\u001b[0m\u001b[1;33m\u001b[0m\u001b[1;33m\u001b[0m\u001b[0m\n\u001b[1;32m-> 3240\u001b[1;33m         \u001b[0mNDFrame\u001b[0m\u001b[1;33m.\u001b[0m\u001b[0m_set_item\u001b[0m\u001b[1;33m(\u001b[0m\u001b[0mself\u001b[0m\u001b[1;33m,\u001b[0m \u001b[0mkey\u001b[0m\u001b[1;33m,\u001b[0m \u001b[0mvalue\u001b[0m\u001b[1;33m)\u001b[0m\u001b[1;33m\u001b[0m\u001b[1;33m\u001b[0m\u001b[0m\n\u001b[0m\u001b[0;32m   3241\u001b[0m \u001b[1;33m\u001b[0m\u001b[0m\n\u001b[0;32m   3242\u001b[0m         \u001b[1;31m# check if we are modifying a copy\u001b[0m\u001b[1;33m\u001b[0m\u001b[1;33m\u001b[0m\u001b[1;33m\u001b[0m\u001b[0m\n",
      "\u001b[1;32mC:\\ProgramData\\Anaconda3\\envs\\neuroplant\\lib\\site-packages\\pandas\\core\\generic.py\u001b[0m in \u001b[0;36m_set_item\u001b[1;34m(self, key, value)\u001b[0m\n\u001b[0;32m   3826\u001b[0m         \u001b[1;32mexcept\u001b[0m \u001b[0mKeyError\u001b[0m\u001b[1;33m:\u001b[0m\u001b[1;33m\u001b[0m\u001b[1;33m\u001b[0m\u001b[0m\n\u001b[0;32m   3827\u001b[0m             \u001b[1;31m# This item wasn't present, just insert at end\u001b[0m\u001b[1;33m\u001b[0m\u001b[1;33m\u001b[0m\u001b[1;33m\u001b[0m\u001b[0m\n\u001b[1;32m-> 3828\u001b[1;33m             \u001b[0mself\u001b[0m\u001b[1;33m.\u001b[0m\u001b[0m_mgr\u001b[0m\u001b[1;33m.\u001b[0m\u001b[0minsert\u001b[0m\u001b[1;33m(\u001b[0m\u001b[0mlen\u001b[0m\u001b[1;33m(\u001b[0m\u001b[0mself\u001b[0m\u001b[1;33m.\u001b[0m\u001b[0m_info_axis\u001b[0m\u001b[1;33m)\u001b[0m\u001b[1;33m,\u001b[0m \u001b[0mkey\u001b[0m\u001b[1;33m,\u001b[0m \u001b[0mvalue\u001b[0m\u001b[1;33m)\u001b[0m\u001b[1;33m\u001b[0m\u001b[1;33m\u001b[0m\u001b[0m\n\u001b[0m\u001b[0;32m   3829\u001b[0m             \u001b[1;32mreturn\u001b[0m\u001b[1;33m\u001b[0m\u001b[1;33m\u001b[0m\u001b[0m\n\u001b[0;32m   3830\u001b[0m \u001b[1;33m\u001b[0m\u001b[0m\n",
      "\u001b[1;32mC:\\ProgramData\\Anaconda3\\envs\\neuroplant\\lib\\site-packages\\pandas\\core\\internals\\managers.py\u001b[0m in \u001b[0;36minsert\u001b[1;34m(self, loc, item, value, allow_duplicates)\u001b[0m\n\u001b[0;32m   1201\u001b[0m             \u001b[0mvalue\u001b[0m \u001b[1;33m=\u001b[0m \u001b[0msafe_reshape\u001b[0m\u001b[1;33m(\u001b[0m\u001b[0mvalue\u001b[0m\u001b[1;33m,\u001b[0m \u001b[1;33m(\u001b[0m\u001b[1;36m1\u001b[0m\u001b[1;33m,\u001b[0m\u001b[1;33m)\u001b[0m \u001b[1;33m+\u001b[0m \u001b[0mvalue\u001b[0m\u001b[1;33m.\u001b[0m\u001b[0mshape\u001b[0m\u001b[1;33m)\u001b[0m\u001b[1;33m\u001b[0m\u001b[1;33m\u001b[0m\u001b[0m\n\u001b[0;32m   1202\u001b[0m \u001b[1;33m\u001b[0m\u001b[0m\n\u001b[1;32m-> 1203\u001b[1;33m         \u001b[0mblock\u001b[0m \u001b[1;33m=\u001b[0m \u001b[0mmake_block\u001b[0m\u001b[1;33m(\u001b[0m\u001b[0mvalues\u001b[0m\u001b[1;33m=\u001b[0m\u001b[0mvalue\u001b[0m\u001b[1;33m,\u001b[0m \u001b[0mndim\u001b[0m\u001b[1;33m=\u001b[0m\u001b[0mself\u001b[0m\u001b[1;33m.\u001b[0m\u001b[0mndim\u001b[0m\u001b[1;33m,\u001b[0m \u001b[0mplacement\u001b[0m\u001b[1;33m=\u001b[0m\u001b[0mslice\u001b[0m\u001b[1;33m(\u001b[0m\u001b[0mloc\u001b[0m\u001b[1;33m,\u001b[0m \u001b[0mloc\u001b[0m \u001b[1;33m+\u001b[0m \u001b[1;36m1\u001b[0m\u001b[1;33m)\u001b[0m\u001b[1;33m)\u001b[0m\u001b[1;33m\u001b[0m\u001b[1;33m\u001b[0m\u001b[0m\n\u001b[0m\u001b[0;32m   1204\u001b[0m \u001b[1;33m\u001b[0m\u001b[0m\n\u001b[0;32m   1205\u001b[0m         \u001b[1;32mfor\u001b[0m \u001b[0mblkno\u001b[0m\u001b[1;33m,\u001b[0m \u001b[0mcount\u001b[0m \u001b[1;32min\u001b[0m \u001b[0m_fast_count_smallints\u001b[0m\u001b[1;33m(\u001b[0m\u001b[0mself\u001b[0m\u001b[1;33m.\u001b[0m\u001b[0mblknos\u001b[0m\u001b[1;33m[\u001b[0m\u001b[0mloc\u001b[0m\u001b[1;33m:\u001b[0m\u001b[1;33m]\u001b[0m\u001b[1;33m)\u001b[0m\u001b[1;33m:\u001b[0m\u001b[1;33m\u001b[0m\u001b[1;33m\u001b[0m\u001b[0m\n",
      "\u001b[1;32mC:\\ProgramData\\Anaconda3\\envs\\neuroplant\\lib\\site-packages\\pandas\\core\\internals\\blocks.py\u001b[0m in \u001b[0;36mmake_block\u001b[1;34m(values, placement, klass, ndim, dtype)\u001b[0m\n\u001b[0;32m   2730\u001b[0m         \u001b[0mvalues\u001b[0m \u001b[1;33m=\u001b[0m \u001b[0mDatetimeArray\u001b[0m\u001b[1;33m.\u001b[0m\u001b[0m_simple_new\u001b[0m\u001b[1;33m(\u001b[0m\u001b[0mvalues\u001b[0m\u001b[1;33m,\u001b[0m \u001b[0mdtype\u001b[0m\u001b[1;33m=\u001b[0m\u001b[0mdtype\u001b[0m\u001b[1;33m)\u001b[0m\u001b[1;33m\u001b[0m\u001b[1;33m\u001b[0m\u001b[0m\n\u001b[0;32m   2731\u001b[0m \u001b[1;33m\u001b[0m\u001b[0m\n\u001b[1;32m-> 2732\u001b[1;33m     \u001b[1;32mreturn\u001b[0m \u001b[0mklass\u001b[0m\u001b[1;33m(\u001b[0m\u001b[0mvalues\u001b[0m\u001b[1;33m,\u001b[0m \u001b[0mndim\u001b[0m\u001b[1;33m=\u001b[0m\u001b[0mndim\u001b[0m\u001b[1;33m,\u001b[0m \u001b[0mplacement\u001b[0m\u001b[1;33m=\u001b[0m\u001b[0mplacement\u001b[0m\u001b[1;33m)\u001b[0m\u001b[1;33m\u001b[0m\u001b[1;33m\u001b[0m\u001b[0m\n\u001b[0m\u001b[0;32m   2733\u001b[0m \u001b[1;33m\u001b[0m\u001b[0m\n\u001b[0;32m   2734\u001b[0m \u001b[1;33m\u001b[0m\u001b[0m\n",
      "\u001b[1;32mC:\\ProgramData\\Anaconda3\\envs\\neuroplant\\lib\\site-packages\\pandas\\core\\internals\\blocks.py\u001b[0m in \u001b[0;36m__init__\u001b[1;34m(self, values, placement, ndim)\u001b[0m\n\u001b[0;32m    141\u001b[0m         \u001b[1;32mif\u001b[0m \u001b[0mself\u001b[0m\u001b[1;33m.\u001b[0m\u001b[0m_validate_ndim\u001b[0m \u001b[1;32mand\u001b[0m \u001b[0mself\u001b[0m\u001b[1;33m.\u001b[0m\u001b[0mndim\u001b[0m \u001b[1;32mand\u001b[0m \u001b[0mlen\u001b[0m\u001b[1;33m(\u001b[0m\u001b[0mself\u001b[0m\u001b[1;33m.\u001b[0m\u001b[0mmgr_locs\u001b[0m\u001b[1;33m)\u001b[0m \u001b[1;33m!=\u001b[0m \u001b[0mlen\u001b[0m\u001b[1;33m(\u001b[0m\u001b[0mself\u001b[0m\u001b[1;33m.\u001b[0m\u001b[0mvalues\u001b[0m\u001b[1;33m)\u001b[0m\u001b[1;33m:\u001b[0m\u001b[1;33m\u001b[0m\u001b[1;33m\u001b[0m\u001b[0m\n\u001b[0;32m    142\u001b[0m             raise ValueError(\n\u001b[1;32m--> 143\u001b[1;33m                 \u001b[1;34mf\"Wrong number of items passed {len(self.values)}, \"\u001b[0m\u001b[1;33m\u001b[0m\u001b[1;33m\u001b[0m\u001b[0m\n\u001b[0m\u001b[0;32m    144\u001b[0m                 \u001b[1;34mf\"placement implies {len(self.mgr_locs)}\"\u001b[0m\u001b[1;33m\u001b[0m\u001b[1;33m\u001b[0m\u001b[0m\n\u001b[0;32m    145\u001b[0m             )\n",
      "\u001b[1;31mValueError\u001b[0m: Wrong number of items passed 0, placement implies 1"
     ]
    }
   ],
   "source": [
    "dims_df['Width']=dims_df.apply(\n",
    "    lambda row: row['bbox-3'] - row['bbox-1'], axis=1)\n"
   ]
  },
  {
   "cell_type": "code",
   "execution_count": 10,
   "metadata": {},
   "outputs": [],
   "source": [
    " dims_df.to_csv('D:/_2021_08_screen/practice_run/crops/well_dims.csv')"
   ]
  },
  {
   "cell_type": "code",
   "execution_count": 50,
   "metadata": {},
   "outputs": [],
   "source": [
    "image_crops = plb.Path('D:/_2021_08_screen/practice_run/crops/')\n",
    "reference = imread('D:/_2021_08_screen/practice_run/crops/MS1_004_4A.tiff')\n",
    "for im in image_crops.glob('[!._]*.tif*'):\n",
    "    image = imread(im)\n",
    "    fname = im.stem\n",
    "    matched = match_histograms(image, reference)\n",
    "    new_match = matched.astype(np.uint8)\n",
    "    imsave('D:/_2021_08_screen/practice_run/matched/' + fname + '.tiff', new_match)"
   ]
  },
  {
   "cell_type": "code",
   "execution_count": null,
   "metadata": {},
   "outputs": [],
   "source": []
  }
 ],
 "metadata": {
  "kernelspec": {
   "display_name": "Python 3",
   "language": "python",
   "name": "python3"
  },
  "language_info": {
   "codemirror_mode": {
    "name": "ipython",
    "version": 3
   },
   "file_extension": ".py",
   "mimetype": "text/x-python",
   "name": "python",
   "nbconvert_exporter": "python",
   "pygments_lexer": "ipython3",
   "version": "3.7.4"
  }
 },
 "nbformat": 4,
 "nbformat_minor": 2
}
