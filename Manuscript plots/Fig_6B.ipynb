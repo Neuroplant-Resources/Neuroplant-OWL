{
 "cells": [
  {
   "cell_type": "markdown",
   "id": "figured-carnival",
   "metadata": {},
   "source": [
    "###  Figure 6B\n",
    "<p> The following code will generate an X-Y plot to explore the relationship of the mean differences between N2 and the mutant strains relative to the null reference conditions </p>"
   ]
  },
  {
   "cell_type": "code",
   "execution_count": 4,
   "id": "confident-summary",
   "metadata": {},
   "outputs": [],
   "source": [
    "import pandas as pd\n",
    "import numpy as np\n",
    "import matplotlib.pyplot as plt\n",
    "import seaborn as sns"
   ]
  },
  {
   "cell_type": "code",
   "execution_count": 5,
   "id": "grave-cause",
   "metadata": {},
   "outputs": [],
   "source": [
    "mwu_CXPR = pd.read_csv('C:/Users/Emily/Documents/NP_manuscript/data/S1F1_analysis.csv')\n",
    "gn_dat = pd.read_csv('C:/Users/Emily/Documents/S1F2/GN960_mdiff_h2odmso.csv')"
   ]
  },
  {
   "cell_type": "code",
   "execution_count": 2,
   "id": "virtual-aruba",
   "metadata": {
    "scrolled": true
   },
   "outputs": [
    {
     "ename": "NameError",
     "evalue": "name 'plt' is not defined",
     "output_type": "error",
     "traceback": [
      "\u001b[1;31m---------------------------------------------------------------------------\u001b[0m",
      "\u001b[1;31mNameError\u001b[0m                                 Traceback (most recent call last)",
      "\u001b[1;32m<ipython-input-2-4f019a65f576>\u001b[0m in \u001b[0;36m<module>\u001b[1;34m\u001b[0m\n\u001b[1;32m----> 1\u001b[1;33m \u001b[0mfig\u001b[0m\u001b[1;33m,\u001b[0m \u001b[0maxes\u001b[0m \u001b[1;33m=\u001b[0m \u001b[0mplt\u001b[0m\u001b[1;33m.\u001b[0m\u001b[0msubplots\u001b[0m\u001b[1;33m(\u001b[0m\u001b[0mfigsize\u001b[0m\u001b[1;33m=\u001b[0m\u001b[1;33m(\u001b[0m\u001b[1;36m10\u001b[0m\u001b[1;33m,\u001b[0m\u001b[1;36m10\u001b[0m\u001b[1;33m)\u001b[0m\u001b[1;33m,\u001b[0m \u001b[0mnrows\u001b[0m\u001b[1;33m=\u001b[0m\u001b[1;36m2\u001b[0m\u001b[1;33m,\u001b[0m \u001b[0mncols\u001b[0m\u001b[1;33m=\u001b[0m\u001b[1;36m2\u001b[0m\u001b[1;33m,\u001b[0m \u001b[1;33m)\u001b[0m\u001b[1;33m\u001b[0m\u001b[1;33m\u001b[0m\u001b[0m\n\u001b[0m\u001b[0;32m      2\u001b[0m \u001b[1;33m\u001b[0m\u001b[0m\n\u001b[0;32m      3\u001b[0m \u001b[1;32mfor\u001b[0m \u001b[0max\u001b[0m \u001b[1;32min\u001b[0m \u001b[0maxes\u001b[0m\u001b[1;33m.\u001b[0m\u001b[0mravel\u001b[0m\u001b[1;33m(\u001b[0m\u001b[1;33m)\u001b[0m\u001b[1;33m:\u001b[0m\u001b[1;33m\u001b[0m\u001b[1;33m\u001b[0m\u001b[0m\n\u001b[0;32m      4\u001b[0m     \u001b[0max\u001b[0m\u001b[1;33m.\u001b[0m\u001b[0mplot\u001b[0m\u001b[1;33m(\u001b[0m\u001b[1;33m[\u001b[0m\u001b[1;36m0\u001b[0m\u001b[1;33m,\u001b[0m \u001b[1;36m1\u001b[0m\u001b[1;33m]\u001b[0m\u001b[1;33m,\u001b[0m \u001b[1;33m[\u001b[0m\u001b[1;36m0\u001b[0m\u001b[1;33m,\u001b[0m \u001b[1;36m1\u001b[0m\u001b[1;33m]\u001b[0m\u001b[1;33m,\u001b[0m \u001b[0mtransform\u001b[0m\u001b[1;33m=\u001b[0m\u001b[0max\u001b[0m\u001b[1;33m.\u001b[0m\u001b[0mtransAxes\u001b[0m\u001b[1;33m,\u001b[0m \u001b[0mlinestyle\u001b[0m\u001b[1;33m=\u001b[0m\u001b[1;34m'--'\u001b[0m\u001b[1;33m,\u001b[0m \u001b[0mlinewidth\u001b[0m\u001b[1;33m=\u001b[0m \u001b[1;36m.8\u001b[0m\u001b[1;33m,\u001b[0m \u001b[0malpha\u001b[0m \u001b[1;33m=\u001b[0m \u001b[1;36m.7\u001b[0m\u001b[1;33m)\u001b[0m\u001b[1;33m\u001b[0m\u001b[1;33m\u001b[0m\u001b[0m\n\u001b[0;32m      5\u001b[0m     \u001b[0max\u001b[0m\u001b[1;33m.\u001b[0m\u001b[0mset_xlim\u001b[0m\u001b[1;33m(\u001b[0m\u001b[1;33m-\u001b[0m\u001b[1;36m10\u001b[0m\u001b[1;33m,\u001b[0m\u001b[1;36m15\u001b[0m\u001b[1;33m)\u001b[0m\u001b[1;33m\u001b[0m\u001b[1;33m\u001b[0m\u001b[0m\n",
      "\u001b[1;31mNameError\u001b[0m: name 'plt' is not defined"
     ]
    }
   ],
   "source": [
    "fig, axes = plt.subplots(figsize=(10,10), nrows=2, ncols=2, )\n",
    "\n",
    "for ax in axes.ravel():\n",
    "    ax.plot([0, 1], [0, 1], transform=ax.transAxes, linestyle='--', linewidth= .8, alpha = .7)\n",
    "    ax.set_xlim(-10,15)\n",
    "    ax.set_ylim(-10, 15)\n",
    "    ax.axvline(x=0, linestyle='--', color='gray', linewidth= .8, alpha = .7)\n",
    "    ax.axhline(y=0, linestyle='--', color='gray', linewidth= .8, alpha = .7)\n",
    "    ax.tick_params(axis=\"both\", direction=\"in\")\n",
    "    \n",
    "\n",
    "sns.scatterplot(x=\"N2 DMSO diff\", y= \"CX10 DMSO diff\", data=mwu_CXPR, ax=axes[0,0])\n",
    "axes[0,0].set_ylabel('N2 mean difference')\n",
    "axes[0,0].set_xlabel('GN960 mean difference') \n",
    "    \n",
    "sns.scatterplot(x=\"N2 DMSO diff\", y= \"CX10 DMSO diff\", data=mwu_CXPR, ax=axes[0,0])\n",
    "axes[0,1].set_ylabel('N2 mean difference')\n",
    "axes[0,1].set_xlabel('CX10 mean difference')  \n",
    "\n",
    "sns.scatterplot(x=\"N2 DMSO diff\", y= \"CX10 DMSO diff\", data=mwu_CXPR, ax=axes[0,0])\n",
    "axes[0,2].set_ylabel('N2 mean difference')\n",
    "axes[0,2].set_xlabel('osm-9 mean difference')\n",
    "\n",
    "\n",
    "sns.scatterplot(x=\"N2 DMSO diff\", y=\"PR678 DMSO diff\", data=mwu_CXPR, ax=axes[1,0])\n",
    "axes[0,1].set_ylabel('N2 Mean Difference')\n",
    "axes[0,1].set_xlabel('tax-4 Mean Difference')\n",
    "\n",
    "sns.scatterplot(x=\"N2 H2O diff\", y=\"PR678 H2O diff\", data=mwu_CXPR, ax = axes[1,1])\n",
    "axes[1,1].set_ylabel('')\n",
    "axes[1,1].set_xlabel('tax-4 Mean Difference')\n",
    "\n",
    "\n",
    "plt.rcParams['svg.fonttype'] = 'none'\n",
    "plt.savefig('D:/NP_manuscript/X_Y.svg')"
   ]
  },
  {
   "cell_type": "code",
   "execution_count": 3,
   "id": "sustained-trust",
   "metadata": {},
   "outputs": [
    {
     "ename": "NameError",
     "evalue": "name 'pd' is not defined",
     "output_type": "error",
     "traceback": [
      "\u001b[1;31m---------------------------------------------------------------------------\u001b[0m",
      "\u001b[1;31mNameError\u001b[0m                                 Traceback (most recent call last)",
      "\u001b[1;32m<ipython-input-3-886cdf6ed60d>\u001b[0m in \u001b[0;36m<module>\u001b[1;34m\u001b[0m\n\u001b[1;32m----> 1\u001b[1;33m \u001b[0mGN960\u001b[0m \u001b[1;33m=\u001b[0m \u001b[0mpd\u001b[0m\u001b[1;33m.\u001b[0m\u001b[0mread_csv\u001b[0m\u001b[1;33m(\u001b[0m\u001b[1;34m'C:/Users/Emily/Desktop/current_analysis/S1F2/GN960_mdiff.csv'\u001b[0m\u001b[1;33m)\u001b[0m\u001b[1;33m\u001b[0m\u001b[1;33m\u001b[0m\u001b[0m\n\u001b[0m",
      "\u001b[1;31mNameError\u001b[0m: name 'pd' is not defined"
     ]
    }
   ],
   "source": [
    "GN960 = pd.read_csv('C:/Users/Emily/Desktop/current_analysis/S1F2/GN960_mdiff.csv')"
   ]
  },
  {
   "cell_type": "code",
   "execution_count": 8,
   "id": "unauthorized-speaker",
   "metadata": {},
   "outputs": [],
   "source": [
    "n2_dmso = mwu_CXPR['N2 DMSO diff']\n",
    "GN960_dmso = GN960['difference']"
   ]
  },
  {
   "cell_type": "code",
   "execution_count": 14,
   "id": "threatened-documentation",
   "metadata": {},
   "outputs": [
    {
     "data": {
      "image/png": "[encoded data removed]",
      "text/plain": [
       "<Figure size 720x720 with 1 Axes>"
      ]
     },
     "metadata": {
      "needs_background": "light"
     },
     "output_type": "display_data"
    }
   ],
   "source": [
    "fig, axes = plt.subplots(figsize=(10,10) )\n",
    "sns.scatterplot(x=GN960_dmso, y= n2_dmso)\n",
    "#ax.plot([0, 1], [0, 1], transform=ax.transAxes, linestyle='--', linewidth= .8, alpha = .7)\n",
    "axes.set_xlim(-10,15)\n",
    "axes.set_ylim(-10, 15)\n",
    "axes.axvline(x=0, linestyle='--', color='gray', linewidth= .8, alpha = .7)\n",
    "axes.axhline(y=0, linestyle='--', color='gray', linewidth= .8, alpha = .7)\n",
    "axes.tick_params(axis=\"both\", direction=\"in\")\n",
    "plt.savefig('C:/Users/Emily/Desktop/current_analysis/S1F2/GN96_N2.png')"
   ]
  },
  {
   "cell_type": "code",
   "execution_count": null,
   "id": "spanish-recycling",
   "metadata": {},
   "outputs": [],
   "source": []
  }
 ],
 "metadata": {
  "kernelspec": {
   "display_name": "Python 3",
   "language": "python",
   "name": "python3"
  },
  "language_info": {
   "codemirror_mode": {
    "name": "ipython",
    "version": 3
   },
   "file_extension": ".py",
   "mimetype": "text/x-python",
   "name": "python",
   "nbconvert_exporter": "python",
   "pygments_lexer": "ipython3",
   "version": "3.7.4"
  }
 },
 "nbformat": 4,
 "nbformat_minor": 5
}
