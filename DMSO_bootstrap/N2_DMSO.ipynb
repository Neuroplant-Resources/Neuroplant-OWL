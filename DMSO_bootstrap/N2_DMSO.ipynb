{
 "cells": [
  {
   "cell_type": "code",
   "execution_count": 1,
   "metadata": {},
   "outputs": [],
   "source": [
    "import matplotlib.pyplot as plt\n",
    "import seaborn as sns\n",
    "import numpy as np\n",
    "import pandas as pd\n",
    "from scipy.stats import norm\n",
    "%matplotlib inline\n",
    "import pathlib as plb\n",
    "import matplotlib.mlab as mlab\n",
    "import skimage.io\n",
    "import dabest"
   ]
  },
  {
   "cell_type": "markdown",
   "metadata": {},
   "source": [
    "## Beginning of N2/DMSO bin analysis "
   ]
  },
  {
   "cell_type": "markdown",
   "metadata": {},
   "source": [
    "1. Subset of all control data from fall 2020 assay"
   ]
  },
  {
   "cell_type": "code",
   "execution_count": 7,
   "metadata": {},
   "outputs": [
    {
     "data": {
      "text/html": [
       "<div>\n",
       "<style scoped>\n",
       "    .dataframe tbody tr th:only-of-type {\n",
       "        vertical-align: middle;\n",
       "    }\n",
       "\n",
       "    .dataframe tbody tr th {\n",
       "        vertical-align: top;\n",
       "    }\n",
       "\n",
       "    .dataframe thead th {\n",
       "        text-align: right;\n",
       "    }\n",
       "</style>\n",
       "<table border=\"1\" class=\"dataframe\">\n",
       "  <thead>\n",
       "    <tr style=\"text-align: right;\">\n",
       "      <th></th>\n",
       "      <th>Total Worms</th>\n",
       "      <th>Chemotaxis</th>\n",
       "      <th>Compound Name</th>\n",
       "      <th>Filename</th>\n",
       "      <th>Slot</th>\n",
       "      <th>Well</th>\n",
       "      <th>PID</th>\n",
       "      <th>Compound</th>\n",
       "    </tr>\n",
       "  </thead>\n",
       "  <tbody>\n",
       "    <tr>\n",
       "      <th>0</th>\n",
       "      <td>130</td>\n",
       "      <td>0.783333</td>\n",
       "      <td>EtOH (control)</td>\n",
       "      <td>NPP_201030_01_fin.tif</td>\n",
       "      <td>1</td>\n",
       "      <td>C</td>\n",
       "      <td>NPP_201030_001C</td>\n",
       "      <td>EtOH</td>\n",
       "    </tr>\n",
       "    <tr>\n",
       "      <th>1</th>\n",
       "      <td>170</td>\n",
       "      <td>0.333333</td>\n",
       "      <td>H2O(controll)</td>\n",
       "      <td>NPP_201030_01_fin.tif</td>\n",
       "      <td>2</td>\n",
       "      <td>C</td>\n",
       "      <td>NPP_201030_002C</td>\n",
       "      <td>H2O</td>\n",
       "    </tr>\n",
       "    <tr>\n",
       "      <th>2</th>\n",
       "      <td>120</td>\n",
       "      <td>-0.010101</td>\n",
       "      <td>DMSO</td>\n",
       "      <td>NPP_201106_02_fin.tif</td>\n",
       "      <td>2</td>\n",
       "      <td>B</td>\n",
       "      <td>NPP_201106_006B</td>\n",
       "      <td>DMSO</td>\n",
       "    </tr>\n",
       "    <tr>\n",
       "      <th>3</th>\n",
       "      <td>187</td>\n",
       "      <td>0.077844</td>\n",
       "      <td>EtOH (control)</td>\n",
       "      <td>NPP_201106_02_fin.tif</td>\n",
       "      <td>4</td>\n",
       "      <td>D</td>\n",
       "      <td>NPP_201106_008D</td>\n",
       "      <td>EtOH</td>\n",
       "    </tr>\n",
       "    <tr>\n",
       "      <th>4</th>\n",
       "      <td>130</td>\n",
       "      <td>0.299145</td>\n",
       "      <td>H2O(controll)</td>\n",
       "      <td>NPP_201106_03_fin.tif</td>\n",
       "      <td>1</td>\n",
       "      <td>C</td>\n",
       "      <td>NPP_201106_009C</td>\n",
       "      <td>H2O</td>\n",
       "    </tr>\n",
       "  </tbody>\n",
       "</table>\n",
       "</div>"
      ],
      "text/plain": [
       "   Total Worms  Chemotaxis   Compound Name               Filename  Slot Well  \\\n",
       "0          130    0.783333  EtOH (control)  NPP_201030_01_fin.tif     1    C   \n",
       "1          170    0.333333   H2O(controll)  NPP_201030_01_fin.tif     2    C   \n",
       "2          120   -0.010101            DMSO  NPP_201106_02_fin.tif     2    B   \n",
       "3          187    0.077844  EtOH (control)  NPP_201106_02_fin.tif     4    D   \n",
       "4          130    0.299145   H2O(controll)  NPP_201106_03_fin.tif     1    C   \n",
       "\n",
       "               PID Compound  \n",
       "0  NPP_201030_001C     EtOH  \n",
       "1  NPP_201030_002C      H2O  \n",
       "2  NPP_201106_006B     DMSO  \n",
       "3  NPP_201106_008D     EtOH  \n",
       "4  NPP_201106_009C      H2O  "
      ]
     },
     "execution_count": 7,
     "metadata": {},
     "output_type": "execute_result"
    }
   ],
   "source": [
    "### Reading and cleaning up the data\n",
    "fall_data = pd.read_csv('/Volumes/LaCie/Controls/fall20_control_data.csv', header=None, \n",
    "                        usecols=[11,12,13,15,16,17,18,19], \n",
    "                        names=['Total Worms', 'Chemotaxis', 'Compound Name','Filename' ,'Slot', \n",
    "                               'Well', 'PID', 'Compound'])\n",
    "\n",
    "fall_data.head()"
   ]
  },
  {
   "cell_type": "markdown",
   "metadata": {},
   "source": [
    "2. Subset all DMSO data from fall 2020 data"
   ]
  },
  {
   "cell_type": "code",
   "execution_count": 6,
   "metadata": {},
   "outputs": [
    {
     "data": {
      "text/html": [
       "<div>\n",
       "<style scoped>\n",
       "    .dataframe tbody tr th:only-of-type {\n",
       "        vertical-align: middle;\n",
       "    }\n",
       "\n",
       "    .dataframe tbody tr th {\n",
       "        vertical-align: top;\n",
       "    }\n",
       "\n",
       "    .dataframe thead th {\n",
       "        text-align: right;\n",
       "    }\n",
       "</style>\n",
       "<table border=\"1\" class=\"dataframe\">\n",
       "  <thead>\n",
       "    <tr style=\"text-align: right;\">\n",
       "      <th></th>\n",
       "      <th>Total Worms</th>\n",
       "      <th>Chemotaxis</th>\n",
       "      <th>Compound Name</th>\n",
       "      <th>Filename</th>\n",
       "      <th>Slot</th>\n",
       "      <th>Well</th>\n",
       "      <th>PID</th>\n",
       "      <th>Compound</th>\n",
       "    </tr>\n",
       "  </thead>\n",
       "  <tbody>\n",
       "    <tr>\n",
       "      <th>2</th>\n",
       "      <td>120</td>\n",
       "      <td>-0.010101</td>\n",
       "      <td>DMSO</td>\n",
       "      <td>NPP_201106_02_fin.tif</td>\n",
       "      <td>2</td>\n",
       "      <td>B</td>\n",
       "      <td>NPP_201106_006B</td>\n",
       "      <td>DMSO</td>\n",
       "    </tr>\n",
       "    <tr>\n",
       "      <th>5</th>\n",
       "      <td>226</td>\n",
       "      <td>-0.415385</td>\n",
       "      <td>DMSO</td>\n",
       "      <td>NPP_201030_02_fin.tif</td>\n",
       "      <td>4</td>\n",
       "      <td>A</td>\n",
       "      <td>NPP_201030_008A</td>\n",
       "      <td>DMSO</td>\n",
       "    </tr>\n",
       "    <tr>\n",
       "      <th>8</th>\n",
       "      <td>171</td>\n",
       "      <td>-0.041096</td>\n",
       "      <td>DMSO</td>\n",
       "      <td>NPP_201106_04_fin.tif</td>\n",
       "      <td>1</td>\n",
       "      <td>A</td>\n",
       "      <td>NPP_201106_011A</td>\n",
       "      <td>DMSO</td>\n",
       "    </tr>\n",
       "    <tr>\n",
       "      <th>11</th>\n",
       "      <td>181</td>\n",
       "      <td>0.392857</td>\n",
       "      <td>DMSO</td>\n",
       "      <td>NPP_201030_04_fin.tif</td>\n",
       "      <td>1</td>\n",
       "      <td>C</td>\n",
       "      <td>NPP_201030_011C</td>\n",
       "      <td>DMSO</td>\n",
       "    </tr>\n",
       "    <tr>\n",
       "      <th>13</th>\n",
       "      <td>321</td>\n",
       "      <td>-0.010453</td>\n",
       "      <td>DMSO</td>\n",
       "      <td>NPP_201102_05_fin.tif</td>\n",
       "      <td>2</td>\n",
       "      <td>A</td>\n",
       "      <td>NPP_201102_016A</td>\n",
       "      <td>DMSO</td>\n",
       "    </tr>\n",
       "    <tr>\n",
       "      <th>15</th>\n",
       "      <td>189</td>\n",
       "      <td>-0.090909</td>\n",
       "      <td>DMSO</td>\n",
       "      <td>NPP_201102_01_fin.tif</td>\n",
       "      <td>2</td>\n",
       "      <td>B</td>\n",
       "      <td>NPP_201102_002B</td>\n",
       "      <td>DMSO</td>\n",
       "    </tr>\n",
       "  </tbody>\n",
       "</table>\n",
       "</div>"
      ],
      "text/plain": [
       "    Total Worms  Chemotaxis Compound Name               Filename  Slot Well  \\\n",
       "2           120   -0.010101          DMSO  NPP_201106_02_fin.tif     2    B   \n",
       "5           226   -0.415385          DMSO  NPP_201030_02_fin.tif     4    A   \n",
       "8           171   -0.041096          DMSO  NPP_201106_04_fin.tif     1    A   \n",
       "11          181    0.392857          DMSO  NPP_201030_04_fin.tif     1    C   \n",
       "13          321   -0.010453          DMSO  NPP_201102_05_fin.tif     2    A   \n",
       "15          189   -0.090909          DMSO  NPP_201102_01_fin.tif     2    B   \n",
       "\n",
       "                PID Compound  \n",
       "2   NPP_201106_006B     DMSO  \n",
       "5   NPP_201030_008A     DMSO  \n",
       "8   NPP_201106_011A     DMSO  \n",
       "11  NPP_201030_011C     DMSO  \n",
       "13  NPP_201102_016A     DMSO  \n",
       "15  NPP_201102_002B     DMSO  "
      ]
     },
     "execution_count": 6,
     "metadata": {},
     "output_type": "execute_result"
    }
   ],
   "source": [
    "DMSO = fall_data.loc[fall_data['Compound']=='DMSO']\n",
    "DMSO"
   ]
  },
  {
   "cell_type": "code",
   "execution_count": 8,
   "metadata": {},
   "outputs": [],
   "source": [
    "DMSO.to_csv('/Volumes/LaCie/Controls/fall20_DMSO_summary.csv')"
   ]
  },
  {
   "cell_type": "markdown",
   "metadata": {},
   "source": [
    "## Next Steps"
   ]
  },
  {
   "cell_type": "markdown",
   "metadata": {},
   "source": [
    "#### The following is a test case for Fall 2020 data"
   ]
  },
  {
   "cell_type": "code",
   "execution_count": 2,
   "metadata": {},
   "outputs": [],
   "source": [
    "data1030 = pd.read_csv('/Users/emilyfryer/Documents/Current_analysis/automated_results/201030.csv')\n",
    "data1102 = pd.read_csv('/Users/emilyfryer/Documents/Current_analysis/automated_results/201102.csv')\n",
    "data1106 = pd.read_csv('/Users/emilyfryer/Documents/Current_analysis/automated_results/201106.csv')"
   ]
  },
  {
   "cell_type": "code",
   "execution_count": 3,
   "metadata": {},
   "outputs": [
    {
     "data": {
      "text/html": [
       "<div>\n",
       "<style scoped>\n",
       "    .dataframe tbody tr th:only-of-type {\n",
       "        vertical-align: middle;\n",
       "    }\n",
       "\n",
       "    .dataframe tbody tr th {\n",
       "        vertical-align: top;\n",
       "    }\n",
       "\n",
       "    .dataframe thead th {\n",
       "        text-align: right;\n",
       "    }\n",
       "</style>\n",
       "<table border=\"1\" class=\"dataframe\">\n",
       "  <thead>\n",
       "    <tr style=\"text-align: right;\">\n",
       "      <th></th>\n",
       "      <th>Unnamed: 0</th>\n",
       "      <th>WellNo</th>\n",
       "      <th>centroid-0</th>\n",
       "      <th>centroid-1</th>\n",
       "      <th>bbox-0</th>\n",
       "      <th>bbox-1</th>\n",
       "      <th>bbox-2</th>\n",
       "      <th>bbox-3</th>\n",
       "      <th>area</th>\n",
       "      <th>Total Worms</th>\n",
       "      <th>Chemotaxis</th>\n",
       "      <th>Compound</th>\n",
       "      <th>Strain</th>\n",
       "      <th>Image ID</th>\n",
       "      <th>Slot</th>\n",
       "      <th>Well</th>\n",
       "      <th>pid</th>\n",
       "      <th>Solvent</th>\n",
       "      <th>Neighbor</th>\n",
       "    </tr>\n",
       "  </thead>\n",
       "  <tbody>\n",
       "    <tr>\n",
       "      <th>75</th>\n",
       "      <td>91</td>\n",
       "      <td>1D</td>\n",
       "      <td>5834</td>\n",
       "      <td>7304</td>\n",
       "      <td>5389</td>\n",
       "      <td>5804</td>\n",
       "      <td>6280</td>\n",
       "      <td>8849</td>\n",
       "      <td>2315202</td>\n",
       "      <td>188</td>\n",
       "      <td>0.029240</td>\n",
       "      <td>p-Anisaldehyde</td>\n",
       "      <td>NaN</td>\n",
       "      <td>NPP_201106_06_fin.tif</td>\n",
       "      <td>1</td>\n",
       "      <td>D</td>\n",
       "      <td>NPP_201106_019</td>\n",
       "      <td>EtOH</td>\n",
       "      <td>1</td>\n",
       "    </tr>\n",
       "    <tr>\n",
       "      <th>76</th>\n",
       "      <td>92</td>\n",
       "      <td>2A</td>\n",
       "      <td>1461</td>\n",
       "      <td>2792</td>\n",
       "      <td>1019</td>\n",
       "      <td>1255</td>\n",
       "      <td>1907</td>\n",
       "      <td>4328</td>\n",
       "      <td>2365488</td>\n",
       "      <td>168</td>\n",
       "      <td>-0.219858</td>\n",
       "      <td>Bergamont</td>\n",
       "      <td>NaN</td>\n",
       "      <td>NPP_201106_06_fin.tif</td>\n",
       "      <td>2</td>\n",
       "      <td>A</td>\n",
       "      <td>NPP_201106_020</td>\n",
       "      <td>DMSO</td>\n",
       "      <td>1</td>\n",
       "    </tr>\n",
       "    <tr>\n",
       "      <th>77</th>\n",
       "      <td>93</td>\n",
       "      <td>2B</td>\n",
       "      <td>2911</td>\n",
       "      <td>2781</td>\n",
       "      <td>2459</td>\n",
       "      <td>1276</td>\n",
       "      <td>3357</td>\n",
       "      <td>4323</td>\n",
       "      <td>2366689</td>\n",
       "      <td>154</td>\n",
       "      <td>-0.248120</td>\n",
       "      <td>CITRULLINE</td>\n",
       "      <td>NaN</td>\n",
       "      <td>NPP_201106_06_fin.tif</td>\n",
       "      <td>2</td>\n",
       "      <td>B</td>\n",
       "      <td>NPP_201106_020</td>\n",
       "      <td>H2O</td>\n",
       "      <td>2</td>\n",
       "    </tr>\n",
       "    <tr>\n",
       "      <th>78</th>\n",
       "      <td>94</td>\n",
       "      <td>2C</td>\n",
       "      <td>4298</td>\n",
       "      <td>2836</td>\n",
       "      <td>3854</td>\n",
       "      <td>1317</td>\n",
       "      <td>4745</td>\n",
       "      <td>4362</td>\n",
       "      <td>2348682</td>\n",
       "      <td>174</td>\n",
       "      <td>-0.253333</td>\n",
       "      <td>trans-Caffeic acid/3,4-Dihydroxycinnamic acid</td>\n",
       "      <td>NaN</td>\n",
       "      <td>NPP_201106_06_fin.tif</td>\n",
       "      <td>2</td>\n",
       "      <td>C</td>\n",
       "      <td>NPP_201106_020</td>\n",
       "      <td>EtOH</td>\n",
       "      <td>2</td>\n",
       "    </tr>\n",
       "    <tr>\n",
       "      <th>79</th>\n",
       "      <td>95</td>\n",
       "      <td>2D</td>\n",
       "      <td>5727</td>\n",
       "      <td>2825</td>\n",
       "      <td>5260</td>\n",
       "      <td>1278</td>\n",
       "      <td>6173</td>\n",
       "      <td>4353</td>\n",
       "      <td>2330610</td>\n",
       "      <td>150</td>\n",
       "      <td>-0.430894</td>\n",
       "      <td>trans-anethole</td>\n",
       "      <td>NaN</td>\n",
       "      <td>NPP_201106_06_fin.tif</td>\n",
       "      <td>2</td>\n",
       "      <td>D</td>\n",
       "      <td>NPP_201106_020</td>\n",
       "      <td>DMSO</td>\n",
       "      <td>1</td>\n",
       "    </tr>\n",
       "  </tbody>\n",
       "</table>\n",
       "</div>"
      ],
      "text/plain": [
       "    Unnamed: 0 WellNo  centroid-0  centroid-1  bbox-0  bbox-1  bbox-2  bbox-3  \\\n",
       "75          91     1D        5834        7304    5389    5804    6280    8849   \n",
       "76          92     2A        1461        2792    1019    1255    1907    4328   \n",
       "77          93     2B        2911        2781    2459    1276    3357    4323   \n",
       "78          94     2C        4298        2836    3854    1317    4745    4362   \n",
       "79          95     2D        5727        2825    5260    1278    6173    4353   \n",
       "\n",
       "       area  Total Worms  Chemotaxis  \\\n",
       "75  2315202          188    0.029240   \n",
       "76  2365488          168   -0.219858   \n",
       "77  2366689          154   -0.248120   \n",
       "78  2348682          174   -0.253333   \n",
       "79  2330610          150   -0.430894   \n",
       "\n",
       "                                         Compound  Strain  \\\n",
       "75                                 p-Anisaldehyde     NaN   \n",
       "76                                      Bergamont     NaN   \n",
       "77                                     CITRULLINE     NaN   \n",
       "78  trans-Caffeic acid/3,4-Dihydroxycinnamic acid     NaN   \n",
       "79                                 trans-anethole     NaN   \n",
       "\n",
       "                 Image ID  Slot Well             pid Solvent  Neighbor  \n",
       "75  NPP_201106_06_fin.tif     1    D  NPP_201106_019    EtOH         1  \n",
       "76  NPP_201106_06_fin.tif     2    A  NPP_201106_020    DMSO         1  \n",
       "77  NPP_201106_06_fin.tif     2    B  NPP_201106_020     H2O         2  \n",
       "78  NPP_201106_06_fin.tif     2    C  NPP_201106_020    EtOH         2  \n",
       "79  NPP_201106_06_fin.tif     2    D  NPP_201106_020    DMSO         1  "
      ]
     },
     "execution_count": 3,
     "metadata": {},
     "output_type": "execute_result"
    }
   ],
   "source": [
    "fall_dat = pd.concat([data1030, data1102, data1106])\n",
    "fall_dat.tail()"
   ]
  },
  {
   "cell_type": "code",
   "execution_count": 4,
   "metadata": {},
   "outputs": [],
   "source": [
    "cv = fall_dat.groupby(['Compound'])['Chemotaxis'].std() / fall_dat.groupby(['Compound'])['Chemotaxis'].mean()\n",
    "\n"
   ]
  },
  {
   "cell_type": "code",
   "execution_count": 5,
   "metadata": {},
   "outputs": [],
   "source": [
    "mean_groups = fall_dat.groupby(['Compound'])['Chemotaxis'].mean()\n",
    "var_groups = fall_dat.groupby(['Compound'])['Chemotaxis'].var()\n",
    "std_groups = fall_dat.groupby(['Compound'])['Chemotaxis'].std()"
   ]
  },
  {
   "cell_type": "code",
   "execution_count": null,
   "metadata": {},
   "outputs": [],
   "source": []
  },
  {
   "cell_type": "code",
   "execution_count": 7,
   "metadata": {},
   "outputs": [],
   "source": [
    "sum_dat = pd.concat([mean_groups, std_groups, var_groups, cv], axis=1, )"
   ]
  },
  {
   "cell_type": "code",
   "execution_count": 8,
   "metadata": {},
   "outputs": [
    {
     "data": {
      "text/html": [
       "<div>\n",
       "<style scoped>\n",
       "    .dataframe tbody tr th:only-of-type {\n",
       "        vertical-align: middle;\n",
       "    }\n",
       "\n",
       "    .dataframe tbody tr th {\n",
       "        vertical-align: top;\n",
       "    }\n",
       "\n",
       "    .dataframe thead th {\n",
       "        text-align: right;\n",
       "    }\n",
       "</style>\n",
       "<table border=\"1\" class=\"dataframe\">\n",
       "  <thead>\n",
       "    <tr style=\"text-align: right;\">\n",
       "      <th></th>\n",
       "      <th>Mean</th>\n",
       "      <th>SD</th>\n",
       "      <th>Variance</th>\n",
       "      <th>CV</th>\n",
       "    </tr>\n",
       "    <tr>\n",
       "      <th>Compound</th>\n",
       "      <th></th>\n",
       "      <th></th>\n",
       "      <th></th>\n",
       "      <th></th>\n",
       "    </tr>\n",
       "  </thead>\n",
       "  <tbody>\n",
       "    <tr>\n",
       "      <th>(S)-(+)-Carvone</th>\n",
       "      <td>-0.155887</td>\n",
       "      <td>0.443514</td>\n",
       "      <td>0.196704</td>\n",
       "      <td>-2.845098</td>\n",
       "    </tr>\n",
       "    <tr>\n",
       "      <th>(S)-(-)-Carvone</th>\n",
       "      <td>-0.222555</td>\n",
       "      <td>0.212017</td>\n",
       "      <td>0.044951</td>\n",
       "      <td>-0.952652</td>\n",
       "    </tr>\n",
       "    <tr>\n",
       "      <th>(±)-Camphor</th>\n",
       "      <td>0.003254</td>\n",
       "      <td>0.156127</td>\n",
       "      <td>0.024376</td>\n",
       "      <td>47.985486</td>\n",
       "    </tr>\n",
       "    <tr>\n",
       "      <th>1-octanol</th>\n",
       "      <td>0.044225</td>\n",
       "      <td>0.421207</td>\n",
       "      <td>0.177415</td>\n",
       "      <td>9.524274</td>\n",
       "    </tr>\n",
       "    <tr>\n",
       "      <th>2-Methyl-1-butanol</th>\n",
       "      <td>0.661370</td>\n",
       "      <td>0.225475</td>\n",
       "      <td>0.050839</td>\n",
       "      <td>0.340921</td>\n",
       "    </tr>\n",
       "  </tbody>\n",
       "</table>\n",
       "</div>"
      ],
      "text/plain": [
       "                        Mean        SD  Variance         CV\n",
       "Compound                                                   \n",
       "(S)-(+)-Carvone    -0.155887  0.443514  0.196704  -2.845098\n",
       "(S)-(-)-Carvone    -0.222555  0.212017  0.044951  -0.952652\n",
       "(±)-Camphor         0.003254  0.156127  0.024376  47.985486\n",
       "1-octanol           0.044225  0.421207  0.177415   9.524274\n",
       "2-Methyl-1-butanol  0.661370  0.225475  0.050839   0.340921"
      ]
     },
     "execution_count": 8,
     "metadata": {},
     "output_type": "execute_result"
    }
   ],
   "source": [
    "sum_dat.columns = ['Mean', 'SD', 'Variance', 'CV']\n",
    "sum_dat.head()"
   ]
  },
  {
   "cell_type": "code",
   "execution_count": 15,
   "metadata": {},
   "outputs": [],
   "source": [
    "sum_dat.to_csv('/Users/emilyfryer/Documents/Current_analysis/automated_results/CV_summary_data.csv')"
   ]
  },
  {
   "cell_type": "code",
   "execution_count": 13,
   "metadata": {},
   "outputs": [
    {
     "data": {
      "text/plain": [
       "Text(0.5, 0, 'Data')"
      ]
     },
     "execution_count": 13,
     "metadata": {},
     "output_type": "execute_result"
    },
    {
     "data": {
      "image/png": "[encoded data removed]",
      "text/plain": [
       "<Figure size 432x288 with 1 Axes>"
      ]
     },
     "metadata": {
      "needs_background": "light"
     },
     "output_type": "display_data"
    }
   ],
   "source": [
    "plt.hist(sum_dat['CV'], density=True, bins=40)  # density=False would make counts\n",
    "plt.ylabel('Probability')\n",
    "plt.xlabel('Data')"
   ]
  },
  {
   "cell_type": "code",
   "execution_count": 12,
   "metadata": {},
   "outputs": [],
   "source": [
    "for index, row in sum_dat.iterrows():\n",
    "    if abs(row['CV']) >= 20:\n",
    "        sum_dat.drop(index, inplace=True)"
   ]
  },
  {
   "cell_type": "code",
   "execution_count": null,
   "metadata": {},
   "outputs": [],
   "source": []
  },
  {
   "cell_type": "code",
   "execution_count": null,
   "metadata": {},
   "outputs": [],
   "source": []
  },
  {
   "cell_type": "code",
   "execution_count": 58,
   "metadata": {},
   "outputs": [
    {
     "data": {
      "image/png": "[encoded data removed]",
      "text/plain": [
       "<Figure size 432x288 with 1 Axes>"
      ]
     },
     "metadata": {
      "needs_background": "light"
     },
     "output_type": "display_data"
    }
   ],
   "source": [
    "plt.hist(data, bins=30, density=True)\n",
    "xmin, xmax = plt.xlim()\n",
    "x = np.linspace(xmin, xmax, 100)\n",
    "y = norm.pdf(x, mean, std)\n",
    "plt.plot(x, y)\n",
    "plt.show()"
   ]
  },
  {
   "cell_type": "markdown",
   "metadata": {},
   "source": [
    "## Combining all N2/DMSO data "
   ]
  },
  {
   "cell_type": "code",
   "execution_count": 12,
   "metadata": {},
   "outputs": [],
   "source": [
    "locations_folder = plb.Path('/Volumes/LaCie/Controls/DMSO_N2_locations/')\n",
    "results_files = locations_folder.glob('loc*.csv')"
   ]
  },
  {
   "cell_type": "code",
   "execution_count": 13,
   "metadata": {},
   "outputs": [],
   "source": [
    "N2_DMSO = []\n",
    "for file in results_files:\n",
    "    this_experiment_df = pd.read_csv(file)\n",
    "    N2_DMSO.append(this_experiment_df)\n",
    "\n",
    "N2_DMSO\n",
    "N2_DMSO = pd.concat(N2_DMSO, sort=True)"
   ]
  },
  {
   "cell_type": "code",
   "execution_count": 38,
   "metadata": {},
   "outputs": [
    {
     "data": {
      "image/png": "[encoded data removed]",
      "text/plain": [
       "<Figure size 432x288 with 1 Axes>"
      ]
     },
     "metadata": {
      "needs_background": "light"
     },
     "output_type": "display_data"
    }
   ],
   "source": [
    "data = N2_DMSO['centroid-1']\n",
    "mu, std = norm.fit(data)\n",
    "\n",
    "# Plot the histogram.\n",
    "plt.hist(data, bins=50, density=True, alpha=0.6, color='b')\n",
    "\n",
    "# Plot the PDF.\n",
    "xmin, xmax = plt.xlim()\n",
    "x = np.linspace(xmin, xmax, 100)\n",
    "p = norm.pdf(x, mu, std)\n",
    "plt.plot(x, p, 'k', linewidth=2)\n",
    "plt.show()"
   ]
  },
  {
   "cell_type": "code",
   "execution_count": 11,
   "metadata": {},
   "outputs": [
    {
     "data": {
      "image/png": "[encoded data removed]",
      "text/plain": [
       "<Figure size 432x288 with 1 Axes>"
      ]
     },
     "metadata": {
      "needs_background": "light"
     },
     "output_type": "display_data"
    }
   ],
   "source": [
    "data = N2_DMSO['centroid-1']\n",
    "mu, std = norm.fit(data)\n",
    "\n",
    "# Plot the histogram.\n",
    "plt.hist(data, bins=50, density=True, alpha=0.6, color='b')\n",
    "\n",
    "# Plot the PDF.\n",
    "xmin, xmax = plt.xlim()\n",
    "x = np.linspace(xmin, xmax, 100)\n",
    "p = norm.pdf(x, mu, std)\n",
    "plt.plot(x, p, 'k', linewidth=2)\n",
    "plt.show()"
   ]
  },
  {
   "cell_type": "markdown",
   "metadata": {},
   "source": [
    "### Looking at CV of DMSO for Fall 2020 and Spring 2021"
   ]
  },
  {
   "cell_type": "code",
   "execution_count": 15,
   "metadata": {},
   "outputs": [],
   "source": [
    "combined = pd.read_csv('/Volumes/LaCie/Controls/combined_DMSO.csv')\n",
    "cv = pd.DataFrame({'Coefficient of Variance' : combined.groupby(['Compound'])['Chemotaxis'].std() / combined.groupby(['Compound'])['Chemotaxis'].mean().abs()})"
   ]
  },
  {
   "cell_type": "code",
   "execution_count": 16,
   "metadata": {},
   "outputs": [
    {
     "data": {
      "text/html": [
       "<div>\n",
       "<style scoped>\n",
       "    .dataframe tbody tr th:only-of-type {\n",
       "        vertical-align: middle;\n",
       "    }\n",
       "\n",
       "    .dataframe tbody tr th {\n",
       "        vertical-align: top;\n",
       "    }\n",
       "\n",
       "    .dataframe thead th {\n",
       "        text-align: right;\n",
       "    }\n",
       "</style>\n",
       "<table border=\"1\" class=\"dataframe\">\n",
       "  <thead>\n",
       "    <tr style=\"text-align: right;\">\n",
       "      <th></th>\n",
       "      <th>Coefficient of Variance</th>\n",
       "    </tr>\n",
       "    <tr>\n",
       "      <th>Compound</th>\n",
       "      <th></th>\n",
       "    </tr>\n",
       "  </thead>\n",
       "  <tbody>\n",
       "    <tr>\n",
       "      <th>DMSO</th>\n",
       "      <td>8.829606</td>\n",
       "    </tr>\n",
       "  </tbody>\n",
       "</table>\n",
       "</div>"
      ],
      "text/plain": [
       "          Coefficient of Variance\n",
       "Compound                         \n",
       "DMSO                     8.829606"
      ]
     },
     "execution_count": 16,
     "metadata": {},
     "output_type": "execute_result"
    }
   ],
   "source": [
    "cv"
   ]
  },
  {
   "cell_type": "code",
   "execution_count": 17,
   "metadata": {},
   "outputs": [
    {
     "data": {
      "text/html": [
       "<div>\n",
       "<style scoped>\n",
       "    .dataframe tbody tr th:only-of-type {\n",
       "        vertical-align: middle;\n",
       "    }\n",
       "\n",
       "    .dataframe tbody tr th {\n",
       "        vertical-align: top;\n",
       "    }\n",
       "\n",
       "    .dataframe thead th {\n",
       "        text-align: right;\n",
       "    }\n",
       "</style>\n",
       "<table border=\"1\" class=\"dataframe\">\n",
       "  <thead>\n",
       "    <tr style=\"text-align: right;\">\n",
       "      <th></th>\n",
       "      <th>Total Worms</th>\n",
       "      <th>Chemotaxis</th>\n",
       "      <th>Compound Name</th>\n",
       "      <th>Filename</th>\n",
       "      <th>Slot</th>\n",
       "      <th>Well</th>\n",
       "      <th>PID</th>\n",
       "      <th>Compound</th>\n",
       "    </tr>\n",
       "  </thead>\n",
       "  <tbody>\n",
       "    <tr>\n",
       "      <th>0</th>\n",
       "      <td>120</td>\n",
       "      <td>-0.010101</td>\n",
       "      <td>DMSO</td>\n",
       "      <td>NPP_201106_02_fin.tif</td>\n",
       "      <td>2</td>\n",
       "      <td>B</td>\n",
       "      <td>NPP_201106_006B</td>\n",
       "      <td>DMSO</td>\n",
       "    </tr>\n",
       "    <tr>\n",
       "      <th>1</th>\n",
       "      <td>226</td>\n",
       "      <td>-0.415385</td>\n",
       "      <td>DMSO</td>\n",
       "      <td>NPP_201030_02_fin.tif</td>\n",
       "      <td>4</td>\n",
       "      <td>A</td>\n",
       "      <td>NPP_201030_008A</td>\n",
       "      <td>DMSO</td>\n",
       "    </tr>\n",
       "    <tr>\n",
       "      <th>2</th>\n",
       "      <td>171</td>\n",
       "      <td>-0.041096</td>\n",
       "      <td>DMSO</td>\n",
       "      <td>NPP_201106_04_fin.tif</td>\n",
       "      <td>1</td>\n",
       "      <td>A</td>\n",
       "      <td>NPP_201106_011A</td>\n",
       "      <td>DMSO</td>\n",
       "    </tr>\n",
       "    <tr>\n",
       "      <th>3</th>\n",
       "      <td>181</td>\n",
       "      <td>0.392857</td>\n",
       "      <td>DMSO</td>\n",
       "      <td>NPP_201030_04_fin.tif</td>\n",
       "      <td>1</td>\n",
       "      <td>C</td>\n",
       "      <td>NPP_201030_011C</td>\n",
       "      <td>DMSO</td>\n",
       "    </tr>\n",
       "    <tr>\n",
       "      <th>4</th>\n",
       "      <td>321</td>\n",
       "      <td>-0.010453</td>\n",
       "      <td>DMSO</td>\n",
       "      <td>NPP_201102_05_fin.tif</td>\n",
       "      <td>2</td>\n",
       "      <td>A</td>\n",
       "      <td>NPP_201102_016A</td>\n",
       "      <td>DMSO</td>\n",
       "    </tr>\n",
       "    <tr>\n",
       "      <th>5</th>\n",
       "      <td>189</td>\n",
       "      <td>-0.090909</td>\n",
       "      <td>DMSO</td>\n",
       "      <td>NPP_201102_01_fin.tif</td>\n",
       "      <td>2</td>\n",
       "      <td>B</td>\n",
       "      <td>NPP_201102_002B</td>\n",
       "      <td>DMSO</td>\n",
       "    </tr>\n",
       "    <tr>\n",
       "      <th>6</th>\n",
       "      <td>203</td>\n",
       "      <td>0.033708</td>\n",
       "      <td>DMSO</td>\n",
       "      <td>NPP_210319_POST_001</td>\n",
       "      <td>4</td>\n",
       "      <td>D</td>\n",
       "      <td>NPP_210319_004</td>\n",
       "      <td>NaN</td>\n",
       "    </tr>\n",
       "    <tr>\n",
       "      <th>7</th>\n",
       "      <td>267</td>\n",
       "      <td>0.154185</td>\n",
       "      <td>DMSO</td>\n",
       "      <td>NPP_210322_POST_006</td>\n",
       "      <td>2</td>\n",
       "      <td>D</td>\n",
       "      <td>NPP_210322_022</td>\n",
       "      <td>NaN</td>\n",
       "    </tr>\n",
       "    <tr>\n",
       "      <th>8</th>\n",
       "      <td>277</td>\n",
       "      <td>0.195312</td>\n",
       "      <td>DMSO</td>\n",
       "      <td>NPP_210325_POST_001</td>\n",
       "      <td>4</td>\n",
       "      <td>D</td>\n",
       "      <td>NPP_210325_004</td>\n",
       "      <td>NaN</td>\n",
       "    </tr>\n",
       "  </tbody>\n",
       "</table>\n",
       "</div>"
      ],
      "text/plain": [
       "   Total Worms  Chemotaxis Compound Name               Filename  Slot Well  \\\n",
       "0          120   -0.010101          DMSO  NPP_201106_02_fin.tif     2    B   \n",
       "1          226   -0.415385          DMSO  NPP_201030_02_fin.tif     4    A   \n",
       "2          171   -0.041096          DMSO  NPP_201106_04_fin.tif     1    A   \n",
       "3          181    0.392857          DMSO  NPP_201030_04_fin.tif     1    C   \n",
       "4          321   -0.010453          DMSO  NPP_201102_05_fin.tif     2    A   \n",
       "5          189   -0.090909          DMSO  NPP_201102_01_fin.tif     2    B   \n",
       "6          203    0.033708          DMSO    NPP_210319_POST_001     4    D   \n",
       "7          267    0.154185          DMSO    NPP_210322_POST_006     2    D   \n",
       "8          277    0.195312          DMSO    NPP_210325_POST_001     4    D   \n",
       "\n",
       "               PID Compound  \n",
       "0  NPP_201106_006B     DMSO  \n",
       "1  NPP_201030_008A     DMSO  \n",
       "2  NPP_201106_011A     DMSO  \n",
       "3  NPP_201030_011C     DMSO  \n",
       "4  NPP_201102_016A     DMSO  \n",
       "5  NPP_201102_002B     DMSO  \n",
       "6   NPP_210319_004      NaN  \n",
       "7   NPP_210322_022      NaN  \n",
       "8   NPP_210325_004      NaN  "
      ]
     },
     "execution_count": 17,
     "metadata": {},
     "output_type": "execute_result"
    }
   ],
   "source": [
    "combined"
   ]
  },
  {
   "cell_type": "code",
   "execution_count": 23,
   "metadata": {},
   "outputs": [],
   "source": [
    "    fin_file = plb.Path('/Volumes/LaCie/Bio301p/Images/NPP_210329_POST_004.tiff')\n",
    "    fin_image = skimage.io.imread(fin_file)"
   ]
  },
  {
   "cell_type": "code",
   "execution_count": 26,
   "metadata": {},
   "outputs": [
    {
     "data": {
      "text/plain": [
       "array([[255, 255, 255, ..., 255, 255, 255],\n",
       "       [255, 255, 255, ..., 255, 255, 255],\n",
       "       [255, 255, 255, ..., 255, 255, 255],\n",
       "       ...,\n",
       "       [255, 255, 255, ..., 255, 255, 255],\n",
       "       [255, 255, 255, ..., 255, 255, 255],\n",
       "       [255, 255, 255, ..., 255, 255, 255]], dtype=uint8)"
      ]
     },
     "execution_count": 26,
     "metadata": {},
     "output_type": "execute_result"
    }
   ],
   "source": [
    "fin_image"
   ]
  },
  {
   "cell_type": "code",
   "execution_count": 30,
   "metadata": {},
   "outputs": [
    {
     "data": {
      "text/plain": [
       "(14039, 10200)"
      ]
     },
     "execution_count": 30,
     "metadata": {},
     "output_type": "execute_result"
    }
   ],
   "source": [
    "fin_image.shape"
   ]
  },
  {
   "cell_type": "markdown",
   "metadata": {},
   "source": [
    "## Creating an estimation plot of all DMSO values for practice"
   ]
  },
  {
   "cell_type": "code",
   "execution_count": 7,
   "metadata": {},
   "outputs": [
    {
     "name": "stdout",
     "output_type": "stream",
     "text": [
      "[3.24990697 3.12934531 2.33031129 2.38810626 3.08502476 2.99266769\n",
      " 2.39047064 3.06663173 2.62424593 2.55488915 3.30198177 3.06949754\n",
      " 3.31305555 3.34169969 3.46764155 3.01558777 3.0013813  3.16610502\n",
      " 3.15838135 2.78986592]\n"
     ]
    }
   ],
   "source": []
  },
  {
   "cell_type": "code",
   "execution_count": null,
   "metadata": {},
   "outputs": [],
   "source": []
  }
 ],
 "metadata": {
  "kernelspec": {
   "display_name": "Python 3",
   "language": "python",
   "name": "python3"
  },
  "language_info": {
   "codemirror_mode": {
    "name": "ipython",
    "version": 3
   },
   "file_extension": ".py",
   "mimetype": "text/x-python",
   "name": "python",
   "nbconvert_exporter": "python",
   "pygments_lexer": "ipython3",
   "version": "3.7.4"
  }
 },
 "nbformat": 4,
 "nbformat_minor": 2
}
