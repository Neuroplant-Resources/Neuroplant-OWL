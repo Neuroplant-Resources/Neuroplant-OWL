{
 "cells": [
  {
   "cell_type": "markdown",
   "metadata": {},
   "source": [
    "## To run the code, make sure that you have the correct file structure:\n",
    "\n",
    "Create a folder where you would like to hold all of the data for analysis, which includes the images, and metadata. Keep track of this file path, you will be asked to provide it to perform the analysis.\n",
    "If you like fill the provideded template metadat '.xlxs' with the exact same name as the image file. For each image file (scan) you need to provide an excel file with same name. \n",
    "All the analysis data will be saved on the metadata '.xlxs' file as different sheets.\n",
    "\n",
    "\n",
    "\n",
    "#### Load Libraries"
   ]
  },
  {
   "cell_type": "code",
   "execution_count": 2,
   "metadata": {},
   "outputs": [],
   "source": [
    "import matplotlib.pyplot as plt\n",
    "import matplotlib.patches as mpatches\n",
    "import numpy as np\n",
    "import pandas as pd\n",
    "from skimage.io import imread\n",
    "from skimage.util import crop\n",
    "from skimage import data\n",
    "from skimage.filters import threshold_otsu\n",
    "from skimage.segmentation import clear_border\n",
    "from skimage.measure import label, regionprops, regionprops_table\n",
    "from skimage.color import label2rgb\n",
    "from skimage import measure\n",
    "from skimage.morphology import closing, square, remove_small_objects\n",
    "#from tifffile import imsave\n",
    "from tkinter import*\n",
    "from tkinter import filedialog\n",
    "import os\n",
    "import glob\n",
    "import os, sys\n",
    "import os, errno\n",
    "import shutil, os\n",
    "\n",
    "\n",
    "import time\n",
    "import skimage\n",
    "from skimage import io\n",
    "from skimage import filters\n",
    "from skimage import feature\n",
    "from skimage import morphology\n",
    "from skimage import exposure\n",
    "import matplotlib as mpl\n",
    "import scipy.stats as stats\n",
    "from scipy import ndimage as ndi\n",
    "import pathlib as plb \n",
    "import csv\n",
    "%matplotlib inline"
   ]
  },
  {
   "cell_type": "markdown",
   "metadata": {},
   "source": [
    "## Determine the files directoty"
   ]
  },
  {
   "cell_type": "code",
   "execution_count": 3,
   "metadata": {},
   "outputs": [],
   "source": [
    "def directoryy():\n",
    "    root = Tk()\n",
    "    root.withdraw()\n",
    "    current_directory = filedialog.askdirectory()\n",
    "    path = os.path.join(current_directory)\n",
    "    %gui tk\n",
    "    print(path)\n",
    " #   path=\"/Users/erezaei/Desktop/Neuroplant-ER_EF_GUI/MY_Test\"\n",
    "    os.chdir(path)\n",
    "    extension = 'tif'\n",
    "    current_di = glob.glob('*.{}'.format(extension))\n",
    "    #print(current_dir)\n",
    "\n",
    "    path_img = path+'/Images'\n",
    "    try:\n",
    "        os.makedirs(path_img)\n",
    "    except OSError as e:\n",
    "        if e.errno != errno.EEXIST:\n",
    "            raise\n",
    "\n",
    "    path_rslt = path+'/automated_results'\n",
    "    try:\n",
    "        os.makedirs(path_rslt)\n",
    "    except OSError as e:\n",
    "        if e.errno != errno.EEXIST:\n",
    "            raise\n",
    "\n",
    "    for f in current_di:\n",
    "        shutil.move(f, path_img)\n",
    "\n",
    "    if not current_di:\n",
    "        os.chdir(path_img)\n",
    "        current_di = glob.glob('*.{}'.format(extension))\n",
    "        print(current_di)\n",
    "        \n",
    "        return current_di,path_rslt,path_img"
   ]
  },
  {
   "cell_type": "code",
   "execution_count": 4,
   "metadata": {},
   "outputs": [],
   "source": [
    "def loopOver(current_di,path_rslt,path_img):\n",
    "    for File_nam in current_di:\n",
    "        \n",
    "        os.chdir(path_img)\n",
    "        image=np.invert(imread(File_nam))\n",
    "        rows = []\n",
    "        # apply threshold\n",
    "        thresh = threshold_otsu(image)\n",
    "        bw = closing(image > thresh, square(10))\n",
    "\n",
    "        # remove artifacts connected to image border\n",
    "        cleared = remove_small_objects(clear_border(bw), 1000000)\n",
    "\n",
    "        # label image regions\n",
    "        label_image = label(cleared)\n",
    "        image_label_overlay = label2rgb(label_image, image=image, bg_label=0)\n",
    "        print(File_nam)\n",
    "        \n",
    "        img_prop(label_image,image,File_nam,path_rslt)  "
   ]
  },
  {
   "cell_type": "code",
   "execution_count": 5,
   "metadata": {},
   "outputs": [],
   "source": [
    "def img_prop(label_image,image,File_nam,path_rslt):\n",
    "    props = regionprops_table(label_image, properties=('label','centroid', 'bbox', 'area'))\n",
    "    dff=pd.DataFrame(props)\n",
    "    df=dff.sort_values(by=['bbox-1'])\n",
    "    df.reset_index(drop=True, inplace=True)\n",
    "    print('test1')\n",
    "    # Sort the plates into the left and right\n",
    "    MinCol=1.1*list(df.items())[4][1][7]\n",
    "    mask = df['bbox-1'] > MinCol\n",
    "    df_r = df[mask]\n",
    "    df_l = df[~mask]\n",
    "\n",
    "    ## Split the right plates to upper (#1) and lower (#4)\n",
    "    dffr=df_r.sort_values(by=['bbox-0'])\n",
    "    dffr.reset_index(drop=True, inplace=True)\n",
    "    MinCol1=1.05*list(dffr.items())[3][1][3]\n",
    "    mask = df_r['bbox-0'] > MinCol1\n",
    "    dff4 = df_r[mask]\n",
    "    dff1 = df_r[~mask]\n",
    "    print('test2')\n",
    "    ### Sort the wells on each plate\n",
    "    df1=dff1.sort_values(by=['bbox-0'])\n",
    "    df4=dff4.sort_values(by=['bbox-0'])\n",
    "    df4.reset_index(drop=True, inplace=True)\n",
    "    df1.reset_index(drop=True, inplace=True)\n",
    "    print('test3')\n",
    "    ## Split the left plates to upper (#2) and lower (#3)\n",
    "    dffl=df_l.sort_values(by=['bbox-0'])\n",
    "    dffl.reset_index(drop=True, inplace=True)\n",
    "    MinCol2=1.05*list(dffl.items())[3][1][3]\n",
    "    mask = df_l['bbox-0'] > MinCol2\n",
    "    dff3 = df_l[mask]\n",
    "    dff2 = df_l[~mask]\n",
    "\n",
    "    ### Sort the wells on each plate\n",
    "    df2=dff2.sort_values(by=['bbox-0'])\n",
    "    df3=dff3.sort_values(by=['bbox-0'])\n",
    "    df3.reset_index(drop=True, inplace=True)\n",
    "    df2.reset_index(drop=True, inplace=True)\n",
    "\n",
    "    ## Update the label of each well\n",
    "    new_label_1 = pd.Series(['1P', '1Q','1R','1S'], name='label', index=[0,1,2,3])\n",
    "    df1.update(new_label_1)\n",
    "\n",
    "    new_label_2 = pd.Series(['2P', '2Q','2R','2S'], name='label', index=[0,1,2,3])\n",
    "    df2.update(new_label_2)\n",
    "\n",
    "    new_label_3 = pd.Series(['3P', '3Q','3R','3S'], name='label', index=[0,1,2,3])\n",
    "    df3.update(new_label_3)\n",
    "\n",
    "    new_label_4 = pd.Series(['4P', '4Q','4R','4S'], name='label', index=[0,1,2,3])\n",
    "    df4.update(new_label_4)\n",
    "    print('test4')\n",
    "    ### Append the dataframes\n",
    "    df_f=df1.append(df2, ignore_index=True).append(df3, ignore_index=True).append(df4, ignore_index=True)\n",
    "    df_f[\"Chemotaxis\"] = np.nan\n",
    "    print(df_f)\n",
    "    loopWell(df_f,image,File_nam,path_rslt)\n",
    "    "
   ]
  },
  {
   "cell_type": "markdown",
   "metadata": {},
   "source": [
    "### Find worms"
   ]
  },
  {
   "cell_type": "code",
   "execution_count": 1,
   "metadata": {},
   "outputs": [
    {
     "ename": "SyntaxError",
     "evalue": "invalid syntax (<ipython-input-1-9ae5ba63dad8>, line 3)",
     "output_type": "error",
     "traceback": [
      "\u001b[0;36m  File \u001b[0;32m\"<ipython-input-1-9ae5ba63dad8>\"\u001b[0;36m, line \u001b[0;32m3\u001b[0m\n\u001b[0;31m    for WellNo in range(len(df_f)):\u001b[0m\n\u001b[0m                                  ^\u001b[0m\n\u001b[0;31mSyntaxError\u001b[0m\u001b[0;31m:\u001b[0m invalid syntax\n"
     ]
    }
   ],
   "source": [
    "def loopWell(df_f,image,File_nam,path_rslt):\n",
    "    \n",
    "    for WellNo in range(len(df_f)):\n",
    "#     fin_image = image[ df_f[][]:Lower_boundary , Left_boundary:Right_boundary ]\n",
    "        fin_image = image[ df_f['bbox-0'][WellNo]:df_f['bbox-2'][WellNo] , df_f['bbox-1'][WellNo]:df_f['bbox-3'][WellNo] ]\n",
    "        \n",
    "        #rows = []\n",
    "        # apply threshold\n",
    "        \n",
    "        #thres = threshold_otsu(fin_image)\n",
    "        #bww = closing(fin_image > thres, square(10))\n",
    "        \n",
    "        thresh = skimage.filters.threshold_li(fin_image)\n",
    "        binarized = fin_image > thresh\n",
    "\n",
    "        # remove artifacts connected to image border\n",
    "        #cleare = remove_small_objects(clear_border(bww), 90)\n",
    "        \n",
    "                ## Find features in binary image\n",
    "        labeled_array, num_features = ndi.label(binarized)\n",
    "        #all_regions = measure.regionprops(label_image=labeled_array, intensity_image=fin_image,\n",
    "        #                                  coordinates='rc')\n",
    "        props_worm = regionprops_table(label_image=labeled_array, properties=('label','centroid', 'area'))\n",
    "        worms=pd.DataFrame(props_worm)\n",
    "        \n",
    "        # label image regions\n",
    "        #label_image = label(cleare)\n",
    "        #image_label_overlayy = label2rgb(label_image, image=fin_image, bg_label=0)\n",
    "        filt_worm=worms[worms['area']<2000]\n",
    "        filtered_worm=filt_worm[filt_worm['area']>10]\n",
    "        print(df_f['label'][WellNo])\n",
    "\n",
    "        #w_df=pd.DataFrame(all_regions)\n",
    "        #filtered_regions = []\n",
    "        #for region in all_regions:\n",
    "          #  area = region.area\n",
    "\n",
    "           # if area >= 90 and area <=1000 and region.major_axis_length < 150:\n",
    "          #      filtered_regions.append(region)\n",
    "        #print(worms)\n",
    "        print(filtered_worm)\n",
    "        calc_chemotaxis_index(df_f,filtered_worm,File_nam,path_rslt,WellNo)\n",
    "        save_worm_locations(df_f,filtered_worm,File_nam,path_rslt,WellNo)\n",
    "    save_Summary(df_f,File_nam)"
   ]
  },
  {
   "cell_type": "code",
   "execution_count": 7,
   "metadata": {},
   "outputs": [],
   "source": [
    "def calc_chemotaxis_index(df_f,filtered_worm,File_nam,path_rslt,WellNo):\n",
    "    \n",
    "    ## Assign features to zones of the plate\n",
    "    left_area_boundary = df_f['bbox-0'][WellNo]+4/9*(df_f['bbox-2'][WellNo]-df_f['bbox-0'][WellNo])#int(3424*4/9) #8000\n",
    "    right_area_boundary = df_f['bbox-0'][WellNo]+5/9*(df_f['bbox-2'][WellNo]-df_f['bbox-0'][WellNo])#int(3424*5/9)\n",
    "\n",
    "    left_side_worms = filtered_worm[filtered_worm['centroid-1'] <= left_area_boundary]\n",
    "    middle_w = filtered_worm[filtered_worm['centroid-1'] < right_area_boundary]\n",
    "    middle_worms = middle_w[middle_w['centroid-1'] >left_area_boundary]\n",
    "    right_side_worms = filtered_worm[filtered_worm['centroid-1'] >= right_area_boundary]\n",
    "\n",
    "    ## Calculate chemotaxis index\n",
    "    worms_in_left_region = len(left_side_worms)\n",
    "    worms_in_middle_region = len(middle_worms)\n",
    "    worms_in_right_region = len(right_side_worms)\n",
    "    total_worms_found = len(filtered_worm)\n",
    "    #print('Left; ' + str(worms_in_left_region) + '   Right: ' + str(worms_in_right_region))\n",
    "\n",
    "    chemotaxis_index = ((worms_in_left_region - worms_in_right_region) \n",
    "                        / (worms_in_left_region + worms_in_right_region))\n",
    "    df_f['Chemotaxis'][WellNo]=chemotaxis_index\n",
    "    print(df_f)"
   ]
  },
  {
   "cell_type": "markdown",
   "metadata": {},
   "source": [
    "### Save worm locations"
   ]
  },
  {
   "cell_type": "code",
   "execution_count": 8,
   "metadata": {},
   "outputs": [],
   "source": [
    "def save_worm_locations(df_f,filtered_worm,File_nam,path_rslt,WellNo):\n",
    "    #os.chdir(path_rslt)\n",
    "    filename = File_nam[0:-4]+'.xlsx'\n",
    "    with pd.ExcelWriter(filename, mode='a') as writer:  \n",
    "        filtered_worm.to_excel(writer, sheet_name=df_f['label'][WellNo])"
   ]
  },
  {
   "cell_type": "code",
   "execution_count": 9,
   "metadata": {},
   "outputs": [],
   "source": [
    "def save_Summary(df_f,File_nam):\n",
    "    #os.chdir(path_rslt)\n",
    "    filename = File_nam[0:-4]+'.xlsx'\n",
    "    with pd.ExcelWriter(filename, mode='a') as writer:  \n",
    "        df_f.to_excel(writer, sheet_name='Sum')"
   ]
  },
  {
   "cell_type": "code",
   "execution_count": 10,
   "metadata": {},
   "outputs": [],
   "source": [
    "def check_num_images():\n",
    "    current_di,path_rslt,path_img= directoryy()\n",
    "    loopOver(current_di,path_rslt,path_img)"
   ]
  },
  {
   "cell_type": "code",
   "execution_count": 14,
   "metadata": {},
   "outputs": [
    {
     "name": "stdout",
     "output_type": "stream",
     "text": [
      "/Users/emilyfryer/Documents/Current_analysis/Images\n",
      "[]\n"
     ]
    }
   ],
   "source": [
    "check_num_images()"
   ]
  },
  {
   "cell_type": "code",
   "execution_count": null,
   "metadata": {},
   "outputs": [],
   "source": []
  },
  {
   "cell_type": "code",
   "execution_count": null,
   "metadata": {},
   "outputs": [],
   "source": []
  },
  {
   "cell_type": "code",
   "execution_count": null,
   "metadata": {},
   "outputs": [],
   "source": []
  }
 ],
 "metadata": {
  "kernelspec": {
   "display_name": "Python 3",
   "language": "python",
   "name": "python3"
  },
  "language_info": {
   "codemirror_mode": {
    "name": "ipython",
    "version": 3
   },
   "file_extension": ".py",
   "mimetype": "text/x-python",
   "name": "python",
   "nbconvert_exporter": "python",
   "pygments_lexer": "ipython3",
   "version": "3.7.4"
  }
 },
 "nbformat": 4,
 "nbformat_minor": 4
}
