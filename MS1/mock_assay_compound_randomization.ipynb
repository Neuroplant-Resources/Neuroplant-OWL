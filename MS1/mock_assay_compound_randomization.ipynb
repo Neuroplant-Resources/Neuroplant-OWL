{
 "cells": [
  {
   "cell_type": "markdown",
   "metadata": {},
   "source": [
    "### This code was used to randomize, blind and map the compounds used in our mock screen"
   ]
  },
  {
   "cell_type": "code",
   "execution_count": 1,
   "metadata": {},
   "outputs": [],
   "source": [
    "import pandas as pd\n",
    "import numpy as np\n",
    "from datetime import date"
   ]
  },
  {
   "cell_type": "markdown",
   "metadata": {},
   "source": [
    "<p> 1. Create a list of letters that represent the rows on a 96 well assay plate </p>"
   ]
  },
  {
   "cell_type": "code",
   "execution_count": 260,
   "metadata": {},
   "outputs": [],
   "source": [
    "lets = np.array(['B', 'C', 'D', 'E', 'F', 'G'])\n",
    "\n",
    "# Extending the list of letters to hold 96 conditions\n",
    "lets = list(np.repeat(lets, [4], axis=0))\n",
    "lets = lets*4"
   ]
  },
  {
   "cell_type": "markdown",
   "metadata": {},
   "source": [
    "<p> 2. Create a list of numbers that represent the columns of a 96 well plate </p>"
   ]
  },
  {
   "cell_type": "code",
   "execution_count": 261,
   "metadata": {},
   "outputs": [],
   "source": [
    "nums = ['2', '3', '4', '5']\n",
    "\n",
    "# Extending the list of numbers to hold 96 conditions\n",
    "nums = nums*24"
   ]
  },
  {
   "cell_type": "markdown",
   "metadata": {},
   "source": [
    "<p> 3. Creating a list of compounds that will be used in our assays. For our actual screens this section will be replaced by code to read in a dataframe of 96 conditons </p>"
   ]
  },
  {
   "cell_type": "code",
   "execution_count": 262,
   "metadata": {},
   "outputs": [],
   "source": [
    "comps = np.array(['IA', 'DI', '2no', 'Benz', 'EMT', 'DMSO'])\n",
    "#Extending the list so that each compound is represented 16 times.\n",
    "comps = list(np.repeat(comps, 16, axis=0))"
   ]
  },
  {
   "cell_type": "markdown",
   "metadata": {},
   "source": [
    "<p> 4. Shuffling the of compounds to randomize their placement."
   ]
  },
  {
   "cell_type": "code",
   "execution_count": 267,
   "metadata": {
    "collapsed": true
   },
   "outputs": [
    {
     "name": "stdout",
     "output_type": "stream",
     "text": [
      "Shuffled List:  ['IA', 'DI', 'DI', 'EMT', 'DI', 'Benz', '2no', '2no', 'Benz', 'DI', 'IA', 'Benz', '2no', '2no', 'IA', '2no', 'DMSO', 'EMT', 'DMSO', 'Benz', 'EMT', 'IA', '2no', 'DMSO', 'EMT', 'DMSO', 'DMSO', 'DI', 'EMT', '2no', 'IA', 'IA', 'DI', 'IA', 'Benz', 'DI', 'DMSO', 'Benz', '2no', 'EMT', 'Benz', 'DMSO', 'DI', 'DMSO', 'Benz', 'DMSO', 'IA', 'EMT', 'EMT', 'IA', 'Benz', 'EMT', 'DMSO', 'IA', 'EMT', 'EMT', 'IA', 'DI', 'Benz', 'DI', 'DMSO', '2no', 'Benz', 'IA', 'DMSO', '2no', 'DI', 'DI', 'IA', 'EMT', '2no', 'DMSO', 'EMT', 'Benz', 'EMT', 'DI', 'DI', 'Benz', 'EMT', 'DMSO', 'DMSO', '2no', 'IA', 'Benz', 'DI', '2no', '2no', 'DMSO', 'IA', '2no', 'Benz', 'DI', 'EMT', '2no', 'Benz', 'IA']\n"
     ]
    }
   ],
   "source": [
    "import random\n",
    " \n",
    "# Get length of List\n",
    "n = len(comps)\n",
    " \n",
    "#repeat the following for n number of times\n",
    "for i in range(n):\n",
    "    #select an index randomly\n",
    "    j = random.randint(0, n-1)\n",
    "    #delete the element at that index.\n",
    "    element=comps.pop(j)\n",
    "    #now append that deleted element to the list\n",
    "    comps.append(element)\n",
    "print(\"Shuffled List: \",comps)"
   ]
  },
  {
   "cell_type": "markdown",
   "metadata": {},
   "source": [
    "#### The following chunks will generate the compound blinding key\n",
    "<p> 5. Combining the lists of compound plate IDs, well IDs and compounds into a dataframe. </p>"
   ]
  },
  {
   "cell_type": "code",
   "execution_count": 268,
   "metadata": {},
   "outputs": [
    {
     "data": {
      "text/html": [
       "<div>\n",
       "<style scoped>\n",
       "    .dataframe tbody tr th:only-of-type {\n",
       "        vertical-align: middle;\n",
       "    }\n",
       "\n",
       "    .dataframe tbody tr th {\n",
       "        vertical-align: top;\n",
       "    }\n",
       "\n",
       "    .dataframe thead th {\n",
       "        text-align: right;\n",
       "    }\n",
       "</style>\n",
       "<table border=\"1\" class=\"dataframe\">\n",
       "  <thead>\n",
       "    <tr style=\"text-align: right;\">\n",
       "      <th></th>\n",
       "      <th>Num</th>\n",
       "      <th>Let</th>\n",
       "      <th>Compounds</th>\n",
       "      <th>Compound Well</th>\n",
       "    </tr>\n",
       "  </thead>\n",
       "  <tbody>\n",
       "    <tr>\n",
       "      <th>0</th>\n",
       "      <td>2</td>\n",
       "      <td>B</td>\n",
       "      <td>IA</td>\n",
       "      <td>2B</td>\n",
       "    </tr>\n",
       "    <tr>\n",
       "      <th>1</th>\n",
       "      <td>3</td>\n",
       "      <td>B</td>\n",
       "      <td>DI</td>\n",
       "      <td>3B</td>\n",
       "    </tr>\n",
       "    <tr>\n",
       "      <th>2</th>\n",
       "      <td>4</td>\n",
       "      <td>B</td>\n",
       "      <td>DI</td>\n",
       "      <td>4B</td>\n",
       "    </tr>\n",
       "    <tr>\n",
       "      <th>3</th>\n",
       "      <td>5</td>\n",
       "      <td>B</td>\n",
       "      <td>EMT</td>\n",
       "      <td>5B</td>\n",
       "    </tr>\n",
       "    <tr>\n",
       "      <th>4</th>\n",
       "      <td>2</td>\n",
       "      <td>C</td>\n",
       "      <td>DI</td>\n",
       "      <td>2C</td>\n",
       "    </tr>\n",
       "  </tbody>\n",
       "</table>\n",
       "</div>"
      ],
      "text/plain": [
       "  Num Let Compounds Compound Well\n",
       "0   2   B        IA            2B\n",
       "1   3   B        DI            3B\n",
       "2   4   B        DI            4B\n",
       "3   5   B       EMT            5B\n",
       "4   2   C        DI            2C"
      ]
     },
     "execution_count": 268,
     "metadata": {},
     "output_type": "execute_result"
    }
   ],
   "source": [
    "compound_locs = pd.DataFrame(list(zip(nums, lets, comps)),\n",
    "               columns =['Num', 'Let', 'Compounds'])\n",
    "compound_locs[\"Compound Well\"] = compound_locs[\"Num\"] + compound_locs[\"Let\"]\n",
    "#compound_locs = compound_locs.drop(['Num', 'Let'], axis=1)\n",
    "compound_locs.head()"
   ]
  },
  {
   "cell_type": "code",
   "execution_count": 269,
   "metadata": {},
   "outputs": [],
   "source": [
    "plate_nums = np.repeat(list(range(1,5)), 24)\n",
    "plate_nums = list(map(str, plate_nums_int))\n",
    "plate_nums = [\"1-\" + num for num in plate_nums]"
   ]
  },
  {
   "cell_type": "code",
   "execution_count": 270,
   "metadata": {
    "scrolled": true
   },
   "outputs": [
    {
     "data": {
      "text/html": [
       "<div>\n",
       "<style scoped>\n",
       "    .dataframe tbody tr th:only-of-type {\n",
       "        vertical-align: middle;\n",
       "    }\n",
       "\n",
       "    .dataframe tbody tr th {\n",
       "        vertical-align: top;\n",
       "    }\n",
       "\n",
       "    .dataframe thead th {\n",
       "        text-align: right;\n",
       "    }\n",
       "</style>\n",
       "<table border=\"1\" class=\"dataframe\">\n",
       "  <thead>\n",
       "    <tr style=\"text-align: right;\">\n",
       "      <th></th>\n",
       "      <th>Num</th>\n",
       "      <th>Let</th>\n",
       "      <th>Compounds</th>\n",
       "      <th>Compound Well</th>\n",
       "      <th>Plate Number</th>\n",
       "    </tr>\n",
       "  </thead>\n",
       "  <tbody>\n",
       "    <tr>\n",
       "      <th>0</th>\n",
       "      <td>2</td>\n",
       "      <td>B</td>\n",
       "      <td>IA</td>\n",
       "      <td>2B</td>\n",
       "      <td>1-1</td>\n",
       "    </tr>\n",
       "    <tr>\n",
       "      <th>1</th>\n",
       "      <td>3</td>\n",
       "      <td>B</td>\n",
       "      <td>DI</td>\n",
       "      <td>3B</td>\n",
       "      <td>1-1</td>\n",
       "    </tr>\n",
       "    <tr>\n",
       "      <th>2</th>\n",
       "      <td>4</td>\n",
       "      <td>B</td>\n",
       "      <td>DI</td>\n",
       "      <td>4B</td>\n",
       "      <td>1-1</td>\n",
       "    </tr>\n",
       "    <tr>\n",
       "      <th>3</th>\n",
       "      <td>5</td>\n",
       "      <td>B</td>\n",
       "      <td>EMT</td>\n",
       "      <td>5B</td>\n",
       "      <td>1-1</td>\n",
       "    </tr>\n",
       "    <tr>\n",
       "      <th>4</th>\n",
       "      <td>2</td>\n",
       "      <td>C</td>\n",
       "      <td>DI</td>\n",
       "      <td>2C</td>\n",
       "      <td>1-1</td>\n",
       "    </tr>\n",
       "  </tbody>\n",
       "</table>\n",
       "</div>"
      ],
      "text/plain": [
       "  Num Let Compounds Compound Well Plate Number\n",
       "0   2   B        IA            2B          1-1\n",
       "1   3   B        DI            3B          1-1\n",
       "2   4   B        DI            4B          1-1\n",
       "3   5   B       EMT            5B          1-1\n",
       "4   2   C        DI            2C          1-1"
      ]
     },
     "execution_count": 270,
     "metadata": {},
     "output_type": "execute_result"
    }
   ],
   "source": [
    "compound_locs['Plate Number'] = plate_nums\n",
    "compound_locs.head()"
   ]
  },
  {
   "cell_type": "code",
   "execution_count": 5,
   "metadata": {},
   "outputs": [],
   "source": [
    "# Saving the dataframe as .csv. Adding the date to the filename to keep track of when\n",
    "# The plate key is generated and to ensure that previously generated files are not \n",
    "# accidently overwritten.\n",
    "\n",
    "date = date.today()\n",
    "\n",
    "#compound_locs.to_csv('/Volumes/LaCie/_2021_08_screen/practice_run/comp_plate_map_' + date + .csv')"
   ]
  },
  {
   "cell_type": "markdown",
   "metadata": {},
   "source": [
    "<p> 6. Since it is easy to lose one's place while adding the working stocks to the compound plates, we also generate individual plate maps. For this screen, we used a total of 4 PCR plates for our working stocks, thus 4 seperate plate maps are generated from the following code. </p>"
   ]
  },
  {
   "cell_type": "code",
   "execution_count": 305,
   "metadata": {},
   "outputs": [],
   "source": [
    "i=1\n",
    "gb = compound_locs.groupby('Plate Number')\n",
    "for group in gb.groups:\n",
    "    gp_name = \"Plate\" + str(i)\n",
    "    hold = gb.get_group(group)\n",
    "    pvt = hold.pivot(index=\"Let\", columns=\"Num\", values=\"Compounds\")\n",
    "    i += 1\n",
    "    #pvt.to_csv('/Volumes/LaCie/_2021_08_screen/practice_run/' + gp_name +'.csv')"
   ]
  },
  {
   "cell_type": "code",
   "execution_count": null,
   "metadata": {},
   "outputs": [],
   "source": []
  }
 ],
 "metadata": {
  "kernelspec": {
   "display_name": "Python 3",
   "language": "python",
   "name": "python3"
  },
  "language_info": {
   "codemirror_mode": {
    "name": "ipython",
    "version": 3
   },
   "file_extension": ".py",
   "mimetype": "text/x-python",
   "name": "python",
   "nbconvert_exporter": "python",
   "pygments_lexer": "ipython3",
   "version": "3.7.4"
  }
 },
 "nbformat": 4,
 "nbformat_minor": 2
}
