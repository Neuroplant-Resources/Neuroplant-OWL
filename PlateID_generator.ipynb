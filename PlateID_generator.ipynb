{
 "cells": [
  {
   "cell_type": "code",
   "execution_count": 1,
   "metadata": {},
   "outputs": [],
   "source": [
    "import pandas as pd"
   ]
  },
  {
   "cell_type": "code",
   "execution_count": 2,
   "metadata": {},
   "outputs": [
    {
     "name": "stdout",
     "output_type": "stream",
     "text": [
      "What is the screen ID?S1\n",
      "How many replicates will you be performing?3\n",
      "How many plates will you be using for each replicate?24\n"
     ]
    }
   ],
   "source": [
    "screenID = input('What is the screen ID?')\n",
    "reps = input('How many replicates will you be performing?')\n",
    "plate_nums = input('How many plates will you be using for each replicate?')"
   ]
  },
  {
   "cell_type": "code",
   "execution_count": null,
   "metadata": {},
   "outputs": [],
   "source": []
  },
  {
   "cell_type": "code",
   "execution_count": 3,
   "metadata": {},
   "outputs": [
    {
     "name": "stdout",
     "output_type": "stream",
     "text": [
      "S1_R1_1\n",
      "S1_R1_2\n",
      "S1_R1_3\n",
      "S1_R1_4\n",
      "S1_R1_5\n",
      "S1_R1_6\n",
      "S1_R1_7\n",
      "S1_R1_8\n",
      "S1_R1_9\n",
      "S1_R1_10\n",
      "S1_R1_11\n",
      "S1_R1_12\n",
      "S1_R1_13\n",
      "S1_R1_14\n",
      "S1_R1_15\n",
      "S1_R1_16\n",
      "S1_R1_17\n",
      "S1_R1_18\n",
      "S1_R1_19\n",
      "S1_R1_20\n",
      "S1_R1_21\n",
      "S1_R1_22\n",
      "S1_R1_23\n",
      "S1_R1_24\n",
      "S1_R2_1\n",
      "S1_R2_2\n",
      "S1_R2_3\n",
      "S1_R2_4\n",
      "S1_R2_5\n",
      "S1_R2_6\n",
      "S1_R2_7\n",
      "S1_R2_8\n",
      "S1_R2_9\n",
      "S1_R2_10\n",
      "S1_R2_11\n",
      "S1_R2_12\n",
      "S1_R2_13\n",
      "S1_R2_14\n",
      "S1_R2_15\n",
      "S1_R2_16\n",
      "S1_R2_17\n",
      "S1_R2_18\n",
      "S1_R2_19\n",
      "S1_R2_20\n",
      "S1_R2_21\n",
      "S1_R2_22\n",
      "S1_R2_23\n",
      "S1_R2_24\n",
      "S1_R3_1\n",
      "S1_R3_2\n",
      "S1_R3_3\n",
      "S1_R3_4\n",
      "S1_R3_5\n",
      "S1_R3_6\n",
      "S1_R3_7\n",
      "S1_R3_8\n",
      "S1_R3_9\n",
      "S1_R3_10\n",
      "S1_R3_11\n",
      "S1_R3_12\n",
      "S1_R3_13\n",
      "S1_R3_14\n",
      "S1_R3_15\n",
      "S1_R3_16\n",
      "S1_R3_17\n",
      "S1_R3_18\n",
      "S1_R3_19\n",
      "S1_R3_20\n",
      "S1_R3_21\n",
      "S1_R3_22\n",
      "S1_R3_23\n",
      "S1_R3_24\n"
     ]
    }
   ],
   "source": [
    "for i in range(1, int(reps)+1):\n",
    "    for j in range(1, int(plate_nums)+1):\n",
    "        pid = screenID + \"_R\" + str(i) + \"_\" + str(j)\n",
    "        print(pid)"
   ]
  },
  {
   "cell_type": "code",
   "execution_count": null,
   "metadata": {},
   "outputs": [],
   "source": []
  }
 ],
 "metadata": {
  "kernelspec": {
   "display_name": "Python 3",
   "language": "python",
   "name": "python3"
  },
  "language_info": {
   "codemirror_mode": {
    "name": "ipython",
    "version": 3
   },
   "file_extension": ".py",
   "mimetype": "text/x-python",
   "name": "python",
   "nbconvert_exporter": "python",
   "pygments_lexer": "ipython3",
   "version": "3.7.4"
  }
 },
 "nbformat": 4,
 "nbformat_minor": 2
}
