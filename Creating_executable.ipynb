{
 "cells": [
  {
   "cell_type": "markdown",
   "metadata": {},
   "source": [
    "## Generating Main Function For Python Executable File"
   ]
  },
  {
   "cell_type": "code",
   "execution_count": 5,
   "metadata": {},
   "outputs": [],
   "source": [
    "import pandas as pd\n",
    "import time\n",
    "import skimage\n",
    "from skimage import io\n",
    "from skimage import feature\n",
    "from skimage import morphology\n",
    "from skimage import measure\n",
    "from skimage import exposure\n",
    "import matplotlib as mpl\n",
    "import matplotlib.pyplot as plt\n",
    "import scipy.stats as stats\n",
    "from scipy import ndimage as ndi\n",
    "import numpy as np\n",
    "import cv2\n",
    "import pathlib as plb\n",
    "import csv \n",
    "import seaborn as sns"
   ]
  },
  {
   "cell_type": "code",
   "execution_count": 20,
   "metadata": {},
   "outputs": [],
   "source": [
    "# Create directory to store results to insure that naming conventions are consistent\n",
    "current_dir = plb.Path.cwd()\n",
    "automated_counts = current_dir.joinpath('automated_results')\n",
    "try:\n",
    "    automated_counts.mkdir()\n",
    "except:\n",
    "    pass"
   ]
  },
  {
   "cell_type": "code",
   "execution_count": 21,
   "metadata": {},
   "outputs": [],
   "source": [
    "image_location = current_dir.joinpath('Images')\n",
    "metadata_location = current_dir.joinpath('metadata')"
   ]
  },
  {
   "cell_type": "code",
   "execution_count": 22,
   "metadata": {},
   "outputs": [
    {
     "name": "stdout",
     "output_type": "stream",
     "text": [
      "Please enter the filename for the image metadata: image_data.csv\n"
     ]
    }
   ],
   "source": [
    "image_metadata_fname = input('Please enter the filename for the image metadata: ')"
   ]
  },
  {
   "cell_type": "code",
   "execution_count": 23,
   "metadata": {},
   "outputs": [
    {
     "name": "stdout",
     "output_type": "stream",
     "text": [
      "Please enter the filename for the batch metadata: feb_batch_data_mod.csv\n"
     ]
    }
   ],
   "source": [
    "batch_metdata_fname = input('Please enter the filename for the batch metadata: ')"
   ]
  },
  {
   "cell_type": "code",
   "execution_count": 25,
   "metadata": {},
   "outputs": [],
   "source": [
    "image_metadata_path = metadata_location.joinpath(image_metadata_fname)\n",
    "batch_metdata_path = metadata_location.joinpath(batch_metdata_fname)"
   ]
  },
  {
   "cell_type": "code",
   "execution_count": 26,
   "metadata": {},
   "outputs": [],
   "source": [
    "image_metadata = pd.read_csv(image_metadata_path)\n",
    "batch_metadata = pd.read_csv(batch_metdata_path)\n",
    "\n",
    "image_metadata.rename(columns={'Name of individual capturing image:': 'imager',\n",
    "                     'Date:': 'date',\n",
    "                     \"Image file name:\": 'filename',\n",
    "                     'Is this the pre or post assay image?': 'pre_fin',\n",
    "                    'Plate number in slot 1:': 'slot1_plate',\n",
    "                     'Plate number in slot 2:': 'slot2_plate',\n",
    "                     'Plate number in slot 3:': 'slot3_plate',\n",
    "                     'Plate number in slot 4:': 'slot4_plate', \n",
    "                               'Compound in slot 1:': 'slot1_compound', \n",
    "                               'Compound in slot 2:': 'slot2_compound', \n",
    "                               'Compound in slot 3:': 'slot3_compound', \n",
    "                               'Compound in slot 4:': 'slot4_compound',}, inplace=True)\n",
    "\n",
    "batch_metadata.rename(columns={'Recorder\\'s Name:': 'recorder',\n",
    "                              'Date:': 'date',\n",
    "                               'Temperature:': 'temp',\n",
    "                              'Humidity:': 'humidity',\n",
    "                              'Date chemotaxis plates were poured:': 'plates_poured',\n",
    "                              'Worm Strain in Well P:': 'strain_wellP',\n",
    "                              'Worm Strain in Well Q:.1': 'strain_wellQ',\n",
    "                              'Worm Strain in Well R:.1': 'strain_wellR',\n",
    "                              'Worm Strain in Well S:.1': 'strain_wellS',\n",
    "                              'dates' : 'dates_modified',}, inplace = True )\n",
    "batch_metadata['dates_modified'] = batch_metadata['dates_modified'].astype(str)"
   ]
  },
  {
   "cell_type": "code",
   "execution_count": null,
   "metadata": {},
   "outputs": [],
   "source": [
    "\n"
   ]
  },
  {
   "cell_type": "code",
   "execution_count": 47,
   "metadata": {},
   "outputs": [],
   "source": [
    "def check_num_images():\n",
    "    all_or_none = input('Would you like to analyze all of the images in the Images folder? Y or N: ')\n",
    "    all_or_none = all_or_none.lower()\n",
    "    if all_or_none == 'y' or all_or_none == 'yes':\n",
    "        %run Image_analysis_masking.ipynb\n",
    "    elif all_or_none == 'n' or all_or_none == 'no':\n",
    "        print('Lame')\n",
    "    else:\n",
    "        print('Please enter a valid response')\n",
    "        check_num_images()"
   ]
  },
  {
   "cell_type": "code",
   "execution_count": 51,
   "metadata": {},
   "outputs": [
    {
     "name": "stdout",
     "output_type": "stream",
     "text": [
      "Would you like to analyze all of the images in the Images folder? Y or N: y\n",
      "Finished everything in 0 seconds.\n"
     ]
    }
   ],
   "source": [
    "check_num_images()"
   ]
  },
  {
   "cell_type": "code",
   "execution_count": null,
   "metadata": {},
   "outputs": [],
   "source": []
  },
  {
   "cell_type": "code",
   "execution_count": null,
   "metadata": {},
   "outputs": [],
   "source": []
  }
 ],
 "metadata": {
  "kernelspec": {
   "display_name": "Python 3",
   "language": "python",
   "name": "python3"
  },
  "language_info": {
   "codemirror_mode": {
    "name": "ipython",
    "version": 3
   },
   "file_extension": ".py",
   "mimetype": "text/x-python",
   "name": "python",
   "nbconvert_exporter": "python",
   "pygments_lexer": "ipython3",
   "version": "3.7.5"
  }
 },
 "nbformat": 4,
 "nbformat_minor": 2
}
